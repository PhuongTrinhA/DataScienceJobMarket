{
 "cells": [
  {
   "cell_type": "markdown",
   "metadata": {},
   "source": [
    "## ANALYSING DATA SCIENCE JOB MARKET \n",
    "This project is to help job seekers better understand data-driven job market in the UK. \n",
    "\n",
    "The dataset included 595 data-driven jobs around the UK from Reed Job board which were posted from late December 2020 to early February 2021. \n",
    "Special thanks to \n",
    "Matt Clarke who shared the dataset. Here is the linkt to the dataset https://www.kaggle.com/devario/uk-data-science-jobs-dataset  \n",
    "\n",
    "Information scraped are Job Title, Date Posted, Date Ending, Advertiser, Location, City, Salary, Salary Min, Salary Max, Description. \n"
   ]
  },
  {
   "cell_type": "code",
   "execution_count": 2,
   "metadata": {},
   "outputs": [
    {
     "data": {
      "text/html": [
       "<style>.container { width:100% !important; }</style>"
      ],
      "text/plain": [
       "<IPython.core.display.HTML object>"
      ]
     },
     "metadata": {},
     "output_type": "display_data"
    }
   ],
   "source": [
    "import pandas as pd\n",
    "import matplotlib.pyplot as plt\n",
    "import seaborn as sns\n",
    "import re\n",
    "import numpy as np\n",
    "\n",
    "from IPython.core.display import display, HTML\n",
    "display(HTML(\"<style>.container { width:100% !important; }</style>\"))\n",
    "\n",
    "pd.options.display.max_colwidth = 400\n"
   ]
  },
  {
   "cell_type": "code",
   "execution_count": 3,
   "metadata": {},
   "outputs": [],
   "source": [
    "UKjobs=pd.read_csv(r'/Users/trinhthivyphuong/Documents/BA - Programming/BEMM458-main/data/deduped-jobs.csv')\n"
   ]
  },
  {
   "cell_type": "code",
   "execution_count": 4,
   "metadata": {},
   "outputs": [
    {
     "data": {
      "text/html": [
       "<div>\n",
       "<style scoped>\n",
       "    .dataframe tbody tr th:only-of-type {\n",
       "        vertical-align: middle;\n",
       "    }\n",
       "\n",
       "    .dataframe tbody tr th {\n",
       "        vertical-align: top;\n",
       "    }\n",
       "\n",
       "    .dataframe thead th {\n",
       "        text-align: right;\n",
       "    }\n",
       "</style>\n",
       "<table border=\"1\" class=\"dataframe\">\n",
       "  <thead>\n",
       "    <tr style=\"text-align: right;\">\n",
       "      <th></th>\n",
       "      <th>reference</th>\n",
       "      <th>title</th>\n",
       "      <th>date_posted</th>\n",
       "      <th>date_ending</th>\n",
       "      <th>advertiser</th>\n",
       "      <th>location</th>\n",
       "      <th>city</th>\n",
       "      <th>country</th>\n",
       "      <th>salary</th>\n",
       "      <th>salary_min</th>\n",
       "      <th>salary_max</th>\n",
       "      <th>salary_frequency</th>\n",
       "      <th>salary_currency</th>\n",
       "      <th>description</th>\n",
       "    </tr>\n",
       "  </thead>\n",
       "  <tbody>\n",
       "    <tr>\n",
       "      <th>0</th>\n",
       "      <td>41715769</td>\n",
       "      <td>Senior Customer Insight Analytics Manager</td>\n",
       "      <td>11/01/2021</td>\n",
       "      <td>2021-02-22T23:55:00.0000000</td>\n",
       "      <td>Harnham</td>\n",
       "      <td>Lancashire</td>\n",
       "      <td>Manchester</td>\n",
       "      <td>GB</td>\n",
       "      <td>10000</td>\n",
       "      <td>10000</td>\n",
       "      <td>200000</td>\n",
       "      <td>YEAR</td>\n",
       "      <td>NaN</td>\n",
       "      <td>Apply now\\nSenior Customer Insight Analytics Manager\\nManchester\\nCompetitive salary depending on experience\\nA global sports with a huge fan base are seeking to expand their analytics function. This brand have millions of customers globally and are one of the well known giants in the sporting industry. They are looking for a new leader of their Analytics &amp; Insight function to be manage a high...</td>\n",
       "    </tr>\n",
       "  </tbody>\n",
       "</table>\n",
       "</div>"
      ],
      "text/plain": [
       "   reference                                      title date_posted  \\\n",
       "0   41715769  Senior Customer Insight Analytics Manager  11/01/2021   \n",
       "\n",
       "                   date_ending advertiser    location        city country  \\\n",
       "0  2021-02-22T23:55:00.0000000    Harnham  Lancashire  Manchester      GB   \n",
       "\n",
       "   salary  salary_min  salary_max salary_frequency  salary_currency  \\\n",
       "0   10000       10000      200000             YEAR              NaN   \n",
       "\n",
       "                                                                                                                                                                                                                                                                                                                                                                                                       description  \n",
       "0  Apply now\\nSenior Customer Insight Analytics Manager\\nManchester\\nCompetitive salary depending on experience\\nA global sports with a huge fan base are seeking to expand their analytics function. This brand have millions of customers globally and are one of the well known giants in the sporting industry. They are looking for a new leader of their Analytics & Insight function to be manage a high...  "
      ]
     },
     "execution_count": 4,
     "metadata": {},
     "output_type": "execute_result"
    }
   ],
   "source": [
    "UKjobs.head(1)"
   ]
  },
  {
   "cell_type": "code",
   "execution_count": 5,
   "metadata": {},
   "outputs": [
    {
     "name": "stdout",
     "output_type": "stream",
     "text": [
      "<class 'pandas.core.frame.DataFrame'>\n",
      "RangeIndex: 595 entries, 0 to 594\n",
      "Data columns (total 14 columns):\n",
      " #   Column            Non-Null Count  Dtype  \n",
      "---  ------            --------------  -----  \n",
      " 0   reference         595 non-null    int64  \n",
      " 1   title             595 non-null    object \n",
      " 2   date_posted       595 non-null    object \n",
      " 3   date_ending       595 non-null    object \n",
      " 4   advertiser        595 non-null    object \n",
      " 5   location          595 non-null    object \n",
      " 6   city              595 non-null    object \n",
      " 7   country           595 non-null    object \n",
      " 8   salary            595 non-null    int64  \n",
      " 9   salary_min        595 non-null    int64  \n",
      " 10  salary_max        595 non-null    int64  \n",
      " 11  salary_frequency  595 non-null    object \n",
      " 12  salary_currency   0 non-null      float64\n",
      " 13  description       595 non-null    object \n",
      "dtypes: float64(1), int64(4), object(9)\n",
      "memory usage: 65.2+ KB\n"
     ]
    }
   ],
   "source": [
    "UKjobs.info()"
   ]
  },
  {
   "cell_type": "code",
   "execution_count": 6,
   "metadata": {},
   "outputs": [
    {
     "data": {
      "text/html": [
       "<div>\n",
       "<style scoped>\n",
       "    .dataframe tbody tr th:only-of-type {\n",
       "        vertical-align: middle;\n",
       "    }\n",
       "\n",
       "    .dataframe tbody tr th {\n",
       "        vertical-align: top;\n",
       "    }\n",
       "\n",
       "    .dataframe thead th {\n",
       "        text-align: right;\n",
       "    }\n",
       "</style>\n",
       "<table border=\"1\" class=\"dataframe\">\n",
       "  <thead>\n",
       "    <tr style=\"text-align: right;\">\n",
       "      <th></th>\n",
       "      <th>salary</th>\n",
       "      <th>salary_min</th>\n",
       "      <th>salary_max</th>\n",
       "    </tr>\n",
       "  </thead>\n",
       "  <tbody>\n",
       "    <tr>\n",
       "      <th>count</th>\n",
       "      <td>595.000000</td>\n",
       "      <td>595.000000</td>\n",
       "      <td>595.000000</td>\n",
       "    </tr>\n",
       "    <tr>\n",
       "      <th>mean</th>\n",
       "      <td>57189.033613</td>\n",
       "      <td>57189.033613</td>\n",
       "      <td>72737.552941</td>\n",
       "    </tr>\n",
       "    <tr>\n",
       "      <th>std</th>\n",
       "      <td>21715.541218</td>\n",
       "      <td>21715.541218</td>\n",
       "      <td>37923.735008</td>\n",
       "    </tr>\n",
       "    <tr>\n",
       "      <th>min</th>\n",
       "      <td>10000.000000</td>\n",
       "      <td>10000.000000</td>\n",
       "      <td>18000.000000</td>\n",
       "    </tr>\n",
       "    <tr>\n",
       "      <th>25%</th>\n",
       "      <td>41000.000000</td>\n",
       "      <td>41000.000000</td>\n",
       "      <td>55000.000000</td>\n",
       "    </tr>\n",
       "    <tr>\n",
       "      <th>50%</th>\n",
       "      <td>55000.000000</td>\n",
       "      <td>55000.000000</td>\n",
       "      <td>70000.000000</td>\n",
       "    </tr>\n",
       "    <tr>\n",
       "      <th>75%</th>\n",
       "      <td>70000.000000</td>\n",
       "      <td>70000.000000</td>\n",
       "      <td>85000.000000</td>\n",
       "    </tr>\n",
       "    <tr>\n",
       "      <th>max</th>\n",
       "      <td>150000.000000</td>\n",
       "      <td>150000.000000</td>\n",
       "      <td>750000.000000</td>\n",
       "    </tr>\n",
       "  </tbody>\n",
       "</table>\n",
       "</div>"
      ],
      "text/plain": [
       "              salary     salary_min     salary_max\n",
       "count     595.000000     595.000000     595.000000\n",
       "mean    57189.033613   57189.033613   72737.552941\n",
       "std     21715.541218   21715.541218   37923.735008\n",
       "min     10000.000000   10000.000000   18000.000000\n",
       "25%     41000.000000   41000.000000   55000.000000\n",
       "50%     55000.000000   55000.000000   70000.000000\n",
       "75%     70000.000000   70000.000000   85000.000000\n",
       "max    150000.000000  150000.000000  750000.000000"
      ]
     },
     "execution_count": 6,
     "metadata": {},
     "output_type": "execute_result"
    }
   ],
   "source": [
    "UKjobs[['salary','salary_min','salary_max']].describe()"
   ]
  },
  {
   "cell_type": "markdown",
   "metadata": {},
   "source": [
    "## 1. Job Level"
   ]
  },
  {
   "cell_type": "markdown",
   "metadata": {},
   "source": [
    "### 1.1 Analytical Level"
   ]
  },
  {
   "cell_type": "code",
   "execution_count": 7,
   "metadata": {},
   "outputs": [
    {
     "data": {
      "text/html": [
       "<div>\n",
       "<style scoped>\n",
       "    .dataframe tbody tr th:only-of-type {\n",
       "        vertical-align: middle;\n",
       "    }\n",
       "\n",
       "    .dataframe tbody tr th {\n",
       "        vertical-align: top;\n",
       "    }\n",
       "\n",
       "    .dataframe thead th {\n",
       "        text-align: right;\n",
       "    }\n",
       "</style>\n",
       "<table border=\"1\" class=\"dataframe\">\n",
       "  <thead>\n",
       "    <tr style=\"text-align: right;\">\n",
       "      <th></th>\n",
       "      <th>count</th>\n",
       "      <th>mean</th>\n",
       "      <th>std</th>\n",
       "      <th>min</th>\n",
       "      <th>25%</th>\n",
       "      <th>50%</th>\n",
       "      <th>75%</th>\n",
       "      <th>max</th>\n",
       "    </tr>\n",
       "    <tr>\n",
       "      <th>Analytical Level</th>\n",
       "      <th></th>\n",
       "      <th></th>\n",
       "      <th></th>\n",
       "      <th></th>\n",
       "      <th></th>\n",
       "      <th></th>\n",
       "      <th></th>\n",
       "      <th></th>\n",
       "    </tr>\n",
       "  </thead>\n",
       "  <tbody>\n",
       "    <tr>\n",
       "      <th>DSAA</th>\n",
       "      <td>311.0</td>\n",
       "      <td>59513.485531</td>\n",
       "      <td>19028.398519</td>\n",
       "      <td>22000.0</td>\n",
       "      <td>45000.0</td>\n",
       "      <td>60000.0</td>\n",
       "      <td>70000.0</td>\n",
       "      <td>150000.0</td>\n",
       "    </tr>\n",
       "    <tr>\n",
       "      <th>Non_DSAA</th>\n",
       "      <td>284.0</td>\n",
       "      <td>54643.595070</td>\n",
       "      <td>24098.164918</td>\n",
       "      <td>10000.0</td>\n",
       "      <td>40000.0</td>\n",
       "      <td>50000.0</td>\n",
       "      <td>65000.0</td>\n",
       "      <td>150000.0</td>\n",
       "    </tr>\n",
       "  </tbody>\n",
       "</table>\n",
       "</div>"
      ],
      "text/plain": [
       "                  count          mean           std      min      25%  \\\n",
       "Analytical Level                                                        \n",
       "DSAA              311.0  59513.485531  19028.398519  22000.0  45000.0   \n",
       "Non_DSAA          284.0  54643.595070  24098.164918  10000.0  40000.0   \n",
       "\n",
       "                      50%      75%       max  \n",
       "Analytical Level                              \n",
       "DSAA              60000.0  70000.0  150000.0  \n",
       "Non_DSAA          50000.0  65000.0  150000.0  "
      ]
     },
     "execution_count": 7,
     "metadata": {},
     "output_type": "execute_result"
    }
   ],
   "source": [
    "# find keywords in job titles\n",
    "DSAA='Data Scientist|Economist|Data Engineer|Biostatistician|Statistician|Financial Quantitative Analyst|Scientist|Engineer'\n",
    "\n",
    "filterDSAA = UKjobs['title'].str.contains(DSAA)\n",
    "\n",
    "UKjobs['Analytical Level']=UKjobs['title'].str.contains(DSAA)\n",
    "#convert a boolean to a string\n",
    "mask = UKjobs.applymap(type) != bool\n",
    "d = {True: 'DSAA', False: 'Non_DSAA'}\n",
    "\n",
    "UKjobs = UKjobs.where(mask, UKjobs.replace(d))\n",
    "UKjobs.groupby('Analytical Level')['salary'].describe()"
   ]
  },
  {
   "cell_type": "code",
   "execution_count": 8,
   "metadata": {},
   "outputs": [
    {
     "data": {
      "image/png": "[encoded data removed]",
      "text/plain": [
       "<Figure size 864x720 with 1 Axes>"
      ]
     },
     "metadata": {
      "needs_background": "light"
     },
     "output_type": "display_data"
    }
   ],
   "source": [
    "# plot the result \n",
    "Analytical_count  = UKjobs['Analytical Level'].value_counts()\n",
    "plt.figure(figsize=(12,10))\n",
    "sns.barplot(Analytical_count.index, Analytical_count.values, alpha=0.8,palette='husl')\n",
    "plt.title('Number of Jobs by Analytical Levels', fontsize=20, color='Green')\n",
    "plt.ylabel('Number of Jobs', fontsize=20)\n",
    "plt.xlabel('Analytical Level', fontsize=20)\n",
    "\n",
    "sns.despine(offset=10)\n",
    "plt.savefig('Figure/Number of Jobs by Analytical Levels.jpg')\n",
    "\n",
    "plt.show()"
   ]
  },
  {
   "cell_type": "code",
   "execution_count": 9,
   "metadata": {},
   "outputs": [
    {
     "data": {
      "image/png": "[encoded data removed]",
      "text/plain": [
       "<Figure size 864x720 with 1 Axes>"
      ]
     },
     "metadata": {
      "needs_background": "light"
     },
     "output_type": "display_data"
    }
   ],
   "source": [
    "# plot the salary range based on Analytical Level\n",
    "\n",
    "fig, ax = plt.subplots(1, figsize=(12,10))\n",
    "\n",
    "ax = sns.boxplot(\n",
    "    x='Analytical Level',\n",
    "    y='salary',\n",
    "    data=UKjobs,\n",
    "    fliersize=0,\n",
    "    palette='husl',order=['DSAA','Non_DSAA'],\n",
    "    ax=ax)\n",
    "\n",
    "ax.set_ylim([10000, 125000])\n",
    "ax.set_ylabel(\"Salary\", fontsize=20)\n",
    "ax.set_xlabel(\"Analytical Level\", fontsize=20)\n",
    "ax.set_title(\"Salary comparison between DSAA Jobs and Non-DSAA Jobs\", fontsize=20, color='Green')\n",
    "\n",
    "sns.despine(offset=10)\n",
    "plt.savefig('Figure/Salary comparison between DSAA Jobs and Non-DSAA Jobs.jpg')\n",
    "plt.show()"
   ]
  },
  {
   "cell_type": "markdown",
   "metadata": {},
   "source": [
    "### 1.2 Experience Level"
   ]
  },
  {
   "cell_type": "code",
   "execution_count": 10,
   "metadata": {},
   "outputs": [
    {
     "data": {
      "text/html": [
       "<div>\n",
       "<style scoped>\n",
       "    .dataframe tbody tr th:only-of-type {\n",
       "        vertical-align: middle;\n",
       "    }\n",
       "\n",
       "    .dataframe tbody tr th {\n",
       "        vertical-align: top;\n",
       "    }\n",
       "\n",
       "    .dataframe thead th {\n",
       "        text-align: right;\n",
       "    }\n",
       "</style>\n",
       "<table border=\"1\" class=\"dataframe\">\n",
       "  <thead>\n",
       "    <tr style=\"text-align: right;\">\n",
       "      <th></th>\n",
       "      <th>count</th>\n",
       "      <th>mean</th>\n",
       "      <th>std</th>\n",
       "      <th>min</th>\n",
       "      <th>25%</th>\n",
       "      <th>50%</th>\n",
       "      <th>75%</th>\n",
       "      <th>max</th>\n",
       "    </tr>\n",
       "    <tr>\n",
       "      <th>Entry_Level</th>\n",
       "      <th></th>\n",
       "      <th></th>\n",
       "      <th></th>\n",
       "      <th></th>\n",
       "      <th></th>\n",
       "      <th></th>\n",
       "      <th></th>\n",
       "      <th></th>\n",
       "    </tr>\n",
       "  </thead>\n",
       "  <tbody>\n",
       "    <tr>\n",
       "      <th>Entry_Level</th>\n",
       "      <td>15.0</td>\n",
       "      <td>27133.333333</td>\n",
       "      <td>6127.999751</td>\n",
       "      <td>18000.0</td>\n",
       "      <td>22500.0</td>\n",
       "      <td>27000.0</td>\n",
       "      <td>30000.0</td>\n",
       "      <td>40000.0</td>\n",
       "    </tr>\n",
       "    <tr>\n",
       "      <th>Non_Entry_Level</th>\n",
       "      <td>580.0</td>\n",
       "      <td>57966.336207</td>\n",
       "      <td>21421.145273</td>\n",
       "      <td>10000.0</td>\n",
       "      <td>45000.0</td>\n",
       "      <td>55000.0</td>\n",
       "      <td>70000.0</td>\n",
       "      <td>150000.0</td>\n",
       "    </tr>\n",
       "  </tbody>\n",
       "</table>\n",
       "</div>"
      ],
      "text/plain": [
       "                 count          mean           std      min      25%      50%  \\\n",
       "Entry_Level                                                                     \n",
       "Entry_Level       15.0  27133.333333   6127.999751  18000.0  22500.0  27000.0   \n",
       "Non_Entry_Level  580.0  57966.336207  21421.145273  10000.0  45000.0  55000.0   \n",
       "\n",
       "                     75%       max  \n",
       "Entry_Level                         \n",
       "Entry_Level      30000.0   40000.0  \n",
       "Non_Entry_Level  70000.0  150000.0  "
      ]
     },
     "execution_count": 10,
     "metadata": {},
     "output_type": "execute_result"
    }
   ],
   "source": [
    "# find entry-level jobs \n",
    "Entry_Level='Graduate|Intern|Junior|Associate|Assistant|Executive|entry|Entry|generalist|graduate|intern|junior'\n",
    "filterG = UKjobs['title'].str.contains(Entry_Level)\n",
    "UKjobs['Entry_Level']=UKjobs['title'].str.contains(Entry_Level)\n",
    "\n",
    "\n",
    "#convert a boolean to a string\n",
    "mask = UKjobs.applymap(type) != bool\n",
    "d = {True: 'Entry_Level', False: 'Non_Entry_Level'}\n",
    "\n",
    "UKjobs = UKjobs.where(mask, UKjobs.replace(d))\n",
    "\n",
    "UKjobs.groupby('Entry_Level')['salary'].describe()"
   ]
  },
  {
   "cell_type": "code",
   "execution_count": null,
   "metadata": {},
   "outputs": [],
   "source": []
  },
  {
   "cell_type": "code",
   "execution_count": 11,
   "metadata": {},
   "outputs": [
    {
     "data": {
      "text/html": [
       "<div>\n",
       "<style scoped>\n",
       "    .dataframe tbody tr th:only-of-type {\n",
       "        vertical-align: middle;\n",
       "    }\n",
       "\n",
       "    .dataframe tbody tr th {\n",
       "        vertical-align: top;\n",
       "    }\n",
       "\n",
       "    .dataframe thead th {\n",
       "        text-align: right;\n",
       "    }\n",
       "</style>\n",
       "<table border=\"1\" class=\"dataframe\">\n",
       "  <thead>\n",
       "    <tr style=\"text-align: right;\">\n",
       "      <th></th>\n",
       "      <th>count</th>\n",
       "      <th>mean</th>\n",
       "      <th>std</th>\n",
       "      <th>min</th>\n",
       "      <th>25%</th>\n",
       "      <th>50%</th>\n",
       "      <th>75%</th>\n",
       "      <th>max</th>\n",
       "    </tr>\n",
       "    <tr>\n",
       "      <th>Experienced_Level</th>\n",
       "      <th></th>\n",
       "      <th></th>\n",
       "      <th></th>\n",
       "      <th></th>\n",
       "      <th></th>\n",
       "      <th></th>\n",
       "      <th></th>\n",
       "      <th></th>\n",
       "    </tr>\n",
       "  </thead>\n",
       "  <tbody>\n",
       "    <tr>\n",
       "      <th>Highly_Experienced</th>\n",
       "      <td>277.0</td>\n",
       "      <td>66356.389892</td>\n",
       "      <td>22644.399223</td>\n",
       "      <td>10000.0</td>\n",
       "      <td>50000.0</td>\n",
       "      <td>65000.0</td>\n",
       "      <td>80000.0</td>\n",
       "      <td>150000.0</td>\n",
       "    </tr>\n",
       "    <tr>\n",
       "      <th>Non_Highly_Experienced</th>\n",
       "      <td>318.0</td>\n",
       "      <td>49203.632075</td>\n",
       "      <td>17313.974693</td>\n",
       "      <td>18000.0</td>\n",
       "      <td>40000.0</td>\n",
       "      <td>45000.0</td>\n",
       "      <td>60000.0</td>\n",
       "      <td>125000.0</td>\n",
       "    </tr>\n",
       "  </tbody>\n",
       "</table>\n",
       "</div>"
      ],
      "text/plain": [
       "                        count          mean           std      min      25%  \\\n",
       "Experienced_Level                                                             \n",
       "Highly_Experienced      277.0  66356.389892  22644.399223  10000.0  50000.0   \n",
       "Non_Highly_Experienced  318.0  49203.632075  17313.974693  18000.0  40000.0   \n",
       "\n",
       "                            50%      75%       max  \n",
       "Experienced_Level                                   \n",
       "Highly_Experienced      65000.0  80000.0  150000.0  \n",
       "Non_Highly_Experienced  45000.0  60000.0  125000.0  "
      ]
     },
     "execution_count": 11,
     "metadata": {},
     "output_type": "execute_result"
    }
   ],
   "source": [
    "# find senior jobs \n",
    "Highly_Experienced='Manager|Senior|Lead|Director|Head|CTO|manager|director|lead|cto|head'\n",
    "\n",
    "filterM = UKjobs['title'].str.contains(Highly_Experienced)\n",
    "UKjobs[filterM].head(2)\n",
    "UKjobs['Experienced_Level']=UKjobs['title'].str.contains(Highly_Experienced)\n",
    "\n",
    "\n",
    "#convert a boolean to a string\n",
    "mask = UKjobs.applymap(type) != bool\n",
    "d = {True: 'Highly_Experienced', False: 'Non_Highly_Experienced'}\n",
    "\n",
    "UKjobs = UKjobs.where(mask, UKjobs.replace(d))\n",
    "UKjobs.groupby(['Experienced_Level'])['salary'].describe()"
   ]
  },
  {
   "cell_type": "code",
   "execution_count": 12,
   "metadata": {},
   "outputs": [],
   "source": [
    "# create a column for all Experience Level\n",
    "UKjobs.loc[(UKjobs['Entry_Level'] == 'Entry_Level') & (UKjobs['Experienced_Level'] != 'Highly_Experienced'), 'Experience Level'] = 'Entry' \n",
    "UKjobs.loc[(UKjobs['Entry_Level'] != 'Entry_Level') & (UKjobs['Experienced_Level'] == 'Highly_Experienced'), 'Experience Level'] = 'Senior or above'\n",
    "UKjobs.loc[(UKjobs['Entry_Level'] != 'Entry_Level') & (UKjobs['Experienced_Level'] != 'Highly_Experienced'), 'Experience Level'] = 'Experienced'  \n"
   ]
  },
  {
   "cell_type": "code",
   "execution_count": 13,
   "metadata": {},
   "outputs": [
    {
     "data": {
      "text/html": [
       "<div>\n",
       "<style scoped>\n",
       "    .dataframe tbody tr th:only-of-type {\n",
       "        vertical-align: middle;\n",
       "    }\n",
       "\n",
       "    .dataframe tbody tr th {\n",
       "        vertical-align: top;\n",
       "    }\n",
       "\n",
       "    .dataframe thead th {\n",
       "        text-align: right;\n",
       "    }\n",
       "</style>\n",
       "<table border=\"1\" class=\"dataframe\">\n",
       "  <thead>\n",
       "    <tr style=\"text-align: right;\">\n",
       "      <th></th>\n",
       "      <th>count</th>\n",
       "      <th>mean</th>\n",
       "      <th>std</th>\n",
       "      <th>min</th>\n",
       "      <th>25%</th>\n",
       "      <th>50%</th>\n",
       "      <th>75%</th>\n",
       "      <th>max</th>\n",
       "    </tr>\n",
       "    <tr>\n",
       "      <th>Experience Level</th>\n",
       "      <th></th>\n",
       "      <th></th>\n",
       "      <th></th>\n",
       "      <th></th>\n",
       "      <th></th>\n",
       "      <th></th>\n",
       "      <th></th>\n",
       "      <th></th>\n",
       "    </tr>\n",
       "  </thead>\n",
       "  <tbody>\n",
       "    <tr>\n",
       "      <th>Entry</th>\n",
       "      <td>15.0</td>\n",
       "      <td>27133.333333</td>\n",
       "      <td>6127.999751</td>\n",
       "      <td>18000.0</td>\n",
       "      <td>22500.0</td>\n",
       "      <td>27000.0</td>\n",
       "      <td>30000.0</td>\n",
       "      <td>40000.0</td>\n",
       "    </tr>\n",
       "    <tr>\n",
       "      <th>Experienced</th>\n",
       "      <td>303.0</td>\n",
       "      <td>50296.221122</td>\n",
       "      <td>16956.738683</td>\n",
       "      <td>18000.0</td>\n",
       "      <td>40000.0</td>\n",
       "      <td>50000.0</td>\n",
       "      <td>60000.0</td>\n",
       "      <td>125000.0</td>\n",
       "    </tr>\n",
       "    <tr>\n",
       "      <th>Senior or above</th>\n",
       "      <td>277.0</td>\n",
       "      <td>66356.389892</td>\n",
       "      <td>22644.399223</td>\n",
       "      <td>10000.0</td>\n",
       "      <td>50000.0</td>\n",
       "      <td>65000.0</td>\n",
       "      <td>80000.0</td>\n",
       "      <td>150000.0</td>\n",
       "    </tr>\n",
       "  </tbody>\n",
       "</table>\n",
       "</div>"
      ],
      "text/plain": [
       "                  count          mean           std      min      25%  \\\n",
       "Experience Level                                                        \n",
       "Entry              15.0  27133.333333   6127.999751  18000.0  22500.0   \n",
       "Experienced       303.0  50296.221122  16956.738683  18000.0  40000.0   \n",
       "Senior or above   277.0  66356.389892  22644.399223  10000.0  50000.0   \n",
       "\n",
       "                      50%      75%       max  \n",
       "Experience Level                              \n",
       "Entry             27000.0  30000.0   40000.0  \n",
       "Experienced       50000.0  60000.0  125000.0  \n",
       "Senior or above   65000.0  80000.0  150000.0  "
      ]
     },
     "execution_count": 13,
     "metadata": {},
     "output_type": "execute_result"
    }
   ],
   "source": [
    "UKjobs.groupby(['Experience Level'])['salary'].describe()"
   ]
  },
  {
   "cell_type": "code",
   "execution_count": 14,
   "metadata": {},
   "outputs": [
    {
     "data": {
      "image/png": "[encoded data removed]",
      "text/plain": [
       "<Figure size 864x720 with 1 Axes>"
      ]
     },
     "metadata": {
      "needs_background": "light"
     },
     "output_type": "display_data"
    }
   ],
   "source": [
    "# plot the Salary range based on Experience Level\n",
    "fig, ax = plt.subplots(1, figsize=(12,10))\n",
    "\n",
    "ax = sns.boxplot(\n",
    "    x='Experience Level',\n",
    "    y='salary',\n",
    "    data=UKjobs,\n",
    "    fliersize=0,\n",
    "    palette='husl', order=['Entry','Experienced','Senior or above'],\n",
    "    ax=ax)\n",
    "\n",
    "ax.set_ylim([10000, 125000])\n",
    "ax.set_ylabel(\"Salary\", fontsize=20)\n",
    "ax.set_xlabel(\"Experience Level\", fontsize=20)\n",
    "ax.set_title(\"Salary comparison between Experience Levels\", fontsize=20, color='Green')\n",
    "\n",
    "sns.despine(offset=10)\n",
    "plt.savefig('Figure/Salary comparison between Experience Levels.jpg')\n",
    "plt.show()"
   ]
  },
  {
   "cell_type": "code",
   "execution_count": 15,
   "metadata": {},
   "outputs": [
    {
     "data": {
      "image/png": "[encoded data removed]",
      "text/plain": [
       "<Figure size 864x720 with 1 Axes>"
      ]
     },
     "metadata": {
      "needs_background": "light"
     },
     "output_type": "display_data"
    }
   ],
   "source": [
    "# plot the number of jobs in different experience levels\n",
    "\n",
    "experience_count  = UKjobs['Experience Level'].value_counts()\n",
    "plt.figure(figsize=(12,10))\n",
    "sns.barplot(experience_count.index, experience_count.values, alpha=0.8,palette='husl',order=['Entry','Experienced','Senior or above'])\n",
    "plt.title('Number of Jobs by Experience Levels', fontsize=20, color='Green')\n",
    "plt.ylabel('Number of Jobs', fontsize=20)\n",
    "plt.xlabel('Experience Level', fontsize=20)\n",
    "sns.despine(offset=10)\n",
    "plt.savefig('Figure/Number of jobs by Experience Levels.jpg')\n",
    "plt.show()"
   ]
  },
  {
   "cell_type": "markdown",
   "metadata": {},
   "source": [
    "### 1.3 Salary comparison between Analytical Level and Experience Level "
   ]
  },
  {
   "cell_type": "code",
   "execution_count": 16,
   "metadata": {},
   "outputs": [
    {
     "data": {
      "text/html": [
       "<div>\n",
       "<style scoped>\n",
       "    .dataframe tbody tr th:only-of-type {\n",
       "        vertical-align: middle;\n",
       "    }\n",
       "\n",
       "    .dataframe tbody tr th {\n",
       "        vertical-align: top;\n",
       "    }\n",
       "\n",
       "    .dataframe thead th {\n",
       "        text-align: right;\n",
       "    }\n",
       "</style>\n",
       "<table border=\"1\" class=\"dataframe\">\n",
       "  <thead>\n",
       "    <tr style=\"text-align: right;\">\n",
       "      <th></th>\n",
       "      <th></th>\n",
       "      <th>count</th>\n",
       "      <th>mean</th>\n",
       "      <th>std</th>\n",
       "      <th>min</th>\n",
       "      <th>25%</th>\n",
       "      <th>50%</th>\n",
       "      <th>75%</th>\n",
       "      <th>max</th>\n",
       "    </tr>\n",
       "    <tr>\n",
       "      <th>Experience Level</th>\n",
       "      <th>Analytical Level</th>\n",
       "      <th></th>\n",
       "      <th></th>\n",
       "      <th></th>\n",
       "      <th></th>\n",
       "      <th></th>\n",
       "      <th></th>\n",
       "      <th></th>\n",
       "      <th></th>\n",
       "    </tr>\n",
       "  </thead>\n",
       "  <tbody>\n",
       "    <tr>\n",
       "      <th rowspan=\"2\" valign=\"top\">Entry</th>\n",
       "      <th>DSAA</th>\n",
       "      <td>7.0</td>\n",
       "      <td>28714.285714</td>\n",
       "      <td>5707.138387</td>\n",
       "      <td>22000.0</td>\n",
       "      <td>26000.0</td>\n",
       "      <td>27000.0</td>\n",
       "      <td>30000.0</td>\n",
       "      <td>40000.0</td>\n",
       "    </tr>\n",
       "    <tr>\n",
       "      <th>Non_DSAA</th>\n",
       "      <td>8.0</td>\n",
       "      <td>25750.000000</td>\n",
       "      <td>6519.202405</td>\n",
       "      <td>18000.0</td>\n",
       "      <td>20000.0</td>\n",
       "      <td>25500.0</td>\n",
       "      <td>29500.0</td>\n",
       "      <td>35000.0</td>\n",
       "    </tr>\n",
       "    <tr>\n",
       "      <th rowspan=\"2\" valign=\"top\">Experienced</th>\n",
       "      <th>DSAA</th>\n",
       "      <td>177.0</td>\n",
       "      <td>54239.491525</td>\n",
       "      <td>16695.537314</td>\n",
       "      <td>23000.0</td>\n",
       "      <td>45000.0</td>\n",
       "      <td>50000.0</td>\n",
       "      <td>60000.0</td>\n",
       "      <td>125000.0</td>\n",
       "    </tr>\n",
       "    <tr>\n",
       "      <th>Non_DSAA</th>\n",
       "      <td>126.0</td>\n",
       "      <td>44756.865079</td>\n",
       "      <td>15787.961182</td>\n",
       "      <td>18000.0</td>\n",
       "      <td>35000.0</td>\n",
       "      <td>45000.0</td>\n",
       "      <td>50000.0</td>\n",
       "      <td>100000.0</td>\n",
       "    </tr>\n",
       "    <tr>\n",
       "      <th rowspan=\"2\" valign=\"top\">Senior or above</th>\n",
       "      <th>DSAA</th>\n",
       "      <td>127.0</td>\n",
       "      <td>68561.448819</td>\n",
       "      <td>18045.493099</td>\n",
       "      <td>38000.0</td>\n",
       "      <td>55000.0</td>\n",
       "      <td>70000.0</td>\n",
       "      <td>80000.0</td>\n",
       "      <td>150000.0</td>\n",
       "    </tr>\n",
       "    <tr>\n",
       "      <th>Non_DSAA</th>\n",
       "      <td>150.0</td>\n",
       "      <td>64489.440000</td>\n",
       "      <td>25822.476075</td>\n",
       "      <td>10000.0</td>\n",
       "      <td>45000.0</td>\n",
       "      <td>60000.0</td>\n",
       "      <td>80000.0</td>\n",
       "      <td>150000.0</td>\n",
       "    </tr>\n",
       "  </tbody>\n",
       "</table>\n",
       "</div>"
      ],
      "text/plain": [
       "                                   count          mean           std      min  \\\n",
       "Experience Level Analytical Level                                               \n",
       "Entry            DSAA                7.0  28714.285714   5707.138387  22000.0   \n",
       "                 Non_DSAA            8.0  25750.000000   6519.202405  18000.0   \n",
       "Experienced      DSAA              177.0  54239.491525  16695.537314  23000.0   \n",
       "                 Non_DSAA          126.0  44756.865079  15787.961182  18000.0   \n",
       "Senior or above  DSAA              127.0  68561.448819  18045.493099  38000.0   \n",
       "                 Non_DSAA          150.0  64489.440000  25822.476075  10000.0   \n",
       "\n",
       "                                       25%      50%      75%       max  \n",
       "Experience Level Analytical Level                                       \n",
       "Entry            DSAA              26000.0  27000.0  30000.0   40000.0  \n",
       "                 Non_DSAA          20000.0  25500.0  29500.0   35000.0  \n",
       "Experienced      DSAA              45000.0  50000.0  60000.0  125000.0  \n",
       "                 Non_DSAA          35000.0  45000.0  50000.0  100000.0  \n",
       "Senior or above  DSAA              55000.0  70000.0  80000.0  150000.0  \n",
       "                 Non_DSAA          45000.0  60000.0  80000.0  150000.0  "
      ]
     },
     "execution_count": 16,
     "metadata": {},
     "output_type": "execute_result"
    }
   ],
   "source": [
    "UKjobs.groupby(['Experience Level','Analytical Level'])['salary'].describe()"
   ]
  },
  {
   "cell_type": "code",
   "execution_count": null,
   "metadata": {},
   "outputs": [],
   "source": []
  },
  {
   "cell_type": "code",
   "execution_count": 17,
   "metadata": {},
   "outputs": [
    {
     "data": {
      "image/png": "[encoded data removed]",
      "text/plain": [
       "<Figure size 864x720 with 1 Axes>"
      ]
     },
     "metadata": {
      "needs_background": "light"
     },
     "output_type": "display_data"
    }
   ],
   "source": [
    "# plot number of jobs divided by Analytical Level \n",
    "fig, ax = plt.subplots(1, figsize=(12,10))\n",
    "ax=sns.countplot(x=\"Experience Level\",hue='Analytical Level', data=UKjobs,order=['Entry','Experienced','Senior or above'],hue_order=['DSAA','Non_DSAA'],palette='husl')\n",
    "ax.set_ylim([0, 200])\n",
    "ax.set_ylabel(\"Number of jobs\", fontsize=20)\n",
    "ax.set_xlabel(\"Experience Level\", fontsize=20)\n",
    "ax.set_title(\"Number of jobs by Analytical Levels and Experience Levels\", fontsize=20, color='Green')\n",
    "sns.despine(offset=10)\n",
    "plt.savefig('Figure/Number of jobs by Analytical Levels and Experience Levels.jpg')\n",
    "plt.show()"
   ]
  },
  {
   "cell_type": "code",
   "execution_count": 18,
   "metadata": {},
   "outputs": [
    {
     "data": {
      "image/png": "[encoded data removed]",
      "text/plain": [
       "<Figure size 864x720 with 1 Axes>"
      ]
     },
     "metadata": {
      "needs_background": "light"
     },
     "output_type": "display_data"
    }
   ],
   "source": [
    "# compare salary range of Analytical Levels and Experience Levels\n",
    "fig, ax = plt.subplots(1, figsize=(12,10))\n",
    "\n",
    "ax = sns.boxplot(\n",
    "    x='Experience Level',\n",
    "    y='salary',\n",
    "    hue='Analytical Level',\n",
    "    data=UKjobs,\n",
    "    fliersize=0,\n",
    "    palette='Paired',order=['Entry','Experienced','Senior or above'], \n",
    "    ax=ax)\n",
    "\n",
    "ax.set_ylim([10000, 125000])\n",
    "ax.set_ylabel(\"Salary\", fontsize=20)\n",
    "ax.set_xlabel(\"Experience Level\", fontsize=20)\n",
    "ax.set_title(\"Salary comparison between DSAA Jobs and Non-DSAA Jobs \\n by Experience Levels\", fontsize=20, color='Purple')\n",
    "\n",
    "sns.despine(offset=10)\n",
    "plt.savefig('Figure/Salary comparison between DSAA Jobs and Non-DSAA Jobs \\n by Experience Levels.jpg')\n",
    "plt.show()"
   ]
  },
  {
   "cell_type": "markdown",
   "metadata": {},
   "source": [
    "## 2. Location"
   ]
  },
  {
   "cell_type": "code",
   "execution_count": 19,
   "metadata": {},
   "outputs": [
    {
     "data": {
      "image/png": "[encoded data removed]",
      "text/plain": [
       "<Figure size 720x360 with 1 Axes>"
      ]
     },
     "metadata": {
      "needs_background": "light"
     },
     "output_type": "display_data"
    }
   ],
   "source": [
    "# plot the number of jobs in top 10 cities in the UK\n",
    "city_count  = UKjobs['city'].value_counts()\n",
    "city_count = city_count[:10,]\n",
    "plt.figure(figsize=(10,5))\n",
    "sns.barplot(city_count.index, city_count.values, alpha=0.8,palette='husl')\n",
    "plt.title('Top 10 cities hiring the most DSSA jobs ', fontsize=17, color='Purple')\n",
    "plt.ylabel('Number of Jobs', fontsize=20)\n",
    "plt.xlabel('City', fontsize=20)\n",
    "plt.savefig('Figure/Top 10 cities hiring the most DSSA jobs.jpg')\n",
    "plt.show()"
   ]
  },
  {
   "cell_type": "code",
   "execution_count": null,
   "metadata": {},
   "outputs": [],
   "source": []
  },
  {
   "cell_type": "code",
   "execution_count": 20,
   "metadata": {},
   "outputs": [
    {
     "data": {
      "text/plain": [
       "London        309\n",
       "Manchester     43\n",
       "Bristol        17\n",
       "Camden         16\n",
       "Birmingham     14\n",
       "Nottingham     11\n",
       "Southwark      11\n",
       "Reading         9\n",
       "Cheltenham      9\n",
       "Uxbridge        9\n",
       "Name: city, dtype: int64"
      ]
     },
     "execution_count": 20,
     "metadata": {},
     "output_type": "execute_result"
    }
   ],
   "source": [
    "number=UKjobs.city.value_counts(normalize=False)[:10]\n",
    "number"
   ]
  },
  {
   "cell_type": "code",
   "execution_count": 23,
   "metadata": {},
   "outputs": [
    {
     "data": {
      "text/plain": [
       "London        0.519328\n",
       "Manchester    0.072269\n",
       "Bristol       0.028571\n",
       "Camden        0.026891\n",
       "Birmingham    0.023529\n",
       "Southwark     0.018487\n",
       "Nottingham    0.018487\n",
       "Reading       0.015126\n",
       "Cheltenham    0.015126\n",
       "Uxbridge      0.015126\n",
       "Name: city, dtype: float64"
      ]
     },
     "execution_count": 23,
     "metadata": {},
     "output_type": "execute_result"
    }
   ],
   "source": [
    "percent=UKjobs.city.value_counts(normalize=True)[:10]\n",
    "percent"
   ]
  },
  {
   "cell_type": "code",
   "execution_count": null,
   "metadata": {},
   "outputs": [],
   "source": []
  },
  {
   "cell_type": "code",
   "execution_count": 21,
   "metadata": {},
   "outputs": [],
   "source": [
    "#add a new column for Capital\n",
    "UKjobs['Capital']=UKjobs['city']=='London'\n",
    "#convert a boolean to a string\n",
    "mask = UKjobs.applymap(type) != bool\n",
    "d = {True: 'London', False: 'Non-London'}\n",
    "\n",
    "UKjobs = UKjobs.where(mask, UKjobs.replace(d))"
   ]
  },
  {
   "cell_type": "code",
   "execution_count": null,
   "metadata": {},
   "outputs": [],
   "source": []
  },
  {
   "cell_type": "code",
   "execution_count": 22,
   "metadata": {},
   "outputs": [
    {
     "data": {
      "image/png": "[encoded data removed]",
      "text/plain": [
       "<Figure size 864x720 with 1 Axes>"
      ]
     },
     "metadata": {
      "needs_background": "light"
     },
     "output_type": "display_data"
    }
   ],
   "source": [
    "# plot the salary range for jobs in London and outside London\n",
    "fig, ax = plt.subplots(1, figsize=(12,10))\n",
    "\n",
    "ax = sns.boxplot(\n",
    "    x='Capital',\n",
    "    y='salary',\n",
    "    data=UKjobs,\n",
    "    fliersize=0,\n",
    "    palette='Paired', \n",
    "    ax=ax)\n",
    "\n",
    "ax.set_ylim([10000, 125000])\n",
    "ax.set_ylabel(\"Salary\", fontsize=18)\n",
    "ax.set_xlabel(\"Location\", fontsize=18)\n",
    "ax.set_title(\"Salary comparison between London Jobs and Non-London Jobs\", fontsize=20, color='Blue')\n",
    "\n",
    "sns.despine(offset=10)\n",
    "plt.savefig('Figure/Salary comparison between London Jobs and Non-London Jobs.jpg')\n",
    "plt.show()"
   ]
  },
  {
   "cell_type": "code",
   "execution_count": 23,
   "metadata": {},
   "outputs": [
    {
     "data": {
      "text/html": [
       "<div>\n",
       "<style scoped>\n",
       "    .dataframe tbody tr th:only-of-type {\n",
       "        vertical-align: middle;\n",
       "    }\n",
       "\n",
       "    .dataframe tbody tr th {\n",
       "        vertical-align: top;\n",
       "    }\n",
       "\n",
       "    .dataframe thead th {\n",
       "        text-align: right;\n",
       "    }\n",
       "</style>\n",
       "<table border=\"1\" class=\"dataframe\">\n",
       "  <thead>\n",
       "    <tr style=\"text-align: right;\">\n",
       "      <th></th>\n",
       "      <th></th>\n",
       "      <th>count</th>\n",
       "      <th>mean</th>\n",
       "      <th>std</th>\n",
       "      <th>min</th>\n",
       "      <th>25%</th>\n",
       "      <th>50%</th>\n",
       "      <th>75%</th>\n",
       "      <th>max</th>\n",
       "    </tr>\n",
       "    <tr>\n",
       "      <th>Capital</th>\n",
       "      <th>Analytical Level</th>\n",
       "      <th></th>\n",
       "      <th></th>\n",
       "      <th></th>\n",
       "      <th></th>\n",
       "      <th></th>\n",
       "      <th></th>\n",
       "      <th></th>\n",
       "      <th></th>\n",
       "    </tr>\n",
       "  </thead>\n",
       "  <tbody>\n",
       "    <tr>\n",
       "      <th rowspan=\"2\" valign=\"top\">London</th>\n",
       "      <th>DSAA</th>\n",
       "      <td>179.0</td>\n",
       "      <td>65098.044693</td>\n",
       "      <td>20070.281263</td>\n",
       "      <td>22000.0</td>\n",
       "      <td>50000.0</td>\n",
       "      <td>60000.0</td>\n",
       "      <td>75000.0</td>\n",
       "      <td>150000.0</td>\n",
       "    </tr>\n",
       "    <tr>\n",
       "      <th>Non_DSAA</th>\n",
       "      <td>130.0</td>\n",
       "      <td>62892.307692</td>\n",
       "      <td>27893.831430</td>\n",
       "      <td>18000.0</td>\n",
       "      <td>45000.0</td>\n",
       "      <td>55000.0</td>\n",
       "      <td>80000.0</td>\n",
       "      <td>150000.0</td>\n",
       "    </tr>\n",
       "    <tr>\n",
       "      <th rowspan=\"2\" valign=\"top\">Non-London</th>\n",
       "      <th>DSAA</th>\n",
       "      <td>132.0</td>\n",
       "      <td>51940.484848</td>\n",
       "      <td>14459.929119</td>\n",
       "      <td>25000.0</td>\n",
       "      <td>40000.0</td>\n",
       "      <td>50000.0</td>\n",
       "      <td>60000.0</td>\n",
       "      <td>85000.0</td>\n",
       "    </tr>\n",
       "    <tr>\n",
       "      <th>Non_DSAA</th>\n",
       "      <td>154.0</td>\n",
       "      <td>47680.396104</td>\n",
       "      <td>17649.728783</td>\n",
       "      <td>10000.0</td>\n",
       "      <td>35750.0</td>\n",
       "      <td>45000.0</td>\n",
       "      <td>55750.0</td>\n",
       "      <td>100000.0</td>\n",
       "    </tr>\n",
       "  </tbody>\n",
       "</table>\n",
       "</div>"
      ],
      "text/plain": [
       "                             count          mean           std      min  \\\n",
       "Capital    Analytical Level                                               \n",
       "London     DSAA              179.0  65098.044693  20070.281263  22000.0   \n",
       "           Non_DSAA          130.0  62892.307692  27893.831430  18000.0   \n",
       "Non-London DSAA              132.0  51940.484848  14459.929119  25000.0   \n",
       "           Non_DSAA          154.0  47680.396104  17649.728783  10000.0   \n",
       "\n",
       "                                 25%      50%      75%       max  \n",
       "Capital    Analytical Level                                       \n",
       "London     DSAA              50000.0  60000.0  75000.0  150000.0  \n",
       "           Non_DSAA          45000.0  55000.0  80000.0  150000.0  \n",
       "Non-London DSAA              40000.0  50000.0  60000.0   85000.0  \n",
       "           Non_DSAA          35750.0  45000.0  55750.0  100000.0  "
      ]
     },
     "execution_count": 23,
     "metadata": {},
     "output_type": "execute_result"
    }
   ],
   "source": [
    "UKjobs.groupby(['Capital','Analytical Level'])['salary'].describe()"
   ]
  },
  {
   "cell_type": "code",
   "execution_count": 24,
   "metadata": {},
   "outputs": [
    {
     "data": {
      "image/png": "[encoded data removed]",
      "text/plain": [
       "<Figure size 576x432 with 1 Axes>"
      ]
     },
     "metadata": {
      "needs_background": "light"
     },
     "output_type": "display_data"
    }
   ],
   "source": [
    "# plot number of jobs divided by Analytical Level \n",
    "fig, ax = plt.subplots(1, figsize=(8,6))\n",
    "ax=sns.countplot(x=\"Capital\",hue='Analytical Level', data=UKjobs,hue_order=['DSAA','Non_DSAA'],palette='husl')\n",
    "ax.set_ylim([0, 200])\n",
    "ax.set_ylabel(\"Number of jobs\", fontsize=18)\n",
    "ax.set_xlabel(\"Are jobs located in London?\", fontsize=18)\n",
    "ax.set_title(\"Number of Jobs by Locations and Analytical Levels\", fontsize=20, color='Green')\n",
    "sns.despine(offset=10)\n",
    "plt.savefig('Figure/Number of Jobs by Locations and Analytical Levels.jpg')\n",
    "plt.show()"
   ]
  },
  {
   "cell_type": "code",
   "execution_count": null,
   "metadata": {},
   "outputs": [],
   "source": []
  },
  {
   "cell_type": "code",
   "execution_count": null,
   "metadata": {},
   "outputs": [],
   "source": []
  },
  {
   "cell_type": "code",
   "execution_count": 26,
   "metadata": {},
   "outputs": [
    {
     "data": {
      "image/png": "[encoded data removed]",
      "text/plain": [
       "<Figure size 864x720 with 1 Axes>"
      ]
     },
     "metadata": {
      "needs_background": "light"
     },
     "output_type": "display_data"
    }
   ],
   "source": [
    "# Plot Salary Range between London Jobs and Non-London Jobs clasified by Analytical Levels\n",
    "\n",
    "fig, ax = plt.subplots(1, figsize=(12,10))\n",
    "\n",
    "ax = sns.boxplot(\n",
    "    x='Analytical Level',\n",
    "    y='salary',\n",
    "    hue='Capital',\n",
    "    data=UKjobs,\n",
    "    fliersize=0,\n",
    "    palette='Paired',\n",
    "    ax=ax)\n",
    "\n",
    "ax.set_ylim([10000, 125000])\n",
    "ax.set_ylabel(\"Salary\", fontsize=18)\n",
    "ax.set_xlabel(\"Analytical Level\", fontsize=18)\n",
    "ax.set_title(\"Salary comparison between London Jobs and Non-London Jobs \\n by Analytical Levels\", fontsize=20, color='Blue')\n",
    "\n",
    "sns.despine(offset=10)\n",
    "plt.savefig('Figure/Salary comparison between London Jobs and Non-London Jobs \\n by Analytical Levels.jpg')\n",
    "plt.show()"
   ]
  },
  {
   "cell_type": "code",
   "execution_count": null,
   "metadata": {},
   "outputs": [],
   "source": []
  },
  {
   "cell_type": "code",
   "execution_count": null,
   "metadata": {},
   "outputs": [],
   "source": []
  },
  {
   "cell_type": "code",
   "execution_count": 27,
   "metadata": {},
   "outputs": [
    {
     "data": {
      "text/html": [
       "<div>\n",
       "<style scoped>\n",
       "    .dataframe tbody tr th:only-of-type {\n",
       "        vertical-align: middle;\n",
       "    }\n",
       "\n",
       "    .dataframe tbody tr th {\n",
       "        vertical-align: top;\n",
       "    }\n",
       "\n",
       "    .dataframe thead th {\n",
       "        text-align: right;\n",
       "    }\n",
       "</style>\n",
       "<table border=\"1\" class=\"dataframe\">\n",
       "  <thead>\n",
       "    <tr style=\"text-align: right;\">\n",
       "      <th></th>\n",
       "      <th></th>\n",
       "      <th>count</th>\n",
       "      <th>mean</th>\n",
       "      <th>std</th>\n",
       "      <th>min</th>\n",
       "      <th>25%</th>\n",
       "      <th>50%</th>\n",
       "      <th>75%</th>\n",
       "      <th>max</th>\n",
       "    </tr>\n",
       "    <tr>\n",
       "      <th>Capital</th>\n",
       "      <th>Experience Level</th>\n",
       "      <th></th>\n",
       "      <th></th>\n",
       "      <th></th>\n",
       "      <th></th>\n",
       "      <th></th>\n",
       "      <th></th>\n",
       "      <th></th>\n",
       "      <th></th>\n",
       "    </tr>\n",
       "  </thead>\n",
       "  <tbody>\n",
       "    <tr>\n",
       "      <th rowspan=\"3\" valign=\"top\">London</th>\n",
       "      <th>Entry</th>\n",
       "      <td>10.0</td>\n",
       "      <td>28100.000000</td>\n",
       "      <td>6349.978128</td>\n",
       "      <td>18000.0</td>\n",
       "      <td>24000.0</td>\n",
       "      <td>28000.0</td>\n",
       "      <td>30000.0</td>\n",
       "      <td>40000.0</td>\n",
       "    </tr>\n",
       "    <tr>\n",
       "      <th>Experienced</th>\n",
       "      <td>134.0</td>\n",
       "      <td>56358.208955</td>\n",
       "      <td>19100.211779</td>\n",
       "      <td>20000.0</td>\n",
       "      <td>45000.0</td>\n",
       "      <td>55000.0</td>\n",
       "      <td>65000.0</td>\n",
       "      <td>125000.0</td>\n",
       "    </tr>\n",
       "    <tr>\n",
       "      <th>Senior or above</th>\n",
       "      <td>165.0</td>\n",
       "      <td>72700.303030</td>\n",
       "      <td>23472.919332</td>\n",
       "      <td>28000.0</td>\n",
       "      <td>60000.0</td>\n",
       "      <td>70000.0</td>\n",
       "      <td>80000.0</td>\n",
       "      <td>150000.0</td>\n",
       "    </tr>\n",
       "    <tr>\n",
       "      <th rowspan=\"3\" valign=\"top\">Non-London</th>\n",
       "      <th>Entry</th>\n",
       "      <td>5.0</td>\n",
       "      <td>25200.000000</td>\n",
       "      <td>5805.170109</td>\n",
       "      <td>20000.0</td>\n",
       "      <td>20000.0</td>\n",
       "      <td>25000.0</td>\n",
       "      <td>27000.0</td>\n",
       "      <td>34000.0</td>\n",
       "    </tr>\n",
       "    <tr>\n",
       "      <th>Experienced</th>\n",
       "      <td>169.0</td>\n",
       "      <td>45489.674556</td>\n",
       "      <td>13247.859734</td>\n",
       "      <td>18000.0</td>\n",
       "      <td>40000.0</td>\n",
       "      <td>45000.0</td>\n",
       "      <td>50000.0</td>\n",
       "      <td>95000.0</td>\n",
       "    </tr>\n",
       "    <tr>\n",
       "      <th>Senior or above</th>\n",
       "      <td>112.0</td>\n",
       "      <td>57010.446429</td>\n",
       "      <td>17691.174913</td>\n",
       "      <td>10000.0</td>\n",
       "      <td>45000.0</td>\n",
       "      <td>55000.0</td>\n",
       "      <td>70000.0</td>\n",
       "      <td>100000.0</td>\n",
       "    </tr>\n",
       "  </tbody>\n",
       "</table>\n",
       "</div>"
      ],
      "text/plain": [
       "                             count          mean           std      min  \\\n",
       "Capital    Experience Level                                               \n",
       "London     Entry              10.0  28100.000000   6349.978128  18000.0   \n",
       "           Experienced       134.0  56358.208955  19100.211779  20000.0   \n",
       "           Senior or above   165.0  72700.303030  23472.919332  28000.0   \n",
       "Non-London Entry               5.0  25200.000000   5805.170109  20000.0   \n",
       "           Experienced       169.0  45489.674556  13247.859734  18000.0   \n",
       "           Senior or above   112.0  57010.446429  17691.174913  10000.0   \n",
       "\n",
       "                                 25%      50%      75%       max  \n",
       "Capital    Experience Level                                       \n",
       "London     Entry             24000.0  28000.0  30000.0   40000.0  \n",
       "           Experienced       45000.0  55000.0  65000.0  125000.0  \n",
       "           Senior or above   60000.0  70000.0  80000.0  150000.0  \n",
       "Non-London Entry             20000.0  25000.0  27000.0   34000.0  \n",
       "           Experienced       40000.0  45000.0  50000.0   95000.0  \n",
       "           Senior or above   45000.0  55000.0  70000.0  100000.0  "
      ]
     },
     "execution_count": 27,
     "metadata": {},
     "output_type": "execute_result"
    }
   ],
   "source": [
    "UKjobs.groupby(['Capital','Experience Level'])['salary'].describe()"
   ]
  },
  {
   "cell_type": "code",
   "execution_count": 28,
   "metadata": {},
   "outputs": [
    {
     "data": {
      "image/png": "[encoded data removed]",
      "text/plain": [
       "<Figure size 576x432 with 1 Axes>"
      ]
     },
     "metadata": {
      "needs_background": "light"
     },
     "output_type": "display_data"
    }
   ],
   "source": [
    "# plot number of jobs divided by Experience Levels\n",
    "\n",
    "fig, ax = plt.subplots(1, figsize=(8,6))\n",
    "ax=sns.countplot(x=\"Capital\",hue='Experience Level', data=UKjobs,hue_order=['Entry','Experienced','Senior or above'],palette='husl')\n",
    "ax.set_ylim([0, 180])\n",
    "ax.set_ylabel(\"Number of jobs\", fontsize=18)\n",
    "ax.set_xlabel(\"Are jobs located in London?\", fontsize=18)\n",
    "ax.set_title(\"Number of Jobs by Locations and Experience Levels\", fontsize=20, color='Green')\n",
    "sns.despine(offset=10)\n",
    "plt.savefig('Figure/Number of Jobs by Locations and Experience Levels.jpg')\n",
    "plt.show()"
   ]
  },
  {
   "cell_type": "code",
   "execution_count": 29,
   "metadata": {},
   "outputs": [
    {
     "data": {
      "image/png": "[encoded data removed]",
      "text/plain": [
       "<Figure size 864x720 with 1 Axes>"
      ]
     },
     "metadata": {
      "needs_background": "light"
     },
     "output_type": "display_data"
    }
   ],
   "source": [
    "# Plot Salary Range between London Jobs and Non-London Jobs clasified by Experience Levels\n",
    "fig, ax = plt.subplots(1, figsize=(12,10))\n",
    "\n",
    "ax = sns.boxplot(\n",
    "    x='Experience Level',\n",
    "    y='salary',\n",
    "    hue='Capital',\n",
    "    data=UKjobs,\n",
    "    fliersize=0,\n",
    "     palette='Paired', order=['Entry','Experienced','Senior or above'],\n",
    "    ax=ax)\n",
    "\n",
    "ax.set_ylim([10000, 125000])\n",
    "ax.set_ylabel(\"Salary\", fontsize=18)\n",
    "ax.set_xlabel(\"Experience Level\", fontsize=18)\n",
    "ax.set_title(\"Salary comparison between London Jobs and Non-London Jobs \\n by Experience Level Categories\", fontsize=20, color='Blue')\n",
    "\n",
    "sns.despine(offset=10)\n",
    "plt.savefig('Figure/Salary comparison between London Jobs and Non-London Jobs by Experience Levels.jpg')\n",
    "plt.show()"
   ]
  },
  {
   "cell_type": "markdown",
   "metadata": {},
   "source": [
    "## 3. Skills"
   ]
  },
  {
   "cell_type": "markdown",
   "metadata": {},
   "source": [
    "### Python"
   ]
  },
  {
   "cell_type": "code",
   "execution_count": 32,
   "metadata": {},
   "outputs": [
    {
     "data": {
      "text/html": [
       "<div>\n",
       "<style scoped>\n",
       "    .dataframe tbody tr th:only-of-type {\n",
       "        vertical-align: middle;\n",
       "    }\n",
       "\n",
       "    .dataframe tbody tr th {\n",
       "        vertical-align: top;\n",
       "    }\n",
       "\n",
       "    .dataframe thead th {\n",
       "        text-align: right;\n",
       "    }\n",
       "</style>\n",
       "<table border=\"1\" class=\"dataframe\">\n",
       "  <thead>\n",
       "    <tr style=\"text-align: right;\">\n",
       "      <th></th>\n",
       "      <th></th>\n",
       "      <th>count</th>\n",
       "      <th>mean</th>\n",
       "      <th>std</th>\n",
       "      <th>min</th>\n",
       "      <th>25%</th>\n",
       "      <th>50%</th>\n",
       "      <th>75%</th>\n",
       "      <th>max</th>\n",
       "    </tr>\n",
       "    <tr>\n",
       "      <th>Python</th>\n",
       "      <th>Analytical Level</th>\n",
       "      <th></th>\n",
       "      <th></th>\n",
       "      <th></th>\n",
       "      <th></th>\n",
       "      <th></th>\n",
       "      <th></th>\n",
       "      <th></th>\n",
       "      <th></th>\n",
       "    </tr>\n",
       "  </thead>\n",
       "  <tbody>\n",
       "    <tr>\n",
       "      <th rowspan=\"2\" valign=\"top\">No</th>\n",
       "      <th>DSAA</th>\n",
       "      <td>73.0</td>\n",
       "      <td>59413.616438</td>\n",
       "      <td>22039.436365</td>\n",
       "      <td>23000.0</td>\n",
       "      <td>45000.0</td>\n",
       "      <td>60000.0</td>\n",
       "      <td>72550.0</td>\n",
       "      <td>150000.0</td>\n",
       "    </tr>\n",
       "    <tr>\n",
       "      <th>Non_DSAA</th>\n",
       "      <td>142.0</td>\n",
       "      <td>54484.373239</td>\n",
       "      <td>25167.033571</td>\n",
       "      <td>18000.0</td>\n",
       "      <td>40000.0</td>\n",
       "      <td>50000.0</td>\n",
       "      <td>68750.0</td>\n",
       "      <td>150000.0</td>\n",
       "    </tr>\n",
       "    <tr>\n",
       "      <th rowspan=\"2\" valign=\"top\">Python</th>\n",
       "      <th>DSAA</th>\n",
       "      <td>238.0</td>\n",
       "      <td>59544.117647</td>\n",
       "      <td>18056.496752</td>\n",
       "      <td>22000.0</td>\n",
       "      <td>45000.0</td>\n",
       "      <td>60000.0</td>\n",
       "      <td>70000.0</td>\n",
       "      <td>125000.0</td>\n",
       "    </tr>\n",
       "    <tr>\n",
       "      <th>Non_DSAA</th>\n",
       "      <td>142.0</td>\n",
       "      <td>54802.816901</td>\n",
       "      <td>23067.966010</td>\n",
       "      <td>10000.0</td>\n",
       "      <td>40000.0</td>\n",
       "      <td>50000.0</td>\n",
       "      <td>65000.0</td>\n",
       "      <td>150000.0</td>\n",
       "    </tr>\n",
       "  </tbody>\n",
       "</table>\n",
       "</div>"
      ],
      "text/plain": [
       "                         count          mean           std      min      25%  \\\n",
       "Python Analytical Level                                                        \n",
       "No     DSAA               73.0  59413.616438  22039.436365  23000.0  45000.0   \n",
       "       Non_DSAA          142.0  54484.373239  25167.033571  18000.0  40000.0   \n",
       "Python DSAA              238.0  59544.117647  18056.496752  22000.0  45000.0   \n",
       "       Non_DSAA          142.0  54802.816901  23067.966010  10000.0  40000.0   \n",
       "\n",
       "                             50%      75%       max  \n",
       "Python Analytical Level                              \n",
       "No     DSAA              60000.0  72550.0  150000.0  \n",
       "       Non_DSAA          50000.0  68750.0  150000.0  \n",
       "Python DSAA              60000.0  70000.0  125000.0  \n",
       "       Non_DSAA          50000.0  65000.0  150000.0  "
      ]
     },
     "execution_count": 32,
     "metadata": {},
     "output_type": "execute_result"
    }
   ],
   "source": [
    "Python='Python|python'\n",
    "\n",
    "UKjobs['Python'] = UKjobs['description'].str.contains(Python)\n",
    "\n",
    "\n",
    "mask = UKjobs.applymap(type) != bool\n",
    "d = {True: 'Python', False: 'No'}\n",
    "\n",
    "UKjobs = UKjobs.where(mask, UKjobs.replace(d))\n",
    "\n",
    "UKjobs.groupby(['Python','Analytical Level'])['salary'].describe()"
   ]
  },
  {
   "cell_type": "code",
   "execution_count": 34,
   "metadata": {},
   "outputs": [
    {
     "data": {
      "text/plain": [
       "<matplotlib.axes._subplots.AxesSubplot at 0x7fecbb68abb0>"
      ]
     },
     "execution_count": 34,
     "metadata": {},
     "output_type": "execute_result"
    },
    {
     "data": {
      "image/png": "[encoded data removed]",
      "text/plain": [
       "<Figure size 432x288 with 1 Axes>"
      ]
     },
     "metadata": {
      "needs_background": "light"
     },
     "output_type": "display_data"
    }
   ],
   "source": [
    "UKjobs.groupby('Analytical Level')['Python'].value_counts().unstack(0).plot.bar()"
   ]
  },
  {
   "cell_type": "markdown",
   "metadata": {},
   "source": [
    "### R"
   ]
  },
  {
   "cell_type": "code",
   "execution_count": 35,
   "metadata": {},
   "outputs": [
    {
     "data": {
      "text/html": [
       "<div>\n",
       "<style scoped>\n",
       "    .dataframe tbody tr th:only-of-type {\n",
       "        vertical-align: middle;\n",
       "    }\n",
       "\n",
       "    .dataframe tbody tr th {\n",
       "        vertical-align: top;\n",
       "    }\n",
       "\n",
       "    .dataframe thead th {\n",
       "        text-align: right;\n",
       "    }\n",
       "</style>\n",
       "<table border=\"1\" class=\"dataframe\">\n",
       "  <thead>\n",
       "    <tr style=\"text-align: right;\">\n",
       "      <th></th>\n",
       "      <th></th>\n",
       "      <th>count</th>\n",
       "      <th>mean</th>\n",
       "      <th>std</th>\n",
       "      <th>min</th>\n",
       "      <th>25%</th>\n",
       "      <th>50%</th>\n",
       "      <th>75%</th>\n",
       "      <th>max</th>\n",
       "    </tr>\n",
       "    <tr>\n",
       "      <th>R</th>\n",
       "      <th>Analytical Level</th>\n",
       "      <th></th>\n",
       "      <th></th>\n",
       "      <th></th>\n",
       "      <th></th>\n",
       "      <th></th>\n",
       "      <th></th>\n",
       "      <th></th>\n",
       "      <th></th>\n",
       "    </tr>\n",
       "  </thead>\n",
       "  <tbody>\n",
       "    <tr>\n",
       "      <th rowspan=\"2\" valign=\"top\">No</th>\n",
       "      <th>DSAA</th>\n",
       "      <td>248.0</td>\n",
       "      <td>61573.362903</td>\n",
       "      <td>19432.352333</td>\n",
       "      <td>22000.0</td>\n",
       "      <td>50000.0</td>\n",
       "      <td>60000.0</td>\n",
       "      <td>75000.0</td>\n",
       "      <td>150000.0</td>\n",
       "    </tr>\n",
       "    <tr>\n",
       "      <th>Non_DSAA</th>\n",
       "      <td>226.0</td>\n",
       "      <td>54523.964602</td>\n",
       "      <td>23421.400211</td>\n",
       "      <td>18000.0</td>\n",
       "      <td>40000.0</td>\n",
       "      <td>50000.0</td>\n",
       "      <td>65000.0</td>\n",
       "      <td>150000.0</td>\n",
       "    </tr>\n",
       "    <tr>\n",
       "      <th rowspan=\"2\" valign=\"top\">R</th>\n",
       "      <th>DSAA</th>\n",
       "      <td>63.0</td>\n",
       "      <td>51404.761905</td>\n",
       "      <td>14907.742398</td>\n",
       "      <td>25000.0</td>\n",
       "      <td>40000.0</td>\n",
       "      <td>50000.0</td>\n",
       "      <td>60000.0</td>\n",
       "      <td>90000.0</td>\n",
       "    </tr>\n",
       "    <tr>\n",
       "      <th>Non_DSAA</th>\n",
       "      <td>58.0</td>\n",
       "      <td>55109.741379</td>\n",
       "      <td>26787.636164</td>\n",
       "      <td>10000.0</td>\n",
       "      <td>40000.0</td>\n",
       "      <td>47500.0</td>\n",
       "      <td>65000.0</td>\n",
       "      <td>150000.0</td>\n",
       "    </tr>\n",
       "  </tbody>\n",
       "</table>\n",
       "</div>"
      ],
      "text/plain": [
       "                     count          mean           std      min      25%  \\\n",
       "R  Analytical Level                                                        \n",
       "No DSAA              248.0  61573.362903  19432.352333  22000.0  50000.0   \n",
       "   Non_DSAA          226.0  54523.964602  23421.400211  18000.0  40000.0   \n",
       "R  DSAA               63.0  51404.761905  14907.742398  25000.0  40000.0   \n",
       "   Non_DSAA           58.0  55109.741379  26787.636164  10000.0  40000.0   \n",
       "\n",
       "                         50%      75%       max  \n",
       "R  Analytical Level                              \n",
       "No DSAA              60000.0  75000.0  150000.0  \n",
       "   Non_DSAA          50000.0  65000.0  150000.0  \n",
       "R  DSAA              50000.0  60000.0   90000.0  \n",
       "   Non_DSAA          47500.0  65000.0  150000.0  "
      ]
     },
     "execution_count": 35,
     "metadata": {},
     "output_type": "execute_result"
    }
   ],
   "source": [
    "R=' R | R+. |R+, |R-language|R-programming| R\\/ |\\/R|R+-|\\-R'\n",
    "UKjobs['R'] = UKjobs['description'].str.contains(R)\n",
    "\n",
    "mask = UKjobs.applymap(type) != bool\n",
    "d = {True: 'R', False: 'No'}\n",
    "\n",
    "UKjobs = UKjobs.where(mask, UKjobs.replace(d))\n",
    "\n",
    "UKjobs.groupby(['R','Analytical Level'])['salary'].describe()"
   ]
  },
  {
   "cell_type": "code",
   "execution_count": 36,
   "metadata": {},
   "outputs": [
    {
     "data": {
      "text/plain": [
       "<matplotlib.axes._subplots.AxesSubplot at 0x7fecbbf2d8e0>"
      ]
     },
     "execution_count": 36,
     "metadata": {},
     "output_type": "execute_result"
    },
    {
     "data": {
      "image/png": "[encoded data removed]",
      "text/plain": [
       "<Figure size 432x288 with 1 Axes>"
      ]
     },
     "metadata": {
      "needs_background": "light"
     },
     "output_type": "display_data"
    }
   ],
   "source": [
    "UKjobs.groupby('Analytical Level')['R'].value_counts().unstack(0).plot.bar()"
   ]
  },
  {
   "cell_type": "code",
   "execution_count": 37,
   "metadata": {},
   "outputs": [
    {
     "data": {
      "text/plain": [
       "<matplotlib.axes._subplots.AxesSubplot at 0x7fecbb5aa040>"
      ]
     },
     "execution_count": 37,
     "metadata": {},
     "output_type": "execute_result"
    },
    {
     "data": {
      "image/png": "[encoded data removed]",
      "text/plain": [
       "<Figure size 432x288 with 1 Axes>"
      ]
     },
     "metadata": {
      "needs_background": "light"
     },
     "output_type": "display_data"
    }
   ],
   "source": [
    "sns.countplot(x=\"R\",hue='Analytical Level', data=UKjobs)\n"
   ]
  },
  {
   "cell_type": "markdown",
   "metadata": {},
   "source": [
    "### SQL"
   ]
  },
  {
   "cell_type": "code",
   "execution_count": 38,
   "metadata": {},
   "outputs": [
    {
     "data": {
      "text/html": [
       "<div>\n",
       "<style scoped>\n",
       "    .dataframe tbody tr th:only-of-type {\n",
       "        vertical-align: middle;\n",
       "    }\n",
       "\n",
       "    .dataframe tbody tr th {\n",
       "        vertical-align: top;\n",
       "    }\n",
       "\n",
       "    .dataframe thead th {\n",
       "        text-align: right;\n",
       "    }\n",
       "</style>\n",
       "<table border=\"1\" class=\"dataframe\">\n",
       "  <thead>\n",
       "    <tr style=\"text-align: right;\">\n",
       "      <th></th>\n",
       "      <th></th>\n",
       "      <th>count</th>\n",
       "      <th>mean</th>\n",
       "      <th>std</th>\n",
       "      <th>min</th>\n",
       "      <th>25%</th>\n",
       "      <th>50%</th>\n",
       "      <th>75%</th>\n",
       "      <th>max</th>\n",
       "    </tr>\n",
       "    <tr>\n",
       "      <th>SQL</th>\n",
       "      <th>Analytical Level</th>\n",
       "      <th></th>\n",
       "      <th></th>\n",
       "      <th></th>\n",
       "      <th></th>\n",
       "      <th></th>\n",
       "      <th></th>\n",
       "      <th></th>\n",
       "      <th></th>\n",
       "    </tr>\n",
       "  </thead>\n",
       "  <tbody>\n",
       "    <tr>\n",
       "      <th rowspan=\"2\" valign=\"top\">No</th>\n",
       "      <th>DSAA</th>\n",
       "      <td>129.0</td>\n",
       "      <td>63199.178295</td>\n",
       "      <td>19581.184254</td>\n",
       "      <td>25000.0</td>\n",
       "      <td>50000.0</td>\n",
       "      <td>60000.0</td>\n",
       "      <td>75000.0</td>\n",
       "      <td>150000.0</td>\n",
       "    </tr>\n",
       "    <tr>\n",
       "      <th>Non_DSAA</th>\n",
       "      <td>156.0</td>\n",
       "      <td>57182.153846</td>\n",
       "      <td>25480.520197</td>\n",
       "      <td>18000.0</td>\n",
       "      <td>40000.0</td>\n",
       "      <td>52500.0</td>\n",
       "      <td>70000.0</td>\n",
       "      <td>150000.0</td>\n",
       "    </tr>\n",
       "    <tr>\n",
       "      <th rowspan=\"2\" valign=\"top\">SQL</th>\n",
       "      <th>DSAA</th>\n",
       "      <td>182.0</td>\n",
       "      <td>56901.098901</td>\n",
       "      <td>18233.025070</td>\n",
       "      <td>22000.0</td>\n",
       "      <td>45000.0</td>\n",
       "      <td>55000.0</td>\n",
       "      <td>70000.0</td>\n",
       "      <td>125000.0</td>\n",
       "    </tr>\n",
       "    <tr>\n",
       "      <th>Non_DSAA</th>\n",
       "      <td>128.0</td>\n",
       "      <td>51549.726562</td>\n",
       "      <td>22001.941882</td>\n",
       "      <td>10000.0</td>\n",
       "      <td>40000.0</td>\n",
       "      <td>45000.0</td>\n",
       "      <td>60000.0</td>\n",
       "      <td>150000.0</td>\n",
       "    </tr>\n",
       "  </tbody>\n",
       "</table>\n",
       "</div>"
      ],
      "text/plain": [
       "                      count          mean           std      min      25%  \\\n",
       "SQL Analytical Level                                                        \n",
       "No  DSAA              129.0  63199.178295  19581.184254  25000.0  50000.0   \n",
       "    Non_DSAA          156.0  57182.153846  25480.520197  18000.0  40000.0   \n",
       "SQL DSAA              182.0  56901.098901  18233.025070  22000.0  45000.0   \n",
       "    Non_DSAA          128.0  51549.726562  22001.941882  10000.0  40000.0   \n",
       "\n",
       "                          50%      75%       max  \n",
       "SQL Analytical Level                              \n",
       "No  DSAA              60000.0  75000.0  150000.0  \n",
       "    Non_DSAA          52500.0  70000.0  150000.0  \n",
       "SQL DSAA              55000.0  70000.0  125000.0  \n",
       "    Non_DSAA          45000.0  60000.0  150000.0  "
      ]
     },
     "execution_count": 38,
     "metadata": {},
     "output_type": "execute_result"
    }
   ],
   "source": [
    "SQL='SQL|sql|PostgreSQL|postgreSQL|MySQL|MSSQL|SQLite'\n",
    "UKjobs['SQL'] = UKjobs['description'].str.contains(SQL)\n",
    "\n",
    "mask = UKjobs.applymap(type) != bool\n",
    "d = {True: 'SQL', False: 'No'}\n",
    "\n",
    "UKjobs = UKjobs.where(mask, UKjobs.replace(d))\n",
    "\n",
    "UKjobs.groupby(['SQL','Analytical Level'])['salary'].describe()\n"
   ]
  },
  {
   "cell_type": "code",
   "execution_count": 39,
   "metadata": {},
   "outputs": [
    {
     "data": {
      "text/plain": [
       "<matplotlib.axes._subplots.AxesSubplot at 0x7fecbbc3ec40>"
      ]
     },
     "execution_count": 39,
     "metadata": {},
     "output_type": "execute_result"
    },
    {
     "data": {
      "image/png": "[encoded data removed]",
      "text/plain": [
       "<Figure size 432x288 with 1 Axes>"
      ]
     },
     "metadata": {
      "needs_background": "light"
     },
     "output_type": "display_data"
    }
   ],
   "source": [
    "UKjobs.groupby('Analytical Level')['SQL'].value_counts().unstack(0).plot.bar()"
   ]
  },
  {
   "cell_type": "markdown",
   "metadata": {},
   "source": [
    "### Data Science"
   ]
  },
  {
   "cell_type": "code",
   "execution_count": 40,
   "metadata": {},
   "outputs": [
    {
     "data": {
      "text/html": [
       "<div>\n",
       "<style scoped>\n",
       "    .dataframe tbody tr th:only-of-type {\n",
       "        vertical-align: middle;\n",
       "    }\n",
       "\n",
       "    .dataframe tbody tr th {\n",
       "        vertical-align: top;\n",
       "    }\n",
       "\n",
       "    .dataframe thead th {\n",
       "        text-align: right;\n",
       "    }\n",
       "</style>\n",
       "<table border=\"1\" class=\"dataframe\">\n",
       "  <thead>\n",
       "    <tr style=\"text-align: right;\">\n",
       "      <th></th>\n",
       "      <th></th>\n",
       "      <th>count</th>\n",
       "      <th>mean</th>\n",
       "      <th>std</th>\n",
       "      <th>min</th>\n",
       "      <th>25%</th>\n",
       "      <th>50%</th>\n",
       "      <th>75%</th>\n",
       "      <th>max</th>\n",
       "    </tr>\n",
       "    <tr>\n",
       "      <th>Data_Science</th>\n",
       "      <th>Analytical Level</th>\n",
       "      <th></th>\n",
       "      <th></th>\n",
       "      <th></th>\n",
       "      <th></th>\n",
       "      <th></th>\n",
       "      <th></th>\n",
       "      <th></th>\n",
       "      <th></th>\n",
       "    </tr>\n",
       "  </thead>\n",
       "  <tbody>\n",
       "    <tr>\n",
       "      <th rowspan=\"2\" valign=\"top\">Data_Science</th>\n",
       "      <th>DSAA</th>\n",
       "      <td>217.0</td>\n",
       "      <td>59117.004608</td>\n",
       "      <td>20133.891106</td>\n",
       "      <td>22000.0</td>\n",
       "      <td>45000.0</td>\n",
       "      <td>60000.0</td>\n",
       "      <td>70000.0</td>\n",
       "      <td>150000.0</td>\n",
       "    </tr>\n",
       "    <tr>\n",
       "      <th>Non_DSAA</th>\n",
       "      <td>231.0</td>\n",
       "      <td>54657.060606</td>\n",
       "      <td>25533.363252</td>\n",
       "      <td>10000.0</td>\n",
       "      <td>40000.0</td>\n",
       "      <td>50000.0</td>\n",
       "      <td>70000.0</td>\n",
       "      <td>150000.0</td>\n",
       "    </tr>\n",
       "    <tr>\n",
       "      <th rowspan=\"2\" valign=\"top\">No</th>\n",
       "      <th>DSAA</th>\n",
       "      <td>94.0</td>\n",
       "      <td>60428.765957</td>\n",
       "      <td>16254.439934</td>\n",
       "      <td>30000.0</td>\n",
       "      <td>50000.0</td>\n",
       "      <td>60000.0</td>\n",
       "      <td>70000.0</td>\n",
       "      <td>110000.0</td>\n",
       "    </tr>\n",
       "    <tr>\n",
       "      <th>Non_DSAA</th>\n",
       "      <td>53.0</td>\n",
       "      <td>54584.905660</td>\n",
       "      <td>16638.040244</td>\n",
       "      <td>25000.0</td>\n",
       "      <td>45000.0</td>\n",
       "      <td>55000.0</td>\n",
       "      <td>60000.0</td>\n",
       "      <td>100000.0</td>\n",
       "    </tr>\n",
       "  </tbody>\n",
       "</table>\n",
       "</div>"
      ],
      "text/plain": [
       "                               count          mean           std      min  \\\n",
       "Data_Science Analytical Level                                               \n",
       "Data_Science DSAA              217.0  59117.004608  20133.891106  22000.0   \n",
       "             Non_DSAA          231.0  54657.060606  25533.363252  10000.0   \n",
       "No           DSAA               94.0  60428.765957  16254.439934  30000.0   \n",
       "             Non_DSAA           53.0  54584.905660  16638.040244  25000.0   \n",
       "\n",
       "                                   25%      50%      75%       max  \n",
       "Data_Science Analytical Level                                       \n",
       "Data_Science DSAA              45000.0  60000.0  70000.0  150000.0  \n",
       "             Non_DSAA          40000.0  50000.0  70000.0  150000.0  \n",
       "No           DSAA              50000.0  60000.0  70000.0  110000.0  \n",
       "             Non_DSAA          45000.0  55000.0  60000.0  100000.0  "
      ]
     },
     "execution_count": 40,
     "metadata": {},
     "output_type": "execute_result"
    }
   ],
   "source": [
    "Data_Science='Data Science|data science|Data science|data science'\n",
    "UKjobs['Data_Science'] = UKjobs['description'].str.contains(Data_Science)\n",
    "\n",
    "mask = UKjobs.applymap(type) != bool\n",
    "d = {True: 'Data_Science', False: 'No'}\n",
    "\n",
    "UKjobs = UKjobs.where(mask, UKjobs.replace(d))\n",
    "\n",
    "UKjobs.groupby(['Data_Science','Analytical Level'])['salary'].describe()"
   ]
  },
  {
   "cell_type": "code",
   "execution_count": 41,
   "metadata": {},
   "outputs": [
    {
     "data": {
      "text/plain": [
       "<matplotlib.axes._subplots.AxesSubplot at 0x7fecbaa046a0>"
      ]
     },
     "execution_count": 41,
     "metadata": {},
     "output_type": "execute_result"
    },
    {
     "data": {
      "image/png": "[encoded data removed]",
      "text/plain": [
       "<Figure size 432x288 with 1 Axes>"
      ]
     },
     "metadata": {
      "needs_background": "light"
     },
     "output_type": "display_data"
    }
   ],
   "source": [
    "UKjobs.groupby('Analytical Level')['Data_Science'].value_counts().unstack(0).plot.bar()"
   ]
  },
  {
   "cell_type": "markdown",
   "metadata": {},
   "source": [
    "### Machine Learning"
   ]
  },
  {
   "cell_type": "code",
   "execution_count": 42,
   "metadata": {},
   "outputs": [
    {
     "data": {
      "text/html": [
       "<div>\n",
       "<style scoped>\n",
       "    .dataframe tbody tr th:only-of-type {\n",
       "        vertical-align: middle;\n",
       "    }\n",
       "\n",
       "    .dataframe tbody tr th {\n",
       "        vertical-align: top;\n",
       "    }\n",
       "\n",
       "    .dataframe thead th {\n",
       "        text-align: right;\n",
       "    }\n",
       "</style>\n",
       "<table border=\"1\" class=\"dataframe\">\n",
       "  <thead>\n",
       "    <tr style=\"text-align: right;\">\n",
       "      <th></th>\n",
       "      <th></th>\n",
       "      <th>count</th>\n",
       "      <th>mean</th>\n",
       "      <th>std</th>\n",
       "      <th>min</th>\n",
       "      <th>25%</th>\n",
       "      <th>50%</th>\n",
       "      <th>75%</th>\n",
       "      <th>max</th>\n",
       "    </tr>\n",
       "    <tr>\n",
       "      <th>Machine_Learning</th>\n",
       "      <th>Analytical Level</th>\n",
       "      <th></th>\n",
       "      <th></th>\n",
       "      <th></th>\n",
       "      <th></th>\n",
       "      <th></th>\n",
       "      <th></th>\n",
       "      <th></th>\n",
       "      <th></th>\n",
       "    </tr>\n",
       "  </thead>\n",
       "  <tbody>\n",
       "    <tr>\n",
       "      <th rowspan=\"2\" valign=\"top\">Machine_Learning</th>\n",
       "      <th>DSAA</th>\n",
       "      <td>144.0</td>\n",
       "      <td>59800.375000</td>\n",
       "      <td>18303.487400</td>\n",
       "      <td>25000.0</td>\n",
       "      <td>50000.0</td>\n",
       "      <td>60000.0</td>\n",
       "      <td>70000.0</td>\n",
       "      <td>125000.0</td>\n",
       "    </tr>\n",
       "    <tr>\n",
       "      <th>Non_DSAA</th>\n",
       "      <td>80.0</td>\n",
       "      <td>61587.500000</td>\n",
       "      <td>29070.709845</td>\n",
       "      <td>25000.0</td>\n",
       "      <td>40000.0</td>\n",
       "      <td>55500.0</td>\n",
       "      <td>75000.0</td>\n",
       "      <td>150000.0</td>\n",
       "    </tr>\n",
       "    <tr>\n",
       "      <th rowspan=\"2\" valign=\"top\">No</th>\n",
       "      <th>DSAA</th>\n",
       "      <td>167.0</td>\n",
       "      <td>59266.107784</td>\n",
       "      <td>19683.518390</td>\n",
       "      <td>22000.0</td>\n",
       "      <td>45000.0</td>\n",
       "      <td>60000.0</td>\n",
       "      <td>71275.0</td>\n",
       "      <td>150000.0</td>\n",
       "    </tr>\n",
       "    <tr>\n",
       "      <th>Non_DSAA</th>\n",
       "      <td>204.0</td>\n",
       "      <td>51920.495098</td>\n",
       "      <td>21312.901201</td>\n",
       "      <td>10000.0</td>\n",
       "      <td>40000.0</td>\n",
       "      <td>50000.0</td>\n",
       "      <td>60000.0</td>\n",
       "      <td>150000.0</td>\n",
       "    </tr>\n",
       "  </tbody>\n",
       "</table>\n",
       "</div>"
      ],
      "text/plain": [
       "                                   count          mean           std      min  \\\n",
       "Machine_Learning Analytical Level                                               \n",
       "Machine_Learning DSAA              144.0  59800.375000  18303.487400  25000.0   \n",
       "                 Non_DSAA           80.0  61587.500000  29070.709845  25000.0   \n",
       "No               DSAA              167.0  59266.107784  19683.518390  22000.0   \n",
       "                 Non_DSAA          204.0  51920.495098  21312.901201  10000.0   \n",
       "\n",
       "                                       25%      50%      75%       max  \n",
       "Machine_Learning Analytical Level                                       \n",
       "Machine_Learning DSAA              50000.0  60000.0  70000.0  125000.0  \n",
       "                 Non_DSAA          40000.0  55500.0  75000.0  150000.0  \n",
       "No               DSAA              45000.0  60000.0  71275.0  150000.0  \n",
       "                 Non_DSAA          40000.0  50000.0  60000.0  150000.0  "
      ]
     },
     "execution_count": 42,
     "metadata": {},
     "output_type": "execute_result"
    }
   ],
   "source": [
    "Machine_Learning='Machine learning|machine learning|Machine Learning'\n",
    "UKjobs['Machine_Learning'] = UKjobs['description'].str.contains(Machine_Learning)\n",
    "\n",
    "mask = UKjobs.applymap(type) != bool\n",
    "d = {True: 'Machine_Learning', False: 'No'}\n",
    "\n",
    "UKjobs = UKjobs.where(mask, UKjobs.replace(d))\n",
    "\n",
    "UKjobs.groupby(['Machine_Learning','Analytical Level'])['salary'].describe()"
   ]
  },
  {
   "cell_type": "code",
   "execution_count": 43,
   "metadata": {},
   "outputs": [
    {
     "data": {
      "text/plain": [
       "<matplotlib.axes._subplots.AxesSubplot at 0x7fecbac15670>"
      ]
     },
     "execution_count": 43,
     "metadata": {},
     "output_type": "execute_result"
    },
    {
     "data": {
      "image/png": "[encoded data removed]",
      "text/plain": [
       "<Figure size 432x288 with 1 Axes>"
      ]
     },
     "metadata": {
      "needs_background": "light"
     },
     "output_type": "display_data"
    }
   ],
   "source": [
    "UKjobs.groupby('Analytical Level')['Machine_Learning'].value_counts().unstack(0).plot.bar()"
   ]
  },
  {
   "cell_type": "markdown",
   "metadata": {},
   "source": [
    "### Visualization"
   ]
  },
  {
   "cell_type": "code",
   "execution_count": 44,
   "metadata": {},
   "outputs": [
    {
     "data": {
      "text/html": [
       "<div>\n",
       "<style scoped>\n",
       "    .dataframe tbody tr th:only-of-type {\n",
       "        vertical-align: middle;\n",
       "    }\n",
       "\n",
       "    .dataframe tbody tr th {\n",
       "        vertical-align: top;\n",
       "    }\n",
       "\n",
       "    .dataframe thead th {\n",
       "        text-align: right;\n",
       "    }\n",
       "</style>\n",
       "<table border=\"1\" class=\"dataframe\">\n",
       "  <thead>\n",
       "    <tr style=\"text-align: right;\">\n",
       "      <th></th>\n",
       "      <th></th>\n",
       "      <th>count</th>\n",
       "      <th>mean</th>\n",
       "      <th>std</th>\n",
       "      <th>min</th>\n",
       "      <th>25%</th>\n",
       "      <th>50%</th>\n",
       "      <th>75%</th>\n",
       "      <th>max</th>\n",
       "    </tr>\n",
       "    <tr>\n",
       "      <th>Visualization</th>\n",
       "      <th>Analytical Level</th>\n",
       "      <th></th>\n",
       "      <th></th>\n",
       "      <th></th>\n",
       "      <th></th>\n",
       "      <th></th>\n",
       "      <th></th>\n",
       "      <th></th>\n",
       "      <th></th>\n",
       "    </tr>\n",
       "  </thead>\n",
       "  <tbody>\n",
       "    <tr>\n",
       "      <th rowspan=\"2\" valign=\"top\">No</th>\n",
       "      <th>DSAA</th>\n",
       "      <td>266.0</td>\n",
       "      <td>60727.218045</td>\n",
       "      <td>18907.367192</td>\n",
       "      <td>22000.0</td>\n",
       "      <td>45000.0</td>\n",
       "      <td>60000.0</td>\n",
       "      <td>70000.0</td>\n",
       "      <td>150000.0</td>\n",
       "    </tr>\n",
       "    <tr>\n",
       "      <th>Non_DSAA</th>\n",
       "      <td>222.0</td>\n",
       "      <td>57209.081081</td>\n",
       "      <td>25838.892810</td>\n",
       "      <td>10000.0</td>\n",
       "      <td>40000.0</td>\n",
       "      <td>50000.0</td>\n",
       "      <td>70000.0</td>\n",
       "      <td>150000.0</td>\n",
       "    </tr>\n",
       "    <tr>\n",
       "      <th rowspan=\"2\" valign=\"top\">Visualization</th>\n",
       "      <th>DSAA</th>\n",
       "      <td>45.0</td>\n",
       "      <td>52338.977778</td>\n",
       "      <td>18341.554750</td>\n",
       "      <td>25000.0</td>\n",
       "      <td>40000.0</td>\n",
       "      <td>50000.0</td>\n",
       "      <td>65000.0</td>\n",
       "      <td>100000.0</td>\n",
       "    </tr>\n",
       "    <tr>\n",
       "      <th>Non_DSAA</th>\n",
       "      <td>62.0</td>\n",
       "      <td>45457.500000</td>\n",
       "      <td>12868.143559</td>\n",
       "      <td>22000.0</td>\n",
       "      <td>36250.0</td>\n",
       "      <td>45000.0</td>\n",
       "      <td>55000.0</td>\n",
       "      <td>80000.0</td>\n",
       "    </tr>\n",
       "  </tbody>\n",
       "</table>\n",
       "</div>"
      ],
      "text/plain": [
       "                                count          mean           std      min  \\\n",
       "Visualization Analytical Level                                               \n",
       "No            DSAA              266.0  60727.218045  18907.367192  22000.0   \n",
       "              Non_DSAA          222.0  57209.081081  25838.892810  10000.0   \n",
       "Visualization DSAA               45.0  52338.977778  18341.554750  25000.0   \n",
       "              Non_DSAA           62.0  45457.500000  12868.143559  22000.0   \n",
       "\n",
       "                                    25%      50%      75%       max  \n",
       "Visualization Analytical Level                                       \n",
       "No            DSAA              45000.0  60000.0  70000.0  150000.0  \n",
       "              Non_DSAA          40000.0  50000.0  70000.0  150000.0  \n",
       "Visualization DSAA              40000.0  50000.0  65000.0  100000.0  \n",
       "              Non_DSAA          36250.0  45000.0  55000.0   80000.0  "
      ]
     },
     "execution_count": 44,
     "metadata": {},
     "output_type": "execute_result"
    }
   ],
   "source": [
    "Visualization='Power BI|power bi|Tableau|Visualisation|data viz|visualisation|visualization|Visualization|visuals|plotly|seaborn|matplotlib|Seaborn|Matplotlib|Visuals'\n",
    "UKjobs['Visualization'] = UKjobs['description'].str.contains(Visualization)\n",
    "\n",
    "mask = UKjobs.applymap(type) != bool\n",
    "d = {True: 'Visualization', False: 'No'}\n",
    "\n",
    "UKjobs = UKjobs.where(mask, UKjobs.replace(d))\n",
    "\n",
    "UKjobs.groupby(['Visualization','Analytical Level'])['salary'].describe()"
   ]
  },
  {
   "cell_type": "code",
   "execution_count": 40,
   "metadata": {},
   "outputs": [
    {
     "data": {
      "text/plain": [
       "<matplotlib.axes._subplots.AxesSubplot at 0x7fdbfbec6190>"
      ]
     },
     "execution_count": 40,
     "metadata": {},
     "output_type": "execute_result"
    },
    {
     "data": {
      "image/png": "[encoded data removed]",
      "text/plain": [
       "<Figure size 432x288 with 1 Axes>"
      ]
     },
     "metadata": {
      "needs_background": "light"
     },
     "output_type": "display_data"
    }
   ],
   "source": [
    "UKjobs.groupby('Analytical Level')['Visualization'].value_counts().unstack(0).plot.bar()"
   ]
  },
  {
   "cell_type": "markdown",
   "metadata": {},
   "source": [
    "### Research"
   ]
  },
  {
   "cell_type": "code",
   "execution_count": 45,
   "metadata": {},
   "outputs": [
    {
     "data": {
      "text/html": [
       "<div>\n",
       "<style scoped>\n",
       "    .dataframe tbody tr th:only-of-type {\n",
       "        vertical-align: middle;\n",
       "    }\n",
       "\n",
       "    .dataframe tbody tr th {\n",
       "        vertical-align: top;\n",
       "    }\n",
       "\n",
       "    .dataframe thead th {\n",
       "        text-align: right;\n",
       "    }\n",
       "</style>\n",
       "<table border=\"1\" class=\"dataframe\">\n",
       "  <thead>\n",
       "    <tr style=\"text-align: right;\">\n",
       "      <th></th>\n",
       "      <th></th>\n",
       "      <th>count</th>\n",
       "      <th>mean</th>\n",
       "      <th>std</th>\n",
       "      <th>min</th>\n",
       "      <th>25%</th>\n",
       "      <th>50%</th>\n",
       "      <th>75%</th>\n",
       "      <th>max</th>\n",
       "    </tr>\n",
       "    <tr>\n",
       "      <th>Research</th>\n",
       "      <th>Analytical Level</th>\n",
       "      <th></th>\n",
       "      <th></th>\n",
       "      <th></th>\n",
       "      <th></th>\n",
       "      <th></th>\n",
       "      <th></th>\n",
       "      <th></th>\n",
       "      <th></th>\n",
       "    </tr>\n",
       "  </thead>\n",
       "  <tbody>\n",
       "    <tr>\n",
       "      <th rowspan=\"2\" valign=\"top\">No</th>\n",
       "      <th>DSAA</th>\n",
       "      <td>262.0</td>\n",
       "      <td>60459.694656</td>\n",
       "      <td>18979.800613</td>\n",
       "      <td>22000.0</td>\n",
       "      <td>45000.0</td>\n",
       "      <td>60000.0</td>\n",
       "      <td>70000.0</td>\n",
       "      <td>150000.0</td>\n",
       "    </tr>\n",
       "    <tr>\n",
       "      <th>Non_DSAA</th>\n",
       "      <td>253.0</td>\n",
       "      <td>54388.794466</td>\n",
       "      <td>24344.183773</td>\n",
       "      <td>10000.0</td>\n",
       "      <td>40000.0</td>\n",
       "      <td>50000.0</td>\n",
       "      <td>65000.0</td>\n",
       "      <td>150000.0</td>\n",
       "    </tr>\n",
       "    <tr>\n",
       "      <th rowspan=\"2\" valign=\"top\">Research</th>\n",
       "      <th>DSAA</th>\n",
       "      <td>49.0</td>\n",
       "      <td>54454.163265</td>\n",
       "      <td>18672.173797</td>\n",
       "      <td>25000.0</td>\n",
       "      <td>40000.0</td>\n",
       "      <td>50000.0</td>\n",
       "      <td>70000.0</td>\n",
       "      <td>110000.0</td>\n",
       "    </tr>\n",
       "    <tr>\n",
       "      <th>Non_DSAA</th>\n",
       "      <td>31.0</td>\n",
       "      <td>56723.096774</td>\n",
       "      <td>22247.561753</td>\n",
       "      <td>18000.0</td>\n",
       "      <td>40000.0</td>\n",
       "      <td>60000.0</td>\n",
       "      <td>75000.0</td>\n",
       "      <td>100000.0</td>\n",
       "    </tr>\n",
       "  </tbody>\n",
       "</table>\n",
       "</div>"
      ],
      "text/plain": [
       "                           count          mean           std      min  \\\n",
       "Research Analytical Level                                               \n",
       "No       DSAA              262.0  60459.694656  18979.800613  22000.0   \n",
       "         Non_DSAA          253.0  54388.794466  24344.183773  10000.0   \n",
       "Research DSAA               49.0  54454.163265  18672.173797  25000.0   \n",
       "         Non_DSAA           31.0  56723.096774  22247.561753  18000.0   \n",
       "\n",
       "                               25%      50%      75%       max  \n",
       "Research Analytical Level                                       \n",
       "No       DSAA              45000.0  60000.0  70000.0  150000.0  \n",
       "         Non_DSAA          40000.0  50000.0  65000.0  150000.0  \n",
       "Research DSAA              40000.0  50000.0  70000.0  110000.0  \n",
       "         Non_DSAA          40000.0  60000.0  75000.0  100000.0  "
      ]
     },
     "execution_count": 45,
     "metadata": {},
     "output_type": "execute_result"
    }
   ],
   "source": [
    "Research='Research|research'\n",
    "UKjobs['Research'] = UKjobs['description'].str.contains(Research)\n",
    "\n",
    "mask = UKjobs.applymap(type) != bool\n",
    "d = {True: 'Research', False: 'No'}\n",
    "\n",
    "UKjobs = UKjobs.where(mask, UKjobs.replace(d))\n",
    "\n",
    "UKjobs.groupby(['Research','Analytical Level'])['salary'].describe()"
   ]
  },
  {
   "cell_type": "code",
   "execution_count": 46,
   "metadata": {},
   "outputs": [
    {
     "data": {
      "text/plain": [
       "<matplotlib.axes._subplots.AxesSubplot at 0x7fecbace1b50>"
      ]
     },
     "execution_count": 46,
     "metadata": {},
     "output_type": "execute_result"
    },
    {
     "data": {
      "image/png": "[encoded data removed]",
      "text/plain": [
       "<Figure size 432x288 with 1 Axes>"
      ]
     },
     "metadata": {
      "needs_background": "light"
     },
     "output_type": "display_data"
    }
   ],
   "source": [
    "UKjobs.groupby('Analytical Level')['Research'].value_counts().unstack(0).plot.bar()"
   ]
  },
  {
   "cell_type": "markdown",
   "metadata": {},
   "source": [
    "### Hadoop"
   ]
  },
  {
   "cell_type": "code",
   "execution_count": 47,
   "metadata": {},
   "outputs": [
    {
     "data": {
      "text/html": [
       "<div>\n",
       "<style scoped>\n",
       "    .dataframe tbody tr th:only-of-type {\n",
       "        vertical-align: middle;\n",
       "    }\n",
       "\n",
       "    .dataframe tbody tr th {\n",
       "        vertical-align: top;\n",
       "    }\n",
       "\n",
       "    .dataframe thead th {\n",
       "        text-align: right;\n",
       "    }\n",
       "</style>\n",
       "<table border=\"1\" class=\"dataframe\">\n",
       "  <thead>\n",
       "    <tr style=\"text-align: right;\">\n",
       "      <th></th>\n",
       "      <th></th>\n",
       "      <th>count</th>\n",
       "      <th>mean</th>\n",
       "      <th>std</th>\n",
       "      <th>min</th>\n",
       "      <th>25%</th>\n",
       "      <th>50%</th>\n",
       "      <th>75%</th>\n",
       "      <th>max</th>\n",
       "    </tr>\n",
       "    <tr>\n",
       "      <th>Hadoop</th>\n",
       "      <th>Analytical Level</th>\n",
       "      <th></th>\n",
       "      <th></th>\n",
       "      <th></th>\n",
       "      <th></th>\n",
       "      <th></th>\n",
       "      <th></th>\n",
       "      <th></th>\n",
       "      <th></th>\n",
       "    </tr>\n",
       "  </thead>\n",
       "  <tbody>\n",
       "    <tr>\n",
       "      <th rowspan=\"2\" valign=\"top\">Hadoop</th>\n",
       "      <th>DSAA</th>\n",
       "      <td>27.0</td>\n",
       "      <td>62037.037037</td>\n",
       "      <td>14758.261002</td>\n",
       "      <td>30000.0</td>\n",
       "      <td>52500.0</td>\n",
       "      <td>60000.0</td>\n",
       "      <td>70000.0</td>\n",
       "      <td>95000.0</td>\n",
       "    </tr>\n",
       "    <tr>\n",
       "      <th>Non_DSAA</th>\n",
       "      <td>4.0</td>\n",
       "      <td>86250.000000</td>\n",
       "      <td>14361.406616</td>\n",
       "      <td>65000.0</td>\n",
       "      <td>83750.0</td>\n",
       "      <td>92500.0</td>\n",
       "      <td>95000.0</td>\n",
       "      <td>95000.0</td>\n",
       "    </tr>\n",
       "    <tr>\n",
       "      <th rowspan=\"2\" valign=\"top\">No</th>\n",
       "      <th>DSAA</th>\n",
       "      <td>284.0</td>\n",
       "      <td>59273.570423</td>\n",
       "      <td>19389.400982</td>\n",
       "      <td>22000.0</td>\n",
       "      <td>45000.0</td>\n",
       "      <td>60000.0</td>\n",
       "      <td>70000.0</td>\n",
       "      <td>150000.0</td>\n",
       "    </tr>\n",
       "    <tr>\n",
       "      <th>Non_DSAA</th>\n",
       "      <td>280.0</td>\n",
       "      <td>54192.075000</td>\n",
       "      <td>23922.852881</td>\n",
       "      <td>10000.0</td>\n",
       "      <td>40000.0</td>\n",
       "      <td>50000.0</td>\n",
       "      <td>65000.0</td>\n",
       "      <td>150000.0</td>\n",
       "    </tr>\n",
       "  </tbody>\n",
       "</table>\n",
       "</div>"
      ],
      "text/plain": [
       "                         count          mean           std      min      25%  \\\n",
       "Hadoop Analytical Level                                                        \n",
       "Hadoop DSAA               27.0  62037.037037  14758.261002  30000.0  52500.0   \n",
       "       Non_DSAA            4.0  86250.000000  14361.406616  65000.0  83750.0   \n",
       "No     DSAA              284.0  59273.570423  19389.400982  22000.0  45000.0   \n",
       "       Non_DSAA          280.0  54192.075000  23922.852881  10000.0  40000.0   \n",
       "\n",
       "                             50%      75%       max  \n",
       "Hadoop Analytical Level                              \n",
       "Hadoop DSAA              60000.0  70000.0   95000.0  \n",
       "       Non_DSAA          92500.0  95000.0   95000.0  \n",
       "No     DSAA              60000.0  70000.0  150000.0  \n",
       "       Non_DSAA          50000.0  65000.0  150000.0  "
      ]
     },
     "execution_count": 47,
     "metadata": {},
     "output_type": "execute_result"
    }
   ],
   "source": [
    "Hadoop='Hadoop|Apache Hadoop|hadoop'\n",
    "UKjobs['Hadoop'] = UKjobs['description'].str.contains(Hadoop)\n",
    "\n",
    "mask = UKjobs.applymap(type) != bool\n",
    "d = {True: 'Hadoop', False: 'No'}\n",
    "\n",
    "UKjobs = UKjobs.where(mask, UKjobs.replace(d))\n",
    "\n",
    "UKjobs.groupby(['Hadoop','Analytical Level'])['salary'].describe()"
   ]
  },
  {
   "cell_type": "code",
   "execution_count": 48,
   "metadata": {},
   "outputs": [
    {
     "data": {
      "text/plain": [
       "<matplotlib.axes._subplots.AxesSubplot at 0x7fecb6c91b50>"
      ]
     },
     "execution_count": 48,
     "metadata": {},
     "output_type": "execute_result"
    },
    {
     "data": {
      "image/png": "[encoded data removed]",
      "text/plain": [
       "<Figure size 432x288 with 1 Axes>"
      ]
     },
     "metadata": {
      "needs_background": "light"
     },
     "output_type": "display_data"
    }
   ],
   "source": [
    "UKjobs.groupby('Analytical Level')['Hadoop'].value_counts().unstack(0).plot.bar()"
   ]
  },
  {
   "cell_type": "markdown",
   "metadata": {},
   "source": [
    "### Communication"
   ]
  },
  {
   "cell_type": "code",
   "execution_count": 49,
   "metadata": {},
   "outputs": [
    {
     "data": {
      "text/html": [
       "<div>\n",
       "<style scoped>\n",
       "    .dataframe tbody tr th:only-of-type {\n",
       "        vertical-align: middle;\n",
       "    }\n",
       "\n",
       "    .dataframe tbody tr th {\n",
       "        vertical-align: top;\n",
       "    }\n",
       "\n",
       "    .dataframe thead th {\n",
       "        text-align: right;\n",
       "    }\n",
       "</style>\n",
       "<table border=\"1\" class=\"dataframe\">\n",
       "  <thead>\n",
       "    <tr style=\"text-align: right;\">\n",
       "      <th></th>\n",
       "      <th></th>\n",
       "      <th>count</th>\n",
       "      <th>mean</th>\n",
       "      <th>std</th>\n",
       "      <th>min</th>\n",
       "      <th>25%</th>\n",
       "      <th>50%</th>\n",
       "      <th>75%</th>\n",
       "      <th>max</th>\n",
       "    </tr>\n",
       "    <tr>\n",
       "      <th>Communication</th>\n",
       "      <th>Analytical Level</th>\n",
       "      <th></th>\n",
       "      <th></th>\n",
       "      <th></th>\n",
       "      <th></th>\n",
       "      <th></th>\n",
       "      <th></th>\n",
       "      <th></th>\n",
       "      <th></th>\n",
       "    </tr>\n",
       "  </thead>\n",
       "  <tbody>\n",
       "    <tr>\n",
       "      <th rowspan=\"2\" valign=\"top\">Communication</th>\n",
       "      <th>DSAA</th>\n",
       "      <td>40.0</td>\n",
       "      <td>53625.000000</td>\n",
       "      <td>15441.681023</td>\n",
       "      <td>25000.0</td>\n",
       "      <td>40000.0</td>\n",
       "      <td>50000.0</td>\n",
       "      <td>60000.0</td>\n",
       "      <td>90000.0</td>\n",
       "    </tr>\n",
       "    <tr>\n",
       "      <th>Non_DSAA</th>\n",
       "      <td>51.0</td>\n",
       "      <td>45418.921569</td>\n",
       "      <td>18654.738254</td>\n",
       "      <td>18000.0</td>\n",
       "      <td>35000.0</td>\n",
       "      <td>40000.0</td>\n",
       "      <td>52500.0</td>\n",
       "      <td>100000.0</td>\n",
       "    </tr>\n",
       "    <tr>\n",
       "      <th rowspan=\"2\" valign=\"top\">No</th>\n",
       "      <th>DSAA</th>\n",
       "      <td>271.0</td>\n",
       "      <td>60382.634686</td>\n",
       "      <td>19374.832873</td>\n",
       "      <td>22000.0</td>\n",
       "      <td>45000.0</td>\n",
       "      <td>60000.0</td>\n",
       "      <td>70000.0</td>\n",
       "      <td>150000.0</td>\n",
       "    </tr>\n",
       "    <tr>\n",
       "      <th>Non_DSAA</th>\n",
       "      <td>233.0</td>\n",
       "      <td>56662.729614</td>\n",
       "      <td>24709.911194</td>\n",
       "      <td>10000.0</td>\n",
       "      <td>40000.0</td>\n",
       "      <td>50000.0</td>\n",
       "      <td>70000.0</td>\n",
       "      <td>150000.0</td>\n",
       "    </tr>\n",
       "  </tbody>\n",
       "</table>\n",
       "</div>"
      ],
      "text/plain": [
       "                                count          mean           std      min  \\\n",
       "Communication Analytical Level                                               \n",
       "Communication DSAA               40.0  53625.000000  15441.681023  25000.0   \n",
       "              Non_DSAA           51.0  45418.921569  18654.738254  18000.0   \n",
       "No            DSAA              271.0  60382.634686  19374.832873  22000.0   \n",
       "              Non_DSAA          233.0  56662.729614  24709.911194  10000.0   \n",
       "\n",
       "                                    25%      50%      75%       max  \n",
       "Communication Analytical Level                                       \n",
       "Communication DSAA              40000.0  50000.0  60000.0   90000.0  \n",
       "              Non_DSAA          35000.0  40000.0  52500.0  100000.0  \n",
       "No            DSAA              45000.0  60000.0  70000.0  150000.0  \n",
       "              Non_DSAA          40000.0  50000.0  70000.0  150000.0  "
      ]
     },
     "execution_count": 49,
     "metadata": {},
     "output_type": "execute_result"
    }
   ],
   "source": [
    "Communication='Communication Skills|Communication|Communication skills| communication skills'\n",
    "UKjobs['Communication'] = UKjobs['description'].str.contains(Communication)\n",
    "\n",
    "mask = UKjobs.applymap(type) != bool\n",
    "d = {True: 'Communication', False: 'No'}\n",
    "\n",
    "UKjobs = UKjobs.where(mask, UKjobs.replace(d))\n",
    "\n",
    "UKjobs.groupby(['Communication','Analytical Level'])['salary'].describe()"
   ]
  },
  {
   "cell_type": "code",
   "execution_count": 50,
   "metadata": {},
   "outputs": [
    {
     "data": {
      "text/plain": [
       "<matplotlib.axes._subplots.AxesSubplot at 0x7fecbb250f40>"
      ]
     },
     "execution_count": 50,
     "metadata": {},
     "output_type": "execute_result"
    },
    {
     "data": {
      "image/png": "[encoded data removed]",
      "text/plain": [
       "<Figure size 432x288 with 1 Axes>"
      ]
     },
     "metadata": {
      "needs_background": "light"
     },
     "output_type": "display_data"
    }
   ],
   "source": [
    "UKjobs.groupby('Analytical Level')['Communication'].value_counts().unstack(0).plot.bar()"
   ]
  },
  {
   "cell_type": "markdown",
   "metadata": {},
   "source": [
    "### Java"
   ]
  },
  {
   "cell_type": "code",
   "execution_count": 51,
   "metadata": {},
   "outputs": [
    {
     "data": {
      "text/html": [
       "<div>\n",
       "<style scoped>\n",
       "    .dataframe tbody tr th:only-of-type {\n",
       "        vertical-align: middle;\n",
       "    }\n",
       "\n",
       "    .dataframe tbody tr th {\n",
       "        vertical-align: top;\n",
       "    }\n",
       "\n",
       "    .dataframe thead th {\n",
       "        text-align: right;\n",
       "    }\n",
       "</style>\n",
       "<table border=\"1\" class=\"dataframe\">\n",
       "  <thead>\n",
       "    <tr style=\"text-align: right;\">\n",
       "      <th></th>\n",
       "      <th></th>\n",
       "      <th>count</th>\n",
       "      <th>mean</th>\n",
       "      <th>std</th>\n",
       "      <th>min</th>\n",
       "      <th>25%</th>\n",
       "      <th>50%</th>\n",
       "      <th>75%</th>\n",
       "      <th>max</th>\n",
       "    </tr>\n",
       "    <tr>\n",
       "      <th>Java</th>\n",
       "      <th>Analytical Level</th>\n",
       "      <th></th>\n",
       "      <th></th>\n",
       "      <th></th>\n",
       "      <th></th>\n",
       "      <th></th>\n",
       "      <th></th>\n",
       "      <th></th>\n",
       "      <th></th>\n",
       "    </tr>\n",
       "  </thead>\n",
       "  <tbody>\n",
       "    <tr>\n",
       "      <th rowspan=\"2\" valign=\"top\">Java</th>\n",
       "      <th>DSAA</th>\n",
       "      <td>48.0</td>\n",
       "      <td>59395.833333</td>\n",
       "      <td>17902.501410</td>\n",
       "      <td>23000.0</td>\n",
       "      <td>50000.0</td>\n",
       "      <td>57500.0</td>\n",
       "      <td>75000.0</td>\n",
       "      <td>110000.0</td>\n",
       "    </tr>\n",
       "    <tr>\n",
       "      <th>Non_DSAA</th>\n",
       "      <td>41.0</td>\n",
       "      <td>52853.658537</td>\n",
       "      <td>22629.141583</td>\n",
       "      <td>18000.0</td>\n",
       "      <td>35000.0</td>\n",
       "      <td>50000.0</td>\n",
       "      <td>70000.0</td>\n",
       "      <td>100000.0</td>\n",
       "    </tr>\n",
       "    <tr>\n",
       "      <th rowspan=\"2\" valign=\"top\">No</th>\n",
       "      <th>DSAA</th>\n",
       "      <td>263.0</td>\n",
       "      <td>59534.958175</td>\n",
       "      <td>19259.231920</td>\n",
       "      <td>22000.0</td>\n",
       "      <td>45000.0</td>\n",
       "      <td>60000.0</td>\n",
       "      <td>70000.0</td>\n",
       "      <td>150000.0</td>\n",
       "    </tr>\n",
       "    <tr>\n",
       "      <th>Non_DSAA</th>\n",
       "      <td>243.0</td>\n",
       "      <td>54945.600823</td>\n",
       "      <td>24368.686313</td>\n",
       "      <td>10000.0</td>\n",
       "      <td>40000.0</td>\n",
       "      <td>50000.0</td>\n",
       "      <td>65000.0</td>\n",
       "      <td>150000.0</td>\n",
       "    </tr>\n",
       "  </tbody>\n",
       "</table>\n",
       "</div>"
      ],
      "text/plain": [
       "                       count          mean           std      min      25%  \\\n",
       "Java Analytical Level                                                        \n",
       "Java DSAA               48.0  59395.833333  17902.501410  23000.0  50000.0   \n",
       "     Non_DSAA           41.0  52853.658537  22629.141583  18000.0  35000.0   \n",
       "No   DSAA              263.0  59534.958175  19259.231920  22000.0  45000.0   \n",
       "     Non_DSAA          243.0  54945.600823  24368.686313  10000.0  40000.0   \n",
       "\n",
       "                           50%      75%       max  \n",
       "Java Analytical Level                              \n",
       "Java DSAA              57500.0  75000.0  110000.0  \n",
       "     Non_DSAA          50000.0  70000.0  100000.0  \n",
       "No   DSAA              60000.0  70000.0  150000.0  \n",
       "     Non_DSAA          50000.0  65000.0  150000.0  "
      ]
     },
     "execution_count": 51,
     "metadata": {},
     "output_type": "execute_result"
    }
   ],
   "source": [
    "\n",
    "Java='Java|java|JavaScript|javascript'\n",
    "UKjobs['Java'] = UKjobs['description'].str.contains(Java)\n",
    "\n",
    "mask = UKjobs.applymap(type) != bool\n",
    "d = {True: 'Java', False: 'No'}\n",
    "\n",
    "UKjobs = UKjobs.where(mask, UKjobs.replace(d))\n",
    "\n",
    "UKjobs.groupby(['Java','Analytical Level'])['salary'].describe()"
   ]
  },
  {
   "cell_type": "code",
   "execution_count": 52,
   "metadata": {},
   "outputs": [
    {
     "data": {
      "text/plain": [
       "<matplotlib.axes._subplots.AxesSubplot at 0x7fecbbc89cd0>"
      ]
     },
     "execution_count": 52,
     "metadata": {},
     "output_type": "execute_result"
    },
    {
     "data": {
      "image/png": "[encoded data removed]",
      "text/plain": [
       "<Figure size 432x288 with 1 Axes>"
      ]
     },
     "metadata": {
      "needs_background": "light"
     },
     "output_type": "display_data"
    }
   ],
   "source": [
    "UKjobs.groupby('Analytical Level')['Java'].value_counts().unstack(0).plot.bar()"
   ]
  },
  {
   "cell_type": "code",
   "execution_count": null,
   "metadata": {},
   "outputs": [],
   "source": []
  },
  {
   "cell_type": "markdown",
   "metadata": {},
   "source": [
    "### Scala"
   ]
  },
  {
   "cell_type": "code",
   "execution_count": 53,
   "metadata": {},
   "outputs": [
    {
     "data": {
      "text/html": [
       "<div>\n",
       "<style scoped>\n",
       "    .dataframe tbody tr th:only-of-type {\n",
       "        vertical-align: middle;\n",
       "    }\n",
       "\n",
       "    .dataframe tbody tr th {\n",
       "        vertical-align: top;\n",
       "    }\n",
       "\n",
       "    .dataframe thead th {\n",
       "        text-align: right;\n",
       "    }\n",
       "</style>\n",
       "<table border=\"1\" class=\"dataframe\">\n",
       "  <thead>\n",
       "    <tr style=\"text-align: right;\">\n",
       "      <th></th>\n",
       "      <th></th>\n",
       "      <th>count</th>\n",
       "      <th>mean</th>\n",
       "      <th>std</th>\n",
       "      <th>min</th>\n",
       "      <th>25%</th>\n",
       "      <th>50%</th>\n",
       "      <th>75%</th>\n",
       "      <th>max</th>\n",
       "    </tr>\n",
       "    <tr>\n",
       "      <th>Scala</th>\n",
       "      <th>Analytical Level</th>\n",
       "      <th></th>\n",
       "      <th></th>\n",
       "      <th></th>\n",
       "      <th></th>\n",
       "      <th></th>\n",
       "      <th></th>\n",
       "      <th></th>\n",
       "      <th></th>\n",
       "    </tr>\n",
       "  </thead>\n",
       "  <tbody>\n",
       "    <tr>\n",
       "      <th rowspan=\"2\" valign=\"top\">No</th>\n",
       "      <th>DSAA</th>\n",
       "      <td>243.0</td>\n",
       "      <td>57487.201646</td>\n",
       "      <td>17758.543782</td>\n",
       "      <td>22000.0</td>\n",
       "      <td>45000.0</td>\n",
       "      <td>60000.0</td>\n",
       "      <td>70000.0</td>\n",
       "      <td>120000.0</td>\n",
       "    </tr>\n",
       "    <tr>\n",
       "      <th>Non_DSAA</th>\n",
       "      <td>259.0</td>\n",
       "      <td>53474.057915</td>\n",
       "      <td>24013.658337</td>\n",
       "      <td>10000.0</td>\n",
       "      <td>40000.0</td>\n",
       "      <td>50000.0</td>\n",
       "      <td>65000.0</td>\n",
       "      <td>150000.0</td>\n",
       "    </tr>\n",
       "    <tr>\n",
       "      <th rowspan=\"2\" valign=\"top\">Scala</th>\n",
       "      <th>DSAA</th>\n",
       "      <td>68.0</td>\n",
       "      <td>66754.470588</td>\n",
       "      <td>21635.777327</td>\n",
       "      <td>30000.0</td>\n",
       "      <td>50000.0</td>\n",
       "      <td>62500.0</td>\n",
       "      <td>75000.0</td>\n",
       "      <td>150000.0</td>\n",
       "    </tr>\n",
       "    <tr>\n",
       "      <th>Non_DSAA</th>\n",
       "      <td>25.0</td>\n",
       "      <td>66760.000000</td>\n",
       "      <td>21930.344275</td>\n",
       "      <td>40000.0</td>\n",
       "      <td>50000.0</td>\n",
       "      <td>60000.0</td>\n",
       "      <td>81000.0</td>\n",
       "      <td>130000.0</td>\n",
       "    </tr>\n",
       "  </tbody>\n",
       "</table>\n",
       "</div>"
      ],
      "text/plain": [
       "                        count          mean           std      min      25%  \\\n",
       "Scala Analytical Level                                                        \n",
       "No    DSAA              243.0  57487.201646  17758.543782  22000.0  45000.0   \n",
       "      Non_DSAA          259.0  53474.057915  24013.658337  10000.0  40000.0   \n",
       "Scala DSAA               68.0  66754.470588  21635.777327  30000.0  50000.0   \n",
       "      Non_DSAA           25.0  66760.000000  21930.344275  40000.0  50000.0   \n",
       "\n",
       "                            50%      75%       max  \n",
       "Scala Analytical Level                              \n",
       "No    DSAA              60000.0  70000.0  120000.0  \n",
       "      Non_DSAA          50000.0  65000.0  150000.0  \n",
       "Scala DSAA              62500.0  75000.0  150000.0  \n",
       "      Non_DSAA          60000.0  81000.0  130000.0  "
      ]
     },
     "execution_count": 53,
     "metadata": {},
     "output_type": "execute_result"
    }
   ],
   "source": [
    "Scala='Scala|scala'\n",
    "UKjobs['Scala'] = UKjobs['description'].str.contains(Scala)\n",
    "\n",
    "mask = UKjobs.applymap(type) != bool\n",
    "d = {True: 'Scala', False: 'No'}\n",
    "\n",
    "UKjobs = UKjobs.where(mask, UKjobs.replace(d))\n",
    "\n",
    "UKjobs.groupby(['Scala','Analytical Level'])['salary'].describe()"
   ]
  },
  {
   "cell_type": "code",
   "execution_count": 54,
   "metadata": {},
   "outputs": [
    {
     "data": {
      "text/plain": [
       "<matplotlib.axes._subplots.AxesSubplot at 0x7fecbc2d77f0>"
      ]
     },
     "execution_count": 54,
     "metadata": {},
     "output_type": "execute_result"
    },
    {
     "data": {
      "image/png": "[encoded data removed]",
      "text/plain": [
       "<Figure size 432x288 with 1 Axes>"
      ]
     },
     "metadata": {
      "needs_background": "light"
     },
     "output_type": "display_data"
    }
   ],
   "source": [
    "UKjobs.groupby('Analytical Level')['Scala'].value_counts().unstack(0).plot.bar()"
   ]
  },
  {
   "cell_type": "markdown",
   "metadata": {},
   "source": [
    "### Big Data"
   ]
  },
  {
   "cell_type": "code",
   "execution_count": 58,
   "metadata": {},
   "outputs": [
    {
     "data": {
      "text/html": [
       "<div>\n",
       "<style scoped>\n",
       "    .dataframe tbody tr th:only-of-type {\n",
       "        vertical-align: middle;\n",
       "    }\n",
       "\n",
       "    .dataframe tbody tr th {\n",
       "        vertical-align: top;\n",
       "    }\n",
       "\n",
       "    .dataframe thead th {\n",
       "        text-align: right;\n",
       "    }\n",
       "</style>\n",
       "<table border=\"1\" class=\"dataframe\">\n",
       "  <thead>\n",
       "    <tr style=\"text-align: right;\">\n",
       "      <th></th>\n",
       "      <th></th>\n",
       "      <th>count</th>\n",
       "      <th>mean</th>\n",
       "      <th>std</th>\n",
       "      <th>min</th>\n",
       "      <th>25%</th>\n",
       "      <th>50%</th>\n",
       "      <th>75%</th>\n",
       "      <th>max</th>\n",
       "    </tr>\n",
       "    <tr>\n",
       "      <th>Big_Data</th>\n",
       "      <th>Analytical Level</th>\n",
       "      <th></th>\n",
       "      <th></th>\n",
       "      <th></th>\n",
       "      <th></th>\n",
       "      <th></th>\n",
       "      <th></th>\n",
       "      <th></th>\n",
       "      <th></th>\n",
       "    </tr>\n",
       "  </thead>\n",
       "  <tbody>\n",
       "    <tr>\n",
       "      <th rowspan=\"2\" valign=\"top\">Big_Data</th>\n",
       "      <th>DSAA</th>\n",
       "      <td>58.0</td>\n",
       "      <td>68133.689655</td>\n",
       "      <td>20666.912231</td>\n",
       "      <td>25000.0</td>\n",
       "      <td>56250.0</td>\n",
       "      <td>65000.0</td>\n",
       "      <td>80000.0</td>\n",
       "      <td>125000.0</td>\n",
       "    </tr>\n",
       "    <tr>\n",
       "      <th>Non_DSAA</th>\n",
       "      <td>20.0</td>\n",
       "      <td>50900.000000</td>\n",
       "      <td>20809.663747</td>\n",
       "      <td>25000.0</td>\n",
       "      <td>39500.0</td>\n",
       "      <td>47500.0</td>\n",
       "      <td>65000.0</td>\n",
       "      <td>95000.0</td>\n",
       "    </tr>\n",
       "    <tr>\n",
       "      <th rowspan=\"2\" valign=\"top\">No</th>\n",
       "      <th>DSAA</th>\n",
       "      <td>253.0</td>\n",
       "      <td>57537.312253</td>\n",
       "      <td>18104.741812</td>\n",
       "      <td>22000.0</td>\n",
       "      <td>45000.0</td>\n",
       "      <td>55000.0</td>\n",
       "      <td>70000.0</td>\n",
       "      <td>150000.0</td>\n",
       "    </tr>\n",
       "    <tr>\n",
       "      <th>Non_DSAA</th>\n",
       "      <td>264.0</td>\n",
       "      <td>54927.200758</td>\n",
       "      <td>24340.336825</td>\n",
       "      <td>10000.0</td>\n",
       "      <td>40000.0</td>\n",
       "      <td>50000.0</td>\n",
       "      <td>66250.0</td>\n",
       "      <td>150000.0</td>\n",
       "    </tr>\n",
       "  </tbody>\n",
       "</table>\n",
       "</div>"
      ],
      "text/plain": [
       "                           count          mean           std      min  \\\n",
       "Big_Data Analytical Level                                               \n",
       "Big_Data DSAA               58.0  68133.689655  20666.912231  25000.0   \n",
       "         Non_DSAA           20.0  50900.000000  20809.663747  25000.0   \n",
       "No       DSAA              253.0  57537.312253  18104.741812  22000.0   \n",
       "         Non_DSAA          264.0  54927.200758  24340.336825  10000.0   \n",
       "\n",
       "                               25%      50%      75%       max  \n",
       "Big_Data Analytical Level                                       \n",
       "Big_Data DSAA              56250.0  65000.0  80000.0  125000.0  \n",
       "         Non_DSAA          39500.0  47500.0  65000.0   95000.0  \n",
       "No       DSAA              45000.0  55000.0  70000.0  150000.0  \n",
       "         Non_DSAA          40000.0  50000.0  66250.0  150000.0  "
      ]
     },
     "execution_count": 58,
     "metadata": {},
     "output_type": "execute_result"
    }
   ],
   "source": [
    "Big_Data='Big Data|big data |big Data|Big data'\n",
    "UKjobs['Big_Data'] = UKjobs['description'].str.contains(Big_Data)\n",
    "\n",
    "mask = UKjobs.applymap(type) != bool\n",
    "d = {True: 'Big_Data', False: 'No'}\n",
    "\n",
    "UKjobs = UKjobs.where(mask, UKjobs.replace(d))\n",
    "\n",
    "UKjobs.groupby(['Big_Data','Analytical Level'])['salary'].describe()"
   ]
  },
  {
   "cell_type": "code",
   "execution_count": 59,
   "metadata": {},
   "outputs": [
    {
     "data": {
      "text/plain": [
       "<matplotlib.axes._subplots.AxesSubplot at 0x7fecbbf90940>"
      ]
     },
     "execution_count": 59,
     "metadata": {},
     "output_type": "execute_result"
    },
    {
     "data": {
      "image/png": "[encoded data removed]",
      "text/plain": [
       "<Figure size 432x288 with 1 Axes>"
      ]
     },
     "metadata": {
      "needs_background": "light"
     },
     "output_type": "display_data"
    }
   ],
   "source": [
    "UKjobs.groupby('Analytical Level')['Big_Data'].value_counts().unstack(0).plot.bar()"
   ]
  },
  {
   "cell_type": "markdown",
   "metadata": {},
   "source": [
    "### The popularity of data skills "
   ]
  },
  {
   "cell_type": "code",
   "execution_count": null,
   "metadata": {},
   "outputs": [],
   "source": []
  },
  {
   "cell_type": "code",
   "execution_count": null,
   "metadata": {},
   "outputs": [],
   "source": []
  },
  {
   "cell_type": "code",
   "execution_count": 70,
   "metadata": {},
   "outputs": [
    {
     "data": {
      "image/png": "[encoded data removed]",
      "text/plain": [
       "<Figure size 720x576 with 1 Axes>"
      ]
     },
     "metadata": {
      "needs_background": "light"
     },
     "output_type": "display_data"
    }
   ],
   "source": [
    "# count number of jobs mentioned top analytical skills \n",
    "df = pd.melt(UKjobs[['Scala','Python','Data_Science','Machine_Learning','SQL','Hadoop','Visualization','Research','Java','R','Big_Data']])\n",
    "df2=df.loc[df['value']!=\"No\"]\n",
    "\n",
    "fig, ax = plt.subplots(1, figsize=(10,8))\n",
    "ax=sns.countplot(data=df2, x='variable',order = df2['variable'].value_counts().index,palette='husl')\n",
    "\n",
    "ax.set_ylim([0, 500])\n",
    "ax.set_ylabel(\"Number of Jobs\", fontsize=20)\n",
    "ax.set_xlabel(\"Skills\", fontsize=20)\n",
    "ax.set_title(\"How often data skills mentioned \\n in 595 job descriptions\", fontsize=20, color='Blue')\n",
    "\n",
    "sns.despine(offset=10)\n",
    "plt.xticks(rotation=90)\n",
    "plt.savefig('Figure/Skill.jpg')"
   ]
  },
  {
   "cell_type": "code",
   "execution_count": 65,
   "metadata": {},
   "outputs": [
    {
     "data": {
      "text/plain": [
       "Data_Science        448\n",
       "Python              380\n",
       "SQL                 310\n",
       "Machine_Learning    224\n",
       "R                   121\n",
       "Visualization       107\n",
       "Scala                93\n",
       "Java                 89\n",
       "Research             80\n",
       "Big_Data             78\n",
       "Hadoop               31\n",
       "Name: variable, dtype: int64"
      ]
     },
     "execution_count": 65,
     "metadata": {},
     "output_type": "execute_result"
    }
   ],
   "source": [
    "skill=df2['variable'].value_counts()\n",
    "skill"
   ]
  },
  {
   "cell_type": "code",
   "execution_count": 52,
   "metadata": {},
   "outputs": [
    {
     "data": {
      "text/plain": [
       "Data_Science        75.294118\n",
       "Python              63.865546\n",
       "SQL                 52.100840\n",
       "Machine_Learning    37.647059\n",
       "R                   20.336134\n",
       "Visualization       17.983193\n",
       "Scala               15.630252\n",
       "Java                14.957983\n",
       "Research            13.445378\n",
       "Hadoop               5.210084\n",
       "Name: variable, dtype: float64"
      ]
     },
     "execution_count": 52,
     "metadata": {},
     "output_type": "execute_result"
    }
   ],
   "source": [
    "skill_percentage=skill.multiply(other = 100/595)\n",
    "skill_percentage"
   ]
  },
  {
   "cell_type": "markdown",
   "metadata": {},
   "source": [
    "### The popularity of data skills segmented by Analytical Levels"
   ]
  },
  {
   "cell_type": "code",
   "execution_count": 72,
   "metadata": {},
   "outputs": [
    {
     "data": {
      "text/html": [
       "<div>\n",
       "<style scoped>\n",
       "    .dataframe tbody tr th:only-of-type {\n",
       "        vertical-align: middle;\n",
       "    }\n",
       "\n",
       "    .dataframe tbody tr th {\n",
       "        vertical-align: top;\n",
       "    }\n",
       "\n",
       "    .dataframe thead th {\n",
       "        text-align: right;\n",
       "    }\n",
       "</style>\n",
       "<table border=\"1\" class=\"dataframe\">\n",
       "  <thead>\n",
       "    <tr style=\"text-align: right;\">\n",
       "      <th></th>\n",
       "      <th>Analytical Level</th>\n",
       "      <th>variable</th>\n",
       "      <th>value</th>\n",
       "    </tr>\n",
       "  </thead>\n",
       "  <tbody>\n",
       "    <tr>\n",
       "      <th>53</th>\n",
       "      <td>DSAA</td>\n",
       "      <td>Scala</td>\n",
       "      <td>Scala</td>\n",
       "    </tr>\n",
       "    <tr>\n",
       "      <th>92</th>\n",
       "      <td>DSAA</td>\n",
       "      <td>Scala</td>\n",
       "      <td>Scala</td>\n",
       "    </tr>\n",
       "    <tr>\n",
       "      <th>106</th>\n",
       "      <td>DSAA</td>\n",
       "      <td>Scala</td>\n",
       "      <td>Scala</td>\n",
       "    </tr>\n",
       "    <tr>\n",
       "      <th>133</th>\n",
       "      <td>DSAA</td>\n",
       "      <td>Scala</td>\n",
       "      <td>Scala</td>\n",
       "    </tr>\n",
       "    <tr>\n",
       "      <th>134</th>\n",
       "      <td>DSAA</td>\n",
       "      <td>Scala</td>\n",
       "      <td>Scala</td>\n",
       "    </tr>\n",
       "  </tbody>\n",
       "</table>\n",
       "</div>"
      ],
      "text/plain": [
       "    Analytical Level variable  value\n",
       "53              DSAA    Scala  Scala\n",
       "92              DSAA    Scala  Scala\n",
       "106             DSAA    Scala  Scala\n",
       "133             DSAA    Scala  Scala\n",
       "134             DSAA    Scala  Scala"
      ]
     },
     "execution_count": 72,
     "metadata": {},
     "output_type": "execute_result"
    }
   ],
   "source": [
    "df = pd.melt(UKjobs[['Scala','Python','Data_Science','Machine_Learning','SQL','Hadoop','Visualization','Research','Java','Analytical Level','R']],id_vars='Analytical Level')\n",
    "df2=df.loc[df['value']!=\"No\"]\n",
    "df2.head()\n"
   ]
  },
  {
   "cell_type": "code",
   "execution_count": 73,
   "metadata": {},
   "outputs": [
    {
     "data": {
      "image/png": "[encoded data removed]",
      "text/plain": [
       "<Figure size 720x576 with 1 Axes>"
      ]
     },
     "metadata": {
      "needs_background": "light"
     },
     "output_type": "display_data"
    }
   ],
   "source": [
    "fig, ax = plt.subplots(1, figsize=(10,8))\n",
    "ax=sns.countplot(data=df2, x='variable',hue='Analytical Level',order = df2['variable'].value_counts().index,palette='Paired')\n",
    "\n",
    "ax.set_ylim([0, 300])\n",
    "ax.set_ylabel(\"Number of Jobs\", fontsize=20)\n",
    "ax.set_xlabel(\"Skills\", fontsize=20)\n",
    "ax.set_title(\"How often are data skills mentioned \\n segmented by Analytical Levels?\", fontsize=20, color='Blue')\n",
    "\n",
    "sns.despine(offset=10)\n",
    "plt.xticks(rotation=90)\n",
    "plt.savefig('Figure/Skill_Analytical_Level.jpg')\n",
    "plt.show()"
   ]
  },
  {
   "cell_type": "code",
   "execution_count": 63,
   "metadata": {},
   "outputs": [
    {
     "data": {
      "text/plain": [
       "Analytical Level  variable        \n",
       "DSAA              Python              238\n",
       "                  Data_Science        217\n",
       "                  SQL                 182\n",
       "                  Machine_Learning    144\n",
       "                  Scala                68\n",
       "                  R                    63\n",
       "                  Research             49\n",
       "                  Java                 48\n",
       "                  Visualization        45\n",
       "                  Hadoop               27\n",
       "Non_DSAA          Data_Science        231\n",
       "                  Python              142\n",
       "                  SQL                 128\n",
       "                  Machine_Learning     80\n",
       "                  Visualization        62\n",
       "                  R                    58\n",
       "                  Java                 41\n",
       "                  Research             31\n",
       "                  Scala                25\n",
       "                  Hadoop                4\n",
       "Name: variable, dtype: int64"
      ]
     },
     "execution_count": 63,
     "metadata": {},
     "output_type": "execute_result"
    }
   ],
   "source": [
    "df2.groupby('Analytical Level')['variable'].value_counts()"
   ]
  },
  {
   "cell_type": "code",
   "execution_count": null,
   "metadata": {},
   "outputs": [],
   "source": []
  },
  {
   "cell_type": "code",
   "execution_count": null,
   "metadata": {},
   "outputs": [],
   "source": []
  },
  {
   "cell_type": "code",
   "execution_count": null,
   "metadata": {},
   "outputs": [],
   "source": []
  },
  {
   "cell_type": "code",
   "execution_count": null,
   "metadata": {},
   "outputs": [],
   "source": []
  },
  {
   "cell_type": "code",
   "execution_count": null,
   "metadata": {},
   "outputs": [],
   "source": []
  },
  {
   "cell_type": "code",
   "execution_count": null,
   "metadata": {},
   "outputs": [],
   "source": []
  },
  {
   "cell_type": "code",
   "execution_count": null,
   "metadata": {},
   "outputs": [],
   "source": []
  },
  {
   "cell_type": "code",
   "execution_count": null,
   "metadata": {},
   "outputs": [],
   "source": []
  }
 ],
 "metadata": {
  "kernelspec": {
   "display_name": "Python 3",
   "language": "python",
   "name": "python3"
  },
  "language_info": {
   "codemirror_mode": {
    "name": "ipython",
    "version": 3
   },
   "file_extension": ".py",
   "mimetype": "text/x-python",
   "name": "python",
   "nbconvert_exporter": "python",
   "pygments_lexer": "ipython3",
   "version": "3.8.3"
  }
 },
 "nbformat": 4,
 "nbformat_minor": 4
}
