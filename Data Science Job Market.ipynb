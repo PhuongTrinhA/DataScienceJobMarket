{
 "cells": [
  {
   "cell_type": "markdown",
   "metadata": {},
   "source": [
    "## ANALYSING DATA SCIENCE JOB MARKET \n",
    "This project is to help job seekers better understand data-driven job market in the UK. \n",
    "\n",
    "The dataset included 595 data-driven jobs around the UK from Reed Job board which were posted from late December 2020 to early February 2021. SpecialThe dataset was shared by \n",
    "https://www.kaggle.com/devario/uk-data-science-jobs-dataset  \n",
    "\n",
    "Information scraped are Job Title, Date Posted, Date Ending, Advertiser, Location, City, Salary, Salary Min, Salary Max, Description. \n"
   ]
  },
  {
   "cell_type": "code",
   "execution_count": 4,
   "metadata": {},
   "outputs": [
    {
     "data": {
      "text/html": [
       "<style>.container { width:100% !important; }</style>"
      ],
      "text/plain": [
       "<IPython.core.display.HTML object>"
      ]
     },
     "metadata": {},
     "output_type": "display_data"
    }
   ],
   "source": [
    "import pandas as pd\n",
    "import matplotlib.pyplot as plt\n",
    "import seaborn as sns\n",
    "import re\n",
    "import numpy as np\n",
    "\n",
    "from IPython.core.display import display, HTML\n",
    "display(HTML(\"<style>.container { width:100% !important; }</style>\"))\n",
    "\n",
    "pd.options.display.max_colwidth = 400\n"
   ]
  },
  {
   "cell_type": "code",
   "execution_count": 5,
   "metadata": {},
   "outputs": [],
   "source": [
    "UKjobs=pd.read_csv(r'/Users/trinhthivyphuong/Documents/BA - Programming/BEMM458-main/data/deduped-jobs.csv')\n"
   ]
  },
  {
   "cell_type": "code",
   "execution_count": 447,
   "metadata": {},
   "outputs": [
    {
     "data": {
      "text/html": [
       "<div>\n",
       "<style scoped>\n",
       "    .dataframe tbody tr th:only-of-type {\n",
       "        vertical-align: middle;\n",
       "    }\n",
       "\n",
       "    .dataframe tbody tr th {\n",
       "        vertical-align: top;\n",
       "    }\n",
       "\n",
       "    .dataframe thead th {\n",
       "        text-align: right;\n",
       "    }\n",
       "</style>\n",
       "<table border=\"1\" class=\"dataframe\">\n",
       "  <thead>\n",
       "    <tr style=\"text-align: right;\">\n",
       "      <th></th>\n",
       "      <th>reference</th>\n",
       "      <th>title</th>\n",
       "      <th>date_posted</th>\n",
       "      <th>date_ending</th>\n",
       "      <th>advertiser</th>\n",
       "      <th>location</th>\n",
       "      <th>city</th>\n",
       "      <th>country</th>\n",
       "      <th>salary</th>\n",
       "      <th>salary_min</th>\n",
       "      <th>...</th>\n",
       "      <th>Data_Science</th>\n",
       "      <th>Machine_Learning</th>\n",
       "      <th>Visualization</th>\n",
       "      <th>Research</th>\n",
       "      <th>Hadoop</th>\n",
       "      <th>Communication</th>\n",
       "      <th>Java</th>\n",
       "      <th>Scala</th>\n",
       "      <th>Big_Data</th>\n",
       "      <th>One_year</th>\n",
       "    </tr>\n",
       "  </thead>\n",
       "  <tbody>\n",
       "    <tr>\n",
       "      <th>0</th>\n",
       "      <td>41715769</td>\n",
       "      <td>Senior Customer Insight Analytics Manager</td>\n",
       "      <td>11/01/2021</td>\n",
       "      <td>2021-02-22T23:55:00.0000000</td>\n",
       "      <td>Harnham</td>\n",
       "      <td>Lancashire</td>\n",
       "      <td>Manchester</td>\n",
       "      <td>GB</td>\n",
       "      <td>10000</td>\n",
       "      <td>10000</td>\n",
       "      <td>...</td>\n",
       "      <td>Data_Science</td>\n",
       "      <td>No</td>\n",
       "      <td>No</td>\n",
       "      <td>No</td>\n",
       "      <td>No</td>\n",
       "      <td>No</td>\n",
       "      <td>No</td>\n",
       "      <td>No</td>\n",
       "      <td>No</td>\n",
       "      <td></td>\n",
       "    </tr>\n",
       "  </tbody>\n",
       "</table>\n",
       "<p>1 rows × 32 columns</p>\n",
       "</div>"
      ],
      "text/plain": [
       "   reference                                      title date_posted  \\\n",
       "0   41715769  Senior Customer Insight Analytics Manager  11/01/2021   \n",
       "\n",
       "                   date_ending advertiser    location        city country  \\\n",
       "0  2021-02-22T23:55:00.0000000    Harnham  Lancashire  Manchester      GB   \n",
       "\n",
       "   salary  salary_min  ...  Data_Science Machine_Learning  Visualization  \\\n",
       "0   10000       10000  ...  Data_Science               No             No   \n",
       "\n",
       "  Research Hadoop Communication Java Scala Big_Data One_year  \n",
       "0       No     No            No   No    No       No           \n",
       "\n",
       "[1 rows x 32 columns]"
      ]
     },
     "execution_count": 447,
     "metadata": {},
     "output_type": "execute_result"
    }
   ],
   "source": [
    "UKjobs.head(1)"
   ]
  },
  {
   "cell_type": "code",
   "execution_count": 7,
   "metadata": {},
   "outputs": [
    {
     "name": "stdout",
     "output_type": "stream",
     "text": [
      "<class 'pandas.core.frame.DataFrame'>\n",
      "RangeIndex: 595 entries, 0 to 594\n",
      "Data columns (total 14 columns):\n",
      " #   Column            Non-Null Count  Dtype  \n",
      "---  ------            --------------  -----  \n",
      " 0   reference         595 non-null    int64  \n",
      " 1   title             595 non-null    object \n",
      " 2   date_posted       595 non-null    object \n",
      " 3   date_ending       595 non-null    object \n",
      " 4   advertiser        595 non-null    object \n",
      " 5   location          595 non-null    object \n",
      " 6   city              595 non-null    object \n",
      " 7   country           595 non-null    object \n",
      " 8   salary            595 non-null    int64  \n",
      " 9   salary_min        595 non-null    int64  \n",
      " 10  salary_max        595 non-null    int64  \n",
      " 11  salary_frequency  595 non-null    object \n",
      " 12  salary_currency   0 non-null      float64\n",
      " 13  description       595 non-null    object \n",
      "dtypes: float64(1), int64(4), object(9)\n",
      "memory usage: 65.2+ KB\n"
     ]
    }
   ],
   "source": [
    "UKjobs.info()"
   ]
  },
  {
   "cell_type": "code",
   "execution_count": 8,
   "metadata": {},
   "outputs": [
    {
     "data": {
      "text/html": [
       "<div>\n",
       "<style scoped>\n",
       "    .dataframe tbody tr th:only-of-type {\n",
       "        vertical-align: middle;\n",
       "    }\n",
       "\n",
       "    .dataframe tbody tr th {\n",
       "        vertical-align: top;\n",
       "    }\n",
       "\n",
       "    .dataframe thead th {\n",
       "        text-align: right;\n",
       "    }\n",
       "</style>\n",
       "<table border=\"1\" class=\"dataframe\">\n",
       "  <thead>\n",
       "    <tr style=\"text-align: right;\">\n",
       "      <th></th>\n",
       "      <th>salary</th>\n",
       "      <th>salary_min</th>\n",
       "      <th>salary_max</th>\n",
       "    </tr>\n",
       "  </thead>\n",
       "  <tbody>\n",
       "    <tr>\n",
       "      <th>count</th>\n",
       "      <td>595.000000</td>\n",
       "      <td>595.000000</td>\n",
       "      <td>595.000000</td>\n",
       "    </tr>\n",
       "    <tr>\n",
       "      <th>mean</th>\n",
       "      <td>57189.033613</td>\n",
       "      <td>57189.033613</td>\n",
       "      <td>72737.552941</td>\n",
       "    </tr>\n",
       "    <tr>\n",
       "      <th>std</th>\n",
       "      <td>21715.541218</td>\n",
       "      <td>21715.541218</td>\n",
       "      <td>37923.735008</td>\n",
       "    </tr>\n",
       "    <tr>\n",
       "      <th>min</th>\n",
       "      <td>10000.000000</td>\n",
       "      <td>10000.000000</td>\n",
       "      <td>18000.000000</td>\n",
       "    </tr>\n",
       "    <tr>\n",
       "      <th>25%</th>\n",
       "      <td>41000.000000</td>\n",
       "      <td>41000.000000</td>\n",
       "      <td>55000.000000</td>\n",
       "    </tr>\n",
       "    <tr>\n",
       "      <th>50%</th>\n",
       "      <td>55000.000000</td>\n",
       "      <td>55000.000000</td>\n",
       "      <td>70000.000000</td>\n",
       "    </tr>\n",
       "    <tr>\n",
       "      <th>75%</th>\n",
       "      <td>70000.000000</td>\n",
       "      <td>70000.000000</td>\n",
       "      <td>85000.000000</td>\n",
       "    </tr>\n",
       "    <tr>\n",
       "      <th>max</th>\n",
       "      <td>150000.000000</td>\n",
       "      <td>150000.000000</td>\n",
       "      <td>750000.000000</td>\n",
       "    </tr>\n",
       "  </tbody>\n",
       "</table>\n",
       "</div>"
      ],
      "text/plain": [
       "              salary     salary_min     salary_max\n",
       "count     595.000000     595.000000     595.000000\n",
       "mean    57189.033613   57189.033613   72737.552941\n",
       "std     21715.541218   21715.541218   37923.735008\n",
       "min     10000.000000   10000.000000   18000.000000\n",
       "25%     41000.000000   41000.000000   55000.000000\n",
       "50%     55000.000000   55000.000000   70000.000000\n",
       "75%     70000.000000   70000.000000   85000.000000\n",
       "max    150000.000000  150000.000000  750000.000000"
      ]
     },
     "execution_count": 8,
     "metadata": {},
     "output_type": "execute_result"
    }
   ],
   "source": [
    "UKjobs[['salary','salary_min','salary_max']].describe()"
   ]
  },
  {
   "cell_type": "markdown",
   "metadata": {},
   "source": [
    "## 1. Job Level"
   ]
  },
  {
   "cell_type": "markdown",
   "metadata": {},
   "source": [
    "### 1.1 Analytical Level"
   ]
  },
  {
   "cell_type": "code",
   "execution_count": 9,
   "metadata": {},
   "outputs": [
    {
     "data": {
      "text/html": [
       "<div>\n",
       "<style scoped>\n",
       "    .dataframe tbody tr th:only-of-type {\n",
       "        vertical-align: middle;\n",
       "    }\n",
       "\n",
       "    .dataframe tbody tr th {\n",
       "        vertical-align: top;\n",
       "    }\n",
       "\n",
       "    .dataframe thead th {\n",
       "        text-align: right;\n",
       "    }\n",
       "</style>\n",
       "<table border=\"1\" class=\"dataframe\">\n",
       "  <thead>\n",
       "    <tr style=\"text-align: right;\">\n",
       "      <th></th>\n",
       "      <th>count</th>\n",
       "      <th>mean</th>\n",
       "      <th>std</th>\n",
       "      <th>min</th>\n",
       "      <th>25%</th>\n",
       "      <th>50%</th>\n",
       "      <th>75%</th>\n",
       "      <th>max</th>\n",
       "    </tr>\n",
       "    <tr>\n",
       "      <th>Analytical Level</th>\n",
       "      <th></th>\n",
       "      <th></th>\n",
       "      <th></th>\n",
       "      <th></th>\n",
       "      <th></th>\n",
       "      <th></th>\n",
       "      <th></th>\n",
       "      <th></th>\n",
       "    </tr>\n",
       "  </thead>\n",
       "  <tbody>\n",
       "    <tr>\n",
       "      <th>DSAA</th>\n",
       "      <td>325.0</td>\n",
       "      <td>59734.443077</td>\n",
       "      <td>19024.876337</td>\n",
       "      <td>22000.0</td>\n",
       "      <td>45000.0</td>\n",
       "      <td>60000.0</td>\n",
       "      <td>70000.0</td>\n",
       "      <td>150000.0</td>\n",
       "    </tr>\n",
       "    <tr>\n",
       "      <th>Non_DSAA</th>\n",
       "      <td>270.0</td>\n",
       "      <td>54125.114815</td>\n",
       "      <td>24250.750939</td>\n",
       "      <td>10000.0</td>\n",
       "      <td>40000.0</td>\n",
       "      <td>50000.0</td>\n",
       "      <td>65000.0</td>\n",
       "      <td>150000.0</td>\n",
       "    </tr>\n",
       "  </tbody>\n",
       "</table>\n",
       "</div>"
      ],
      "text/plain": [
       "                  count          mean           std      min      25%  \\\n",
       "Analytical Level                                                        \n",
       "DSAA              325.0  59734.443077  19024.876337  22000.0  45000.0   \n",
       "Non_DSAA          270.0  54125.114815  24250.750939  10000.0  40000.0   \n",
       "\n",
       "                      50%      75%       max  \n",
       "Analytical Level                              \n",
       "DSAA              60000.0  70000.0  150000.0  \n",
       "Non_DSAA          50000.0  65000.0  150000.0  "
      ]
     },
     "execution_count": 9,
     "metadata": {},
     "output_type": "execute_result"
    }
   ],
   "source": [
    "DSAA='Data Scientist|Economist|Data Engineer|Biostatistician|Statistician|Financial Quantitative Analyst|Architect|Scientist|Engineer'\n",
    "\n",
    "filterDSAA = UKjobs['title'].str.contains(DSAA)\n",
    "\n",
    "UKjobs['Analytical Level']=UKjobs['title'].str.contains(DSAA)\n",
    "#convert a boolean to a string\n",
    "mask = UKjobs.applymap(type) != bool\n",
    "d = {True: 'DSAA', False: 'Non_DSAA'}\n",
    "\n",
    "UKjobs = UKjobs.where(mask, UKjobs.replace(d))\n",
    "UKjobs.groupby('Analytical Level')['salary'].describe()"
   ]
  },
  {
   "cell_type": "code",
   "execution_count": 458,
   "metadata": {},
   "outputs": [
    {
     "data": {
      "image/png": "[encoded data removed]",
      "text/plain": [
       "<Figure size 864x720 with 1 Axes>"
      ]
     },
     "metadata": {
      "needs_background": "light"
     },
     "output_type": "display_data"
    }
   ],
   "source": [
    "Analytical_count  = UKjobs['Analytical Level'].value_counts()\n",
    "plt.figure(figsize=(12,10))\n",
    "sns.barplot(Analytical_count.index, Analytical_count.values, alpha=0.8,palette='husl')\n",
    "plt.title('Number of Jobs by Analytical Levels', fontsize=20, color='Green')\n",
    "plt.ylabel('Number of Jobs', fontsize=20)\n",
    "plt.xlabel('Analytical Level', fontsize=20)\n",
    "\n",
    "sns.despine(offset=10)\n",
    "plt.savefig('Figure/Number of Jobs by Analytical Levels.jpg')\n",
    "\n",
    "plt.show()"
   ]
  },
  {
   "cell_type": "code",
   "execution_count": 457,
   "metadata": {},
   "outputs": [
    {
     "data": {
      "image/png": "[encoded data removed]",
      "text/plain": [
       "<Figure size 864x720 with 1 Axes>"
      ]
     },
     "metadata": {
      "needs_background": "light"
     },
     "output_type": "display_data"
    }
   ],
   "source": [
    "fig, ax = plt.subplots(1, figsize=(12,10))\n",
    "\n",
    "ax = sns.boxplot(\n",
    "    x='Analytical Level',\n",
    "    y='salary',\n",
    "    data=UKjobs,\n",
    "    fliersize=0,\n",
    "    palette='husl',order=['DSAA','Non_DSAA'],\n",
    "    ax=ax)\n",
    "\n",
    "ax.set_ylim([10000, 125000])\n",
    "ax.set_ylabel(\"Salary\", fontsize=20)\n",
    "ax.set_xlabel(\"Analytical Level\", fontsize=20)\n",
    "ax.set_title(\"Salary comparison between DSAA Jobs and Non-DSAA Jobs\", fontsize=20, color='Green')\n",
    "\n",
    "sns.despine(offset=10)\n",
    "plt.savefig('Figure/Salary comparison between DSAA Jobs and Non-DSAA Jobs.jpg')\n",
    "plt.show()"
   ]
  },
  {
   "cell_type": "markdown",
   "metadata": {},
   "source": [
    "### 1.2 Experience Level"
   ]
  },
  {
   "cell_type": "code",
   "execution_count": 17,
   "metadata": {},
   "outputs": [
    {
     "data": {
      "text/html": [
       "<div>\n",
       "<style scoped>\n",
       "    .dataframe tbody tr th:only-of-type {\n",
       "        vertical-align: middle;\n",
       "    }\n",
       "\n",
       "    .dataframe tbody tr th {\n",
       "        vertical-align: top;\n",
       "    }\n",
       "\n",
       "    .dataframe thead th {\n",
       "        text-align: right;\n",
       "    }\n",
       "</style>\n",
       "<table border=\"1\" class=\"dataframe\">\n",
       "  <thead>\n",
       "    <tr style=\"text-align: right;\">\n",
       "      <th></th>\n",
       "      <th>count</th>\n",
       "      <th>mean</th>\n",
       "      <th>std</th>\n",
       "      <th>min</th>\n",
       "      <th>25%</th>\n",
       "      <th>50%</th>\n",
       "      <th>75%</th>\n",
       "      <th>max</th>\n",
       "    </tr>\n",
       "    <tr>\n",
       "      <th>Entry_Level</th>\n",
       "      <th></th>\n",
       "      <th></th>\n",
       "      <th></th>\n",
       "      <th></th>\n",
       "      <th></th>\n",
       "      <th></th>\n",
       "      <th></th>\n",
       "      <th></th>\n",
       "    </tr>\n",
       "  </thead>\n",
       "  <tbody>\n",
       "    <tr>\n",
       "      <th>Entry_Level</th>\n",
       "      <td>15.0</td>\n",
       "      <td>27133.333333</td>\n",
       "      <td>6127.999751</td>\n",
       "      <td>18000.0</td>\n",
       "      <td>22500.0</td>\n",
       "      <td>27000.0</td>\n",
       "      <td>30000.0</td>\n",
       "      <td>40000.0</td>\n",
       "    </tr>\n",
       "    <tr>\n",
       "      <th>Non_Entry_Level</th>\n",
       "      <td>580.0</td>\n",
       "      <td>57966.336207</td>\n",
       "      <td>21421.145273</td>\n",
       "      <td>10000.0</td>\n",
       "      <td>45000.0</td>\n",
       "      <td>55000.0</td>\n",
       "      <td>70000.0</td>\n",
       "      <td>150000.0</td>\n",
       "    </tr>\n",
       "  </tbody>\n",
       "</table>\n",
       "</div>"
      ],
      "text/plain": [
       "                 count          mean           std      min      25%      50%  \\\n",
       "Entry_Level                                                                     \n",
       "Entry_Level       15.0  27133.333333   6127.999751  18000.0  22500.0  27000.0   \n",
       "Non_Entry_Level  580.0  57966.336207  21421.145273  10000.0  45000.0  55000.0   \n",
       "\n",
       "                     75%       max  \n",
       "Entry_Level                         \n",
       "Entry_Level      30000.0   40000.0  \n",
       "Non_Entry_Level  70000.0  150000.0  "
      ]
     },
     "execution_count": 17,
     "metadata": {},
     "output_type": "execute_result"
    }
   ],
   "source": [
    "# find graduate level \n",
    "Entry_Level='Graduate|Intern|Junior|Associate|Assistant|Executive|entry|Entry|generalist|graduate|intern|junior'\n",
    "filterG = UKjobs['title'].str.contains(Entry_Level)\n",
    "UKjobs['Entry_Level']=UKjobs['title'].str.contains(Entry_Level)\n",
    "\n",
    "\n",
    "#convert a boolean to a string\n",
    "mask = UKjobs.applymap(type) != bool\n",
    "d = {True: 'Entry_Level', False: 'Non_Entry_Level'}\n",
    "\n",
    "UKjobs = UKjobs.where(mask, UKjobs.replace(d))\n",
    "\n",
    "UKjobs.groupby('Entry_Level')['salary'].describe()"
   ]
  },
  {
   "cell_type": "code",
   "execution_count": null,
   "metadata": {},
   "outputs": [],
   "source": []
  },
  {
   "cell_type": "code",
   "execution_count": 18,
   "metadata": {},
   "outputs": [
    {
     "data": {
      "text/html": [
       "<div>\n",
       "<style scoped>\n",
       "    .dataframe tbody tr th:only-of-type {\n",
       "        vertical-align: middle;\n",
       "    }\n",
       "\n",
       "    .dataframe tbody tr th {\n",
       "        vertical-align: top;\n",
       "    }\n",
       "\n",
       "    .dataframe thead th {\n",
       "        text-align: right;\n",
       "    }\n",
       "</style>\n",
       "<table border=\"1\" class=\"dataframe\">\n",
       "  <thead>\n",
       "    <tr style=\"text-align: right;\">\n",
       "      <th></th>\n",
       "      <th>count</th>\n",
       "      <th>mean</th>\n",
       "      <th>std</th>\n",
       "      <th>min</th>\n",
       "      <th>25%</th>\n",
       "      <th>50%</th>\n",
       "      <th>75%</th>\n",
       "      <th>max</th>\n",
       "    </tr>\n",
       "    <tr>\n",
       "      <th>Experienced_Level</th>\n",
       "      <th></th>\n",
       "      <th></th>\n",
       "      <th></th>\n",
       "      <th></th>\n",
       "      <th></th>\n",
       "      <th></th>\n",
       "      <th></th>\n",
       "      <th></th>\n",
       "    </tr>\n",
       "  </thead>\n",
       "  <tbody>\n",
       "    <tr>\n",
       "      <th>Highly_Experienced</th>\n",
       "      <td>277.0</td>\n",
       "      <td>66356.389892</td>\n",
       "      <td>22644.399223</td>\n",
       "      <td>10000.0</td>\n",
       "      <td>50000.0</td>\n",
       "      <td>65000.0</td>\n",
       "      <td>80000.0</td>\n",
       "      <td>150000.0</td>\n",
       "    </tr>\n",
       "    <tr>\n",
       "      <th>Non_Highly_Experienced</th>\n",
       "      <td>318.0</td>\n",
       "      <td>49203.632075</td>\n",
       "      <td>17313.974693</td>\n",
       "      <td>18000.0</td>\n",
       "      <td>40000.0</td>\n",
       "      <td>45000.0</td>\n",
       "      <td>60000.0</td>\n",
       "      <td>125000.0</td>\n",
       "    </tr>\n",
       "  </tbody>\n",
       "</table>\n",
       "</div>"
      ],
      "text/plain": [
       "                        count          mean           std      min      25%  \\\n",
       "Experienced_Level                                                             \n",
       "Highly_Experienced      277.0  66356.389892  22644.399223  10000.0  50000.0   \n",
       "Non_Highly_Experienced  318.0  49203.632075  17313.974693  18000.0  40000.0   \n",
       "\n",
       "                            50%      75%       max  \n",
       "Experienced_Level                                   \n",
       "Highly_Experienced      65000.0  80000.0  150000.0  \n",
       "Non_Highly_Experienced  45000.0  60000.0  125000.0  "
      ]
     },
     "execution_count": 18,
     "metadata": {},
     "output_type": "execute_result"
    }
   ],
   "source": [
    "Highly_Experienced='Manager|Senior|Lead|Director|Head|CTO|manager|director|lead|cto|head'\n",
    "\n",
    "filterM = UKjobs['title'].str.contains(Highly_Experienced)\n",
    "UKjobs[filterM].head(2)\n",
    "UKjobs['Experienced_Level']=UKjobs['title'].str.contains(Highly_Experienced)\n",
    "\n",
    "\n",
    "#convert a boolean to a string\n",
    "mask = UKjobs.applymap(type) != bool\n",
    "d = {True: 'Highly_Experienced', False: 'Non_Highly_Experienced'}\n",
    "\n",
    "UKjobs = UKjobs.where(mask, UKjobs.replace(d))\n",
    "UKjobs.groupby(['Experienced_Level'])['salary'].describe()"
   ]
  },
  {
   "cell_type": "code",
   "execution_count": 21,
   "metadata": {},
   "outputs": [],
   "source": [
    "# classify 3 levels for each job\n",
    "UKjobs.loc[(UKjobs['Entry_Level'] == 'Entry_Level') & (UKjobs['Experienced_Level'] != 'Highly_Experienced'), 'Experience Level'] = 'Entry' \n",
    "UKjobs.loc[(UKjobs['Entry_Level'] != 'Entry_Level') & (UKjobs['Experienced_Level'] == 'Highly_Experienced'), 'Experience Level'] = 'Senior or above'\n",
    "UKjobs.loc[(UKjobs['Entry_Level'] != 'Entry_Level') & (UKjobs['Experienced_Level'] != 'Highly_Experienced'), 'Experience Level'] = 'Experienced'  \n"
   ]
  },
  {
   "cell_type": "code",
   "execution_count": 32,
   "metadata": {},
   "outputs": [
    {
     "data": {
      "text/html": [
       "<div>\n",
       "<style scoped>\n",
       "    .dataframe tbody tr th:only-of-type {\n",
       "        vertical-align: middle;\n",
       "    }\n",
       "\n",
       "    .dataframe tbody tr th {\n",
       "        vertical-align: top;\n",
       "    }\n",
       "\n",
       "    .dataframe thead th {\n",
       "        text-align: right;\n",
       "    }\n",
       "</style>\n",
       "<table border=\"1\" class=\"dataframe\">\n",
       "  <thead>\n",
       "    <tr style=\"text-align: right;\">\n",
       "      <th></th>\n",
       "      <th>count</th>\n",
       "      <th>mean</th>\n",
       "      <th>std</th>\n",
       "      <th>min</th>\n",
       "      <th>25%</th>\n",
       "      <th>50%</th>\n",
       "      <th>75%</th>\n",
       "      <th>max</th>\n",
       "    </tr>\n",
       "    <tr>\n",
       "      <th>Experience Level</th>\n",
       "      <th></th>\n",
       "      <th></th>\n",
       "      <th></th>\n",
       "      <th></th>\n",
       "      <th></th>\n",
       "      <th></th>\n",
       "      <th></th>\n",
       "      <th></th>\n",
       "    </tr>\n",
       "  </thead>\n",
       "  <tbody>\n",
       "    <tr>\n",
       "      <th>Entry</th>\n",
       "      <td>15.0</td>\n",
       "      <td>27133.333333</td>\n",
       "      <td>6127.999751</td>\n",
       "      <td>18000.0</td>\n",
       "      <td>22500.0</td>\n",
       "      <td>27000.0</td>\n",
       "      <td>30000.0</td>\n",
       "      <td>40000.0</td>\n",
       "    </tr>\n",
       "    <tr>\n",
       "      <th>Experienced</th>\n",
       "      <td>303.0</td>\n",
       "      <td>50296.221122</td>\n",
       "      <td>16956.738683</td>\n",
       "      <td>18000.0</td>\n",
       "      <td>40000.0</td>\n",
       "      <td>50000.0</td>\n",
       "      <td>60000.0</td>\n",
       "      <td>125000.0</td>\n",
       "    </tr>\n",
       "    <tr>\n",
       "      <th>Senior or above</th>\n",
       "      <td>277.0</td>\n",
       "      <td>66356.389892</td>\n",
       "      <td>22644.399223</td>\n",
       "      <td>10000.0</td>\n",
       "      <td>50000.0</td>\n",
       "      <td>65000.0</td>\n",
       "      <td>80000.0</td>\n",
       "      <td>150000.0</td>\n",
       "    </tr>\n",
       "  </tbody>\n",
       "</table>\n",
       "</div>"
      ],
      "text/plain": [
       "                  count          mean           std      min      25%  \\\n",
       "Experience Level                                                        \n",
       "Entry              15.0  27133.333333   6127.999751  18000.0  22500.0   \n",
       "Experienced       303.0  50296.221122  16956.738683  18000.0  40000.0   \n",
       "Senior or above   277.0  66356.389892  22644.399223  10000.0  50000.0   \n",
       "\n",
       "                      50%      75%       max  \n",
       "Experience Level                              \n",
       "Entry             27000.0  30000.0   40000.0  \n",
       "Experienced       50000.0  60000.0  125000.0  \n",
       "Senior or above   65000.0  80000.0  150000.0  "
      ]
     },
     "execution_count": 32,
     "metadata": {},
     "output_type": "execute_result"
    }
   ],
   "source": [
    "UKjobs.groupby(['Experience Level'])['salary'].describe()"
   ]
  },
  {
   "cell_type": "code",
   "execution_count": 456,
   "metadata": {},
   "outputs": [
    {
     "data": {
      "image/png": "[encoded data removed]",
      "text/plain": [
       "<Figure size 864x720 with 1 Axes>"
      ]
     },
     "metadata": {
      "needs_background": "light"
     },
     "output_type": "display_data"
    }
   ],
   "source": [
    "fig, ax = plt.subplots(1, figsize=(12,10))\n",
    "\n",
    "ax = sns.boxplot(\n",
    "    x='Experience Level',\n",
    "    y='salary',\n",
    "    data=UKjobs,\n",
    "    fliersize=0,\n",
    "    palette='husl', order=['Entry','Experienced','Senior or above'],\n",
    "    ax=ax)\n",
    "\n",
    "ax.set_ylim([10000, 125000])\n",
    "ax.set_ylabel(\"Salary\", fontsize=20)\n",
    "ax.set_xlabel(\"Experience Level\", fontsize=20)\n",
    "ax.set_title(\"Salary comparison between Experience Levels\", fontsize=20, color='Green')\n",
    "\n",
    "sns.despine(offset=10)\n",
    "plt.savefig('Figure/Salary comparison between Experience Levels.jpg')\n",
    "plt.show()"
   ]
  },
  {
   "cell_type": "code",
   "execution_count": 455,
   "metadata": {},
   "outputs": [
    {
     "data": {
      "image/png": "[encoded data removed]",
      "text/plain": [
       "<Figure size 864x720 with 1 Axes>"
      ]
     },
     "metadata": {
      "needs_background": "light"
     },
     "output_type": "display_data"
    }
   ],
   "source": [
    "experience_count  = UKjobs['Experience Level'].value_counts()\n",
    "plt.figure(figsize=(12,10))\n",
    "sns.barplot(experience_count.index, experience_count.values, alpha=0.8,palette='husl',order=['Entry','Experienced','Senior or above'])\n",
    "plt.title('Number of Jobs by Experience Levels', fontsize=20, color='Green')\n",
    "plt.ylabel('Number of Jobs', fontsize=20)\n",
    "plt.xlabel('Experience Level', fontsize=20)\n",
    "sns.despine(offset=10)\n",
    "plt.savefig('Figure/Number of jobs by Experience Levels.jpg')\n",
    "plt.show()"
   ]
  },
  {
   "cell_type": "markdown",
   "metadata": {},
   "source": [
    "### 1.3 Salary comparison between Analytical Level and Experience Level "
   ]
  },
  {
   "cell_type": "code",
   "execution_count": 33,
   "metadata": {},
   "outputs": [
    {
     "data": {
      "text/html": [
       "<div>\n",
       "<style scoped>\n",
       "    .dataframe tbody tr th:only-of-type {\n",
       "        vertical-align: middle;\n",
       "    }\n",
       "\n",
       "    .dataframe tbody tr th {\n",
       "        vertical-align: top;\n",
       "    }\n",
       "\n",
       "    .dataframe thead th {\n",
       "        text-align: right;\n",
       "    }\n",
       "</style>\n",
       "<table border=\"1\" class=\"dataframe\">\n",
       "  <thead>\n",
       "    <tr style=\"text-align: right;\">\n",
       "      <th></th>\n",
       "      <th></th>\n",
       "      <th>count</th>\n",
       "      <th>mean</th>\n",
       "      <th>std</th>\n",
       "      <th>min</th>\n",
       "      <th>25%</th>\n",
       "      <th>50%</th>\n",
       "      <th>75%</th>\n",
       "      <th>max</th>\n",
       "    </tr>\n",
       "    <tr>\n",
       "      <th>Experience Level</th>\n",
       "      <th>Analytical Level</th>\n",
       "      <th></th>\n",
       "      <th></th>\n",
       "      <th></th>\n",
       "      <th></th>\n",
       "      <th></th>\n",
       "      <th></th>\n",
       "      <th></th>\n",
       "      <th></th>\n",
       "    </tr>\n",
       "  </thead>\n",
       "  <tbody>\n",
       "    <tr>\n",
       "      <th rowspan=\"2\" valign=\"top\">Entry</th>\n",
       "      <th>DSAA</th>\n",
       "      <td>7.0</td>\n",
       "      <td>28714.285714</td>\n",
       "      <td>5707.138387</td>\n",
       "      <td>22000.0</td>\n",
       "      <td>26000.0</td>\n",
       "      <td>27000.0</td>\n",
       "      <td>30000.0</td>\n",
       "      <td>40000.0</td>\n",
       "    </tr>\n",
       "    <tr>\n",
       "      <th>Non_DSAA</th>\n",
       "      <td>8.0</td>\n",
       "      <td>25750.000000</td>\n",
       "      <td>6519.202405</td>\n",
       "      <td>18000.0</td>\n",
       "      <td>20000.0</td>\n",
       "      <td>25500.0</td>\n",
       "      <td>29500.0</td>\n",
       "      <td>35000.0</td>\n",
       "    </tr>\n",
       "    <tr>\n",
       "      <th rowspan=\"2\" valign=\"top\">Experienced</th>\n",
       "      <th>DSAA</th>\n",
       "      <td>189.0</td>\n",
       "      <td>54816.878307</td>\n",
       "      <td>16932.978690</td>\n",
       "      <td>23000.0</td>\n",
       "      <td>45000.0</td>\n",
       "      <td>50000.0</td>\n",
       "      <td>60000.0</td>\n",
       "      <td>125000.0</td>\n",
       "    </tr>\n",
       "    <tr>\n",
       "      <th>Non_DSAA</th>\n",
       "      <td>114.0</td>\n",
       "      <td>42801.447368</td>\n",
       "      <td>14162.107921</td>\n",
       "      <td>18000.0</td>\n",
       "      <td>35000.0</td>\n",
       "      <td>42500.0</td>\n",
       "      <td>50000.0</td>\n",
       "      <td>100000.0</td>\n",
       "    </tr>\n",
       "    <tr>\n",
       "      <th rowspan=\"2\" valign=\"top\">Senior or above</th>\n",
       "      <th>DSAA</th>\n",
       "      <td>129.0</td>\n",
       "      <td>68622.511628</td>\n",
       "      <td>18043.710132</td>\n",
       "      <td>38000.0</td>\n",
       "      <td>55000.0</td>\n",
       "      <td>70000.0</td>\n",
       "      <td>80000.0</td>\n",
       "      <td>150000.0</td>\n",
       "    </tr>\n",
       "    <tr>\n",
       "      <th>Non_DSAA</th>\n",
       "      <td>148.0</td>\n",
       "      <td>64381.189189</td>\n",
       "      <td>25900.209844</td>\n",
       "      <td>10000.0</td>\n",
       "      <td>45000.0</td>\n",
       "      <td>60000.0</td>\n",
       "      <td>80000.0</td>\n",
       "      <td>150000.0</td>\n",
       "    </tr>\n",
       "  </tbody>\n",
       "</table>\n",
       "</div>"
      ],
      "text/plain": [
       "                                   count          mean           std      min  \\\n",
       "Experience Level Analytical Level                                               \n",
       "Entry            DSAA                7.0  28714.285714   5707.138387  22000.0   \n",
       "                 Non_DSAA            8.0  25750.000000   6519.202405  18000.0   \n",
       "Experienced      DSAA              189.0  54816.878307  16932.978690  23000.0   \n",
       "                 Non_DSAA          114.0  42801.447368  14162.107921  18000.0   \n",
       "Senior or above  DSAA              129.0  68622.511628  18043.710132  38000.0   \n",
       "                 Non_DSAA          148.0  64381.189189  25900.209844  10000.0   \n",
       "\n",
       "                                       25%      50%      75%       max  \n",
       "Experience Level Analytical Level                                       \n",
       "Entry            DSAA              26000.0  27000.0  30000.0   40000.0  \n",
       "                 Non_DSAA          20000.0  25500.0  29500.0   35000.0  \n",
       "Experienced      DSAA              45000.0  50000.0  60000.0  125000.0  \n",
       "                 Non_DSAA          35000.0  42500.0  50000.0  100000.0  \n",
       "Senior or above  DSAA              55000.0  70000.0  80000.0  150000.0  \n",
       "                 Non_DSAA          45000.0  60000.0  80000.0  150000.0  "
      ]
     },
     "execution_count": 33,
     "metadata": {},
     "output_type": "execute_result"
    }
   ],
   "source": [
    "UKjobs.groupby(['Experience Level','Analytical Level'])['salary'].describe()"
   ]
  },
  {
   "cell_type": "code",
   "execution_count": null,
   "metadata": {},
   "outputs": [],
   "source": []
  },
  {
   "cell_type": "code",
   "execution_count": 454,
   "metadata": {},
   "outputs": [
    {
     "data": {
      "image/png": "[encoded data removed]",
      "text/plain": [
       "<Figure size 864x720 with 1 Axes>"
      ]
     },
     "metadata": {
      "needs_background": "light"
     },
     "output_type": "display_data"
    }
   ],
   "source": [
    "# plot number of jobs divided by Analytical Level \n",
    "fig, ax = plt.subplots(1, figsize=(12,10))\n",
    "ax=sns.countplot(x=\"Experience Level\",hue='Analytical Level', data=UKjobs,order=['Entry','Experienced','Senior or above'],hue_order=['DSAA','Non_DSAA'],palette='husl')\n",
    "ax.set_ylim([0, 200])\n",
    "ax.set_ylabel(\"Number of jobs\", fontsize=20)\n",
    "ax.set_xlabel(\"Experience Level\", fontsize=20)\n",
    "ax.set_title(\"Number of jobs by Analytical Levels and Experience Levels\", fontsize=20, color='Green')\n",
    "sns.despine(offset=10)\n",
    "plt.savefig('Figure/Number of jobs by Analytical Levels and Experience Levels.jpg')\n",
    "plt.show()"
   ]
  },
  {
   "cell_type": "code",
   "execution_count": 453,
   "metadata": {},
   "outputs": [
    {
     "data": {
      "image/png": "[encoded data removed]",
      "text/plain": [
       "<Figure size 864x720 with 1 Axes>"
      ]
     },
     "metadata": {
      "needs_background": "light"
     },
     "output_type": "display_data"
    }
   ],
   "source": [
    "fig, ax = plt.subplots(1, figsize=(12,10))\n",
    "\n",
    "ax = sns.boxplot(\n",
    "    x='Experience Level',\n",
    "    y='salary',\n",
    "    hue='Analytical Level',\n",
    "    data=UKjobs,\n",
    "    fliersize=0,\n",
    "    palette='Paired',order=['Entry','Experienced','Senior or above'], \n",
    "    ax=ax)\n",
    "\n",
    "ax.set_ylim([10000, 125000])\n",
    "ax.set_ylabel(\"Salary\", fontsize=20)\n",
    "ax.set_xlabel(\"Experience Level\", fontsize=20)\n",
    "ax.set_title(\"Salary comparison between DSAA Jobs and Non-DSAA Jobs \\n by Experience Levels\", fontsize=20, color='Purple')\n",
    "\n",
    "sns.despine(offset=10)\n",
    "plt.savefig('Figure/Salary comparison between DSAA Jobs and Non-DSAA Jobs \\n by Experience Levels.jpg')\n",
    "plt.show()"
   ]
  },
  {
   "cell_type": "markdown",
   "metadata": {},
   "source": [
    "## 2. Location"
   ]
  },
  {
   "cell_type": "code",
   "execution_count": 452,
   "metadata": {},
   "outputs": [
    {
     "data": {
      "image/png": "[encoded data removed]",
      "text/plain": [
       "<Figure size 720x360 with 1 Axes>"
      ]
     },
     "metadata": {
      "needs_background": "light"
     },
     "output_type": "display_data"
    }
   ],
   "source": [
    "city_count  = UKjobs['city'].value_counts()\n",
    "city_count = city_count[:10,]\n",
    "plt.figure(figsize=(10,5))\n",
    "sns.barplot(city_count.index, city_count.values, alpha=0.8,palette='husl')\n",
    "plt.title('Top 10 cities hiring the most DSSA jobs ', fontsize=17, color='Purple')\n",
    "plt.ylabel('Number of Jobs', fontsize=20)\n",
    "plt.xlabel('City', fontsize=20)\n",
    "plt.savefig('Figure/Top 10 cities hiring the most DSSA jobs.jpg')\n",
    "plt.show()"
   ]
  },
  {
   "cell_type": "code",
   "execution_count": null,
   "metadata": {},
   "outputs": [],
   "source": []
  },
  {
   "cell_type": "code",
   "execution_count": 27,
   "metadata": {},
   "outputs": [
    {
     "data": {
      "text/plain": [
       "London        309\n",
       "Manchester     43\n",
       "Bristol        17\n",
       "Camden         16\n",
       "Birmingham     14\n",
       "Nottingham     11\n",
       "Southwark      11\n",
       "Uxbridge        9\n",
       "Reading         9\n",
       "Cheltenham      9\n",
       "Name: city, dtype: int64"
      ]
     },
     "execution_count": 27,
     "metadata": {},
     "output_type": "execute_result"
    }
   ],
   "source": [
    "number=UKjobs.city.value_counts(normalize=False)[:10]\n",
    "number"
   ]
  },
  {
   "cell_type": "code",
   "execution_count": 28,
   "metadata": {},
   "outputs": [
    {
     "data": {
      "text/plain": [
       "London        0.519328\n",
       "Manchester    0.072269\n",
       "Bristol       0.028571\n",
       "Camden        0.026891\n",
       "Birmingham    0.023529\n",
       "Nottingham    0.018487\n",
       "Southwark     0.018487\n",
       "Uxbridge      0.015126\n",
       "Reading       0.015126\n",
       "Cheltenham    0.015126\n",
       "Name: city, dtype: float64"
      ]
     },
     "execution_count": 28,
     "metadata": {},
     "output_type": "execute_result"
    }
   ],
   "source": [
    "percent=UKjobs.city.value_counts(normalize=True)[:10]\n",
    "percent"
   ]
  },
  {
   "cell_type": "code",
   "execution_count": 49,
   "metadata": {},
   "outputs": [
    {
     "data": {
      "text/html": [
       "<div>\n",
       "<style scoped>\n",
       "    .dataframe tbody tr th:only-of-type {\n",
       "        vertical-align: middle;\n",
       "    }\n",
       "\n",
       "    .dataframe tbody tr th {\n",
       "        vertical-align: top;\n",
       "    }\n",
       "\n",
       "    .dataframe thead th {\n",
       "        text-align: right;\n",
       "    }\n",
       "</style>\n",
       "<table border=\"1\" class=\"dataframe\">\n",
       "  <thead>\n",
       "    <tr style=\"text-align: right;\">\n",
       "      <th></th>\n",
       "      <th></th>\n",
       "      <th>count</th>\n",
       "      <th>mean</th>\n",
       "      <th>std</th>\n",
       "      <th>min</th>\n",
       "      <th>25%</th>\n",
       "      <th>50%</th>\n",
       "      <th>75%</th>\n",
       "      <th>max</th>\n",
       "    </tr>\n",
       "    <tr>\n",
       "      <th>Capital</th>\n",
       "      <th>Analytical Level</th>\n",
       "      <th></th>\n",
       "      <th></th>\n",
       "      <th></th>\n",
       "      <th></th>\n",
       "      <th></th>\n",
       "      <th></th>\n",
       "      <th></th>\n",
       "      <th></th>\n",
       "    </tr>\n",
       "  </thead>\n",
       "  <tbody>\n",
       "    <tr>\n",
       "      <th rowspan=\"2\" valign=\"top\">London</th>\n",
       "      <th>DSAA</th>\n",
       "      <td>185.0</td>\n",
       "      <td>65202.972973</td>\n",
       "      <td>20080.731201</td>\n",
       "      <td>22000.0</td>\n",
       "      <td>50000.0</td>\n",
       "      <td>60000.0</td>\n",
       "      <td>75000.0</td>\n",
       "      <td>150000.0</td>\n",
       "    </tr>\n",
       "    <tr>\n",
       "      <th>Non_DSAA</th>\n",
       "      <td>124.0</td>\n",
       "      <td>62629.032258</td>\n",
       "      <td>28190.832778</td>\n",
       "      <td>18000.0</td>\n",
       "      <td>45000.0</td>\n",
       "      <td>55000.0</td>\n",
       "      <td>80000.0</td>\n",
       "      <td>150000.0</td>\n",
       "    </tr>\n",
       "    <tr>\n",
       "      <th rowspan=\"2\" valign=\"top\">Non-London</th>\n",
       "      <th>DSAA</th>\n",
       "      <td>140.0</td>\n",
       "      <td>52508.171429</td>\n",
       "      <td>14747.770291</td>\n",
       "      <td>25000.0</td>\n",
       "      <td>40000.0</td>\n",
       "      <td>50000.0</td>\n",
       "      <td>60000.0</td>\n",
       "      <td>95000.0</td>\n",
       "    </tr>\n",
       "    <tr>\n",
       "      <th>Non_DSAA</th>\n",
       "      <td>146.0</td>\n",
       "      <td>46902.609589</td>\n",
       "      <td>17392.900947</td>\n",
       "      <td>10000.0</td>\n",
       "      <td>35000.0</td>\n",
       "      <td>45000.0</td>\n",
       "      <td>55000.0</td>\n",
       "      <td>100000.0</td>\n",
       "    </tr>\n",
       "  </tbody>\n",
       "</table>\n",
       "</div>"
      ],
      "text/plain": [
       "                             count          mean           std      min  \\\n",
       "Capital    Analytical Level                                               \n",
       "London     DSAA              185.0  65202.972973  20080.731201  22000.0   \n",
       "           Non_DSAA          124.0  62629.032258  28190.832778  18000.0   \n",
       "Non-London DSAA              140.0  52508.171429  14747.770291  25000.0   \n",
       "           Non_DSAA          146.0  46902.609589  17392.900947  10000.0   \n",
       "\n",
       "                                 25%      50%      75%       max  \n",
       "Capital    Analytical Level                                       \n",
       "London     DSAA              50000.0  60000.0  75000.0  150000.0  \n",
       "           Non_DSAA          45000.0  55000.0  80000.0  150000.0  \n",
       "Non-London DSAA              40000.0  50000.0  60000.0   95000.0  \n",
       "           Non_DSAA          35000.0  45000.0  55000.0  100000.0  "
      ]
     },
     "execution_count": 49,
     "metadata": {},
     "output_type": "execute_result"
    }
   ],
   "source": [
    "UKjobs.groupby(['Capital','Analytical Level'])['salary'].describe()"
   ]
  },
  {
   "cell_type": "code",
   "execution_count": 30,
   "metadata": {},
   "outputs": [],
   "source": [
    "#add a new column for Capital\n",
    "UKjobs['Capital']=UKjobs['city']=='London'\n",
    "#convert a boolean to a string\n",
    "mask = UKjobs.applymap(type) != bool\n",
    "d = {True: 'London', False: 'Non-London'}\n",
    "\n",
    "UKjobs = UKjobs.where(mask, UKjobs.replace(d))"
   ]
  },
  {
   "cell_type": "code",
   "execution_count": 430,
   "metadata": {},
   "outputs": [
    {
     "data": {
      "image/png": "[encoded data removed]",
      "text/plain": [
       "<Figure size 864x720 with 1 Axes>"
      ]
     },
     "metadata": {
      "needs_background": "light"
     },
     "output_type": "display_data"
    }
   ],
   "source": [
    "fig, ax = plt.subplots(1, figsize=(12,10))\n",
    "\n",
    "ax = sns.boxplot(\n",
    "    x='Capital',\n",
    "    y='salary',\n",
    "    data=UKjobs,\n",
    "    fliersize=0,\n",
    "    palette='Paired', \n",
    "    ax=ax)\n",
    "\n",
    "ax.set_ylim([10000, 125000])\n",
    "ax.set_ylabel(\"Salary\", fontsize=18)\n",
    "ax.set_xlabel(\"Location\", fontsize=18)\n",
    "ax.set_title(\"Salary comparison between London Jobs and Non-London Jobs\", fontsize=20, color='Blue')\n",
    "\n",
    "sns.despine(offset=10)\n",
    "plt.savefig('Figure/Salary comparison between London Jobs and Non-London Jobs.jpg')\n",
    "plt.show()"
   ]
  },
  {
   "cell_type": "code",
   "execution_count": 77,
   "metadata": {},
   "outputs": [
    {
     "data": {
      "text/html": [
       "<div>\n",
       "<style scoped>\n",
       "    .dataframe tbody tr th:only-of-type {\n",
       "        vertical-align: middle;\n",
       "    }\n",
       "\n",
       "    .dataframe tbody tr th {\n",
       "        vertical-align: top;\n",
       "    }\n",
       "\n",
       "    .dataframe thead th {\n",
       "        text-align: right;\n",
       "    }\n",
       "</style>\n",
       "<table border=\"1\" class=\"dataframe\">\n",
       "  <thead>\n",
       "    <tr style=\"text-align: right;\">\n",
       "      <th></th>\n",
       "      <th></th>\n",
       "      <th>count</th>\n",
       "      <th>mean</th>\n",
       "      <th>std</th>\n",
       "      <th>min</th>\n",
       "      <th>25%</th>\n",
       "      <th>50%</th>\n",
       "      <th>75%</th>\n",
       "      <th>max</th>\n",
       "    </tr>\n",
       "    <tr>\n",
       "      <th>Capital</th>\n",
       "      <th>Analytical Level</th>\n",
       "      <th></th>\n",
       "      <th></th>\n",
       "      <th></th>\n",
       "      <th></th>\n",
       "      <th></th>\n",
       "      <th></th>\n",
       "      <th></th>\n",
       "      <th></th>\n",
       "    </tr>\n",
       "  </thead>\n",
       "  <tbody>\n",
       "    <tr>\n",
       "      <th rowspan=\"2\" valign=\"top\">London</th>\n",
       "      <th>DSAA</th>\n",
       "      <td>185.0</td>\n",
       "      <td>65202.972973</td>\n",
       "      <td>20080.731201</td>\n",
       "      <td>22000.0</td>\n",
       "      <td>50000.0</td>\n",
       "      <td>60000.0</td>\n",
       "      <td>75000.0</td>\n",
       "      <td>150000.0</td>\n",
       "    </tr>\n",
       "    <tr>\n",
       "      <th>Non_DSAA</th>\n",
       "      <td>124.0</td>\n",
       "      <td>62629.032258</td>\n",
       "      <td>28190.832778</td>\n",
       "      <td>18000.0</td>\n",
       "      <td>45000.0</td>\n",
       "      <td>55000.0</td>\n",
       "      <td>80000.0</td>\n",
       "      <td>150000.0</td>\n",
       "    </tr>\n",
       "    <tr>\n",
       "      <th rowspan=\"2\" valign=\"top\">Non-London</th>\n",
       "      <th>DSAA</th>\n",
       "      <td>140.0</td>\n",
       "      <td>52508.171429</td>\n",
       "      <td>14747.770291</td>\n",
       "      <td>25000.0</td>\n",
       "      <td>40000.0</td>\n",
       "      <td>50000.0</td>\n",
       "      <td>60000.0</td>\n",
       "      <td>95000.0</td>\n",
       "    </tr>\n",
       "    <tr>\n",
       "      <th>Non_DSAA</th>\n",
       "      <td>146.0</td>\n",
       "      <td>46902.609589</td>\n",
       "      <td>17392.900947</td>\n",
       "      <td>10000.0</td>\n",
       "      <td>35000.0</td>\n",
       "      <td>45000.0</td>\n",
       "      <td>55000.0</td>\n",
       "      <td>100000.0</td>\n",
       "    </tr>\n",
       "  </tbody>\n",
       "</table>\n",
       "</div>"
      ],
      "text/plain": [
       "                             count          mean           std      min  \\\n",
       "Capital    Analytical Level                                               \n",
       "London     DSAA              185.0  65202.972973  20080.731201  22000.0   \n",
       "           Non_DSAA          124.0  62629.032258  28190.832778  18000.0   \n",
       "Non-London DSAA              140.0  52508.171429  14747.770291  25000.0   \n",
       "           Non_DSAA          146.0  46902.609589  17392.900947  10000.0   \n",
       "\n",
       "                                 25%      50%      75%       max  \n",
       "Capital    Analytical Level                                       \n",
       "London     DSAA              50000.0  60000.0  75000.0  150000.0  \n",
       "           Non_DSAA          45000.0  55000.0  80000.0  150000.0  \n",
       "Non-London DSAA              40000.0  50000.0  60000.0   95000.0  \n",
       "           Non_DSAA          35000.0  45000.0  55000.0  100000.0  "
      ]
     },
     "execution_count": 77,
     "metadata": {},
     "output_type": "execute_result"
    }
   ],
   "source": [
    "UKjobs.groupby(['Capital','Analytical Level'])['salary'].describe()"
   ]
  },
  {
   "cell_type": "code",
   "execution_count": 436,
   "metadata": {},
   "outputs": [
    {
     "data": {
      "image/png": "[encoded data removed]",
      "text/plain": [
       "<Figure size 576x432 with 1 Axes>"
      ]
     },
     "metadata": {
      "needs_background": "light"
     },
     "output_type": "display_data"
    }
   ],
   "source": [
    "# plot number of jobs divided by Analytical Level \n",
    "fig, ax = plt.subplots(1, figsize=(8,6))\n",
    "ax=sns.countplot(x=\"Capital\",hue='Analytical Level', data=UKjobs,hue_order=['DSAA','Non_DSAA'],palette='husl')\n",
    "ax.set_ylim([0, 200])\n",
    "ax.set_ylabel(\"Number of jobs\", fontsize=18)\n",
    "ax.set_xlabel(\"Are jobs located in London?\", fontsize=18)\n",
    "ax.set_title(\"Number of Jobs by Locations and Analytical Levels\", fontsize=20, color='Green')\n",
    "sns.despine(offset=10)\n",
    "plt.savefig('Figure/Number of Jobs by Locations and Analytical Levels.jpg')\n",
    "plt.show()"
   ]
  },
  {
   "cell_type": "code",
   "execution_count": null,
   "metadata": {},
   "outputs": [],
   "source": []
  },
  {
   "cell_type": "code",
   "execution_count": null,
   "metadata": {},
   "outputs": [],
   "source": []
  },
  {
   "cell_type": "code",
   "execution_count": 432,
   "metadata": {},
   "outputs": [
    {
     "data": {
      "image/png": "[encoded data removed]",
      "text/plain": [
       "<Figure size 864x720 with 1 Axes>"
      ]
     },
     "metadata": {
      "needs_background": "light"
     },
     "output_type": "display_data"
    }
   ],
   "source": [
    "fig, ax = plt.subplots(1, figsize=(12,10))\n",
    "\n",
    "ax = sns.boxplot(\n",
    "    x='Analytical Level',\n",
    "    y='salary',\n",
    "    hue='Capital',\n",
    "    data=UKjobs,\n",
    "    fliersize=0,\n",
    "    palette='Paired',\n",
    "    ax=ax)\n",
    "\n",
    "ax.set_ylim([10000, 125000])\n",
    "ax.set_ylabel(\"Salary\", fontsize=18)\n",
    "ax.set_xlabel(\"Analytical Level\", fontsize=18)\n",
    "ax.set_title(\"Salary comparison between London Jobs and Non-London Jobs \\n by Analytical Levels\", fontsize=20, color='Blue')\n",
    "\n",
    "sns.despine(offset=10)\n",
    "plt.savefig('Figure/Salary comparison between London Jobs and Non-London Jobs \\n by Analytical Levels.jpg')\n",
    "plt.show()"
   ]
  },
  {
   "cell_type": "code",
   "execution_count": null,
   "metadata": {},
   "outputs": [],
   "source": []
  },
  {
   "cell_type": "code",
   "execution_count": null,
   "metadata": {},
   "outputs": [],
   "source": []
  },
  {
   "cell_type": "code",
   "execution_count": 99,
   "metadata": {},
   "outputs": [
    {
     "data": {
      "text/html": [
       "<div>\n",
       "<style scoped>\n",
       "    .dataframe tbody tr th:only-of-type {\n",
       "        vertical-align: middle;\n",
       "    }\n",
       "\n",
       "    .dataframe tbody tr th {\n",
       "        vertical-align: top;\n",
       "    }\n",
       "\n",
       "    .dataframe thead th {\n",
       "        text-align: right;\n",
       "    }\n",
       "</style>\n",
       "<table border=\"1\" class=\"dataframe\">\n",
       "  <thead>\n",
       "    <tr style=\"text-align: right;\">\n",
       "      <th></th>\n",
       "      <th></th>\n",
       "      <th>count</th>\n",
       "      <th>mean</th>\n",
       "      <th>std</th>\n",
       "      <th>min</th>\n",
       "      <th>25%</th>\n",
       "      <th>50%</th>\n",
       "      <th>75%</th>\n",
       "      <th>max</th>\n",
       "    </tr>\n",
       "    <tr>\n",
       "      <th>Capital</th>\n",
       "      <th>Experience Level</th>\n",
       "      <th></th>\n",
       "      <th></th>\n",
       "      <th></th>\n",
       "      <th></th>\n",
       "      <th></th>\n",
       "      <th></th>\n",
       "      <th></th>\n",
       "      <th></th>\n",
       "    </tr>\n",
       "  </thead>\n",
       "  <tbody>\n",
       "    <tr>\n",
       "      <th rowspan=\"3\" valign=\"top\">London</th>\n",
       "      <th>Entry</th>\n",
       "      <td>10.0</td>\n",
       "      <td>28100.000000</td>\n",
       "      <td>6349.978128</td>\n",
       "      <td>18000.0</td>\n",
       "      <td>24000.0</td>\n",
       "      <td>28000.0</td>\n",
       "      <td>30000.0</td>\n",
       "      <td>40000.0</td>\n",
       "    </tr>\n",
       "    <tr>\n",
       "      <th>Experienced</th>\n",
       "      <td>134.0</td>\n",
       "      <td>56358.208955</td>\n",
       "      <td>19100.211779</td>\n",
       "      <td>20000.0</td>\n",
       "      <td>45000.0</td>\n",
       "      <td>55000.0</td>\n",
       "      <td>65000.0</td>\n",
       "      <td>125000.0</td>\n",
       "    </tr>\n",
       "    <tr>\n",
       "      <th>Senior or above</th>\n",
       "      <td>165.0</td>\n",
       "      <td>72700.303030</td>\n",
       "      <td>23472.919332</td>\n",
       "      <td>28000.0</td>\n",
       "      <td>60000.0</td>\n",
       "      <td>70000.0</td>\n",
       "      <td>80000.0</td>\n",
       "      <td>150000.0</td>\n",
       "    </tr>\n",
       "    <tr>\n",
       "      <th rowspan=\"3\" valign=\"top\">Non-London</th>\n",
       "      <th>Entry</th>\n",
       "      <td>5.0</td>\n",
       "      <td>25200.000000</td>\n",
       "      <td>5805.170109</td>\n",
       "      <td>20000.0</td>\n",
       "      <td>20000.0</td>\n",
       "      <td>25000.0</td>\n",
       "      <td>27000.0</td>\n",
       "      <td>34000.0</td>\n",
       "    </tr>\n",
       "    <tr>\n",
       "      <th>Experienced</th>\n",
       "      <td>169.0</td>\n",
       "      <td>45489.674556</td>\n",
       "      <td>13247.859734</td>\n",
       "      <td>18000.0</td>\n",
       "      <td>40000.0</td>\n",
       "      <td>45000.0</td>\n",
       "      <td>50000.0</td>\n",
       "      <td>95000.0</td>\n",
       "    </tr>\n",
       "    <tr>\n",
       "      <th>Senior or above</th>\n",
       "      <td>112.0</td>\n",
       "      <td>57010.446429</td>\n",
       "      <td>17691.174913</td>\n",
       "      <td>10000.0</td>\n",
       "      <td>45000.0</td>\n",
       "      <td>55000.0</td>\n",
       "      <td>70000.0</td>\n",
       "      <td>100000.0</td>\n",
       "    </tr>\n",
       "  </tbody>\n",
       "</table>\n",
       "</div>"
      ],
      "text/plain": [
       "                             count          mean           std      min  \\\n",
       "Capital    Experience Level                                               \n",
       "London     Entry              10.0  28100.000000   6349.978128  18000.0   \n",
       "           Experienced       134.0  56358.208955  19100.211779  20000.0   \n",
       "           Senior or above   165.0  72700.303030  23472.919332  28000.0   \n",
       "Non-London Entry               5.0  25200.000000   5805.170109  20000.0   \n",
       "           Experienced       169.0  45489.674556  13247.859734  18000.0   \n",
       "           Senior or above   112.0  57010.446429  17691.174913  10000.0   \n",
       "\n",
       "                                 25%      50%      75%       max  \n",
       "Capital    Experience Level                                       \n",
       "London     Entry             24000.0  28000.0  30000.0   40000.0  \n",
       "           Experienced       45000.0  55000.0  65000.0  125000.0  \n",
       "           Senior or above   60000.0  70000.0  80000.0  150000.0  \n",
       "Non-London Entry             20000.0  25000.0  27000.0   34000.0  \n",
       "           Experienced       40000.0  45000.0  50000.0   95000.0  \n",
       "           Senior or above   45000.0  55000.0  70000.0  100000.0  "
      ]
     },
     "execution_count": 99,
     "metadata": {},
     "output_type": "execute_result"
    }
   ],
   "source": [
    "UKjobs.groupby(['Capital','Experience Level'])['salary'].describe()"
   ]
  },
  {
   "cell_type": "code",
   "execution_count": 437,
   "metadata": {},
   "outputs": [
    {
     "data": {
      "image/png": "[encoded data removed]",
      "text/plain": [
       "<Figure size 576x432 with 1 Axes>"
      ]
     },
     "metadata": {
      "needs_background": "light"
     },
     "output_type": "display_data"
    }
   ],
   "source": [
    "# plot number of jobs divided by Experience Level \n",
    "fig, ax = plt.subplots(1, figsize=(8,6))\n",
    "ax=sns.countplot(x=\"Capital\",hue='Experience Level', data=UKjobs,hue_order=['Entry','Experienced','Senior or above'],palette='husl')\n",
    "ax.set_ylim([0, 180])\n",
    "ax.set_ylabel(\"Number of jobs\", fontsize=18)\n",
    "ax.set_xlabel(\"Are jobs located in London?\", fontsize=18)\n",
    "ax.set_title(\"Number of Jobs by Locations and Experience Levels\", fontsize=20, color='Green')\n",
    "sns.despine(offset=10)\n",
    "plt.savefig('Figure/Number of Jobs by Locations and Experience Levels.jpg')\n",
    "plt.show()"
   ]
  },
  {
   "cell_type": "code",
   "execution_count": 434,
   "metadata": {},
   "outputs": [
    {
     "data": {
      "image/png": "[encoded data removed]",
      "text/plain": [
       "<Figure size 864x720 with 1 Axes>"
      ]
     },
     "metadata": {
      "needs_background": "light"
     },
     "output_type": "display_data"
    }
   ],
   "source": [
    "fig, ax = plt.subplots(1, figsize=(12,10))\n",
    "\n",
    "ax = sns.boxplot(\n",
    "    x='Experience Level',\n",
    "    y='salary',\n",
    "    hue='Capital',\n",
    "    data=UKjobs,\n",
    "    fliersize=0,\n",
    "     palette='Paired', order=['Entry','Experienced','Senior or above'],\n",
    "    ax=ax)\n",
    "\n",
    "ax.set_ylim([10000, 125000])\n",
    "ax.set_ylabel(\"Salary\", fontsize=18)\n",
    "ax.set_xlabel(\"Experience Level\", fontsize=18)\n",
    "ax.set_title(\"Salary comparison between London Jobs and Non-London Jobs \\n by Experience Level Categories\", fontsize=20, color='Blue')\n",
    "\n",
    "sns.despine(offset=10)\n",
    "plt.savefig('Figure/Salary comparison between London Jobs and Non-London Jobs by Experience Levels.jpg')\n",
    "plt.show()"
   ]
  },
  {
   "cell_type": "markdown",
   "metadata": {},
   "source": [
    "## 3. Skills"
   ]
  },
  {
   "cell_type": "markdown",
   "metadata": {},
   "source": [
    "### Python"
   ]
  },
  {
   "cell_type": "code",
   "execution_count": 220,
   "metadata": {},
   "outputs": [
    {
     "data": {
      "text/html": [
       "<div>\n",
       "<style scoped>\n",
       "    .dataframe tbody tr th:only-of-type {\n",
       "        vertical-align: middle;\n",
       "    }\n",
       "\n",
       "    .dataframe tbody tr th {\n",
       "        vertical-align: top;\n",
       "    }\n",
       "\n",
       "    .dataframe thead th {\n",
       "        text-align: right;\n",
       "    }\n",
       "</style>\n",
       "<table border=\"1\" class=\"dataframe\">\n",
       "  <thead>\n",
       "    <tr style=\"text-align: right;\">\n",
       "      <th></th>\n",
       "      <th></th>\n",
       "      <th>count</th>\n",
       "      <th>mean</th>\n",
       "      <th>std</th>\n",
       "      <th>min</th>\n",
       "      <th>25%</th>\n",
       "      <th>50%</th>\n",
       "      <th>75%</th>\n",
       "      <th>max</th>\n",
       "    </tr>\n",
       "    <tr>\n",
       "      <th>Python</th>\n",
       "      <th>Analytical Level</th>\n",
       "      <th></th>\n",
       "      <th></th>\n",
       "      <th></th>\n",
       "      <th></th>\n",
       "      <th></th>\n",
       "      <th></th>\n",
       "      <th></th>\n",
       "      <th></th>\n",
       "    </tr>\n",
       "  </thead>\n",
       "  <tbody>\n",
       "    <tr>\n",
       "      <th rowspan=\"2\" valign=\"top\">No</th>\n",
       "      <th>DSAA</th>\n",
       "      <td>83.0</td>\n",
       "      <td>60327.638554</td>\n",
       "      <td>21693.327431</td>\n",
       "      <td>23000.0</td>\n",
       "      <td>45000.0</td>\n",
       "      <td>60000.0</td>\n",
       "      <td>73775.0</td>\n",
       "      <td>150000.0</td>\n",
       "    </tr>\n",
       "    <tr>\n",
       "      <th>Non_DSAA</th>\n",
       "      <td>132.0</td>\n",
       "      <td>53536.219697</td>\n",
       "      <td>25399.321400</td>\n",
       "      <td>18000.0</td>\n",
       "      <td>37250.0</td>\n",
       "      <td>47500.0</td>\n",
       "      <td>61104.0</td>\n",
       "      <td>150000.0</td>\n",
       "    </tr>\n",
       "    <tr>\n",
       "      <th rowspan=\"2\" valign=\"top\">Python</th>\n",
       "      <th>DSAA</th>\n",
       "      <td>242.0</td>\n",
       "      <td>59530.991736</td>\n",
       "      <td>18064.202877</td>\n",
       "      <td>22000.0</td>\n",
       "      <td>45000.0</td>\n",
       "      <td>60000.0</td>\n",
       "      <td>70000.0</td>\n",
       "      <td>125000.0</td>\n",
       "    </tr>\n",
       "    <tr>\n",
       "      <th>Non_DSAA</th>\n",
       "      <td>138.0</td>\n",
       "      <td>54688.405797</td>\n",
       "      <td>23177.764554</td>\n",
       "      <td>10000.0</td>\n",
       "      <td>40000.0</td>\n",
       "      <td>50000.0</td>\n",
       "      <td>65000.0</td>\n",
       "      <td>150000.0</td>\n",
       "    </tr>\n",
       "  </tbody>\n",
       "</table>\n",
       "</div>"
      ],
      "text/plain": [
       "                         count          mean           std      min      25%  \\\n",
       "Python Analytical Level                                                        \n",
       "No     DSAA               83.0  60327.638554  21693.327431  23000.0  45000.0   \n",
       "       Non_DSAA          132.0  53536.219697  25399.321400  18000.0  37250.0   \n",
       "Python DSAA              242.0  59530.991736  18064.202877  22000.0  45000.0   \n",
       "       Non_DSAA          138.0  54688.405797  23177.764554  10000.0  40000.0   \n",
       "\n",
       "                             50%      75%       max  \n",
       "Python Analytical Level                              \n",
       "No     DSAA              60000.0  73775.0  150000.0  \n",
       "       Non_DSAA          47500.0  61104.0  150000.0  \n",
       "Python DSAA              60000.0  70000.0  125000.0  \n",
       "       Non_DSAA          50000.0  65000.0  150000.0  "
      ]
     },
     "execution_count": 220,
     "metadata": {},
     "output_type": "execute_result"
    }
   ],
   "source": [
    "Python='Python|python'\n",
    "\n",
    "UKjobs['Python'] = UKjobs['description'].str.contains(Python)\n",
    "\n",
    "\n",
    "mask = UKjobs.applymap(type) != bool\n",
    "d = {True: 'Python', False: 'No'}\n",
    "\n",
    "UKjobs = UKjobs.where(mask, UKjobs.replace(d))\n",
    "\n",
    "UKjobs.groupby(['Python','Analytical Level'])['salary'].describe()"
   ]
  },
  {
   "cell_type": "code",
   "execution_count": 221,
   "metadata": {},
   "outputs": [
    {
     "data": {
      "text/plain": [
       "<matplotlib.axes._subplots.AxesSubplot at 0x7ff185d078e0>"
      ]
     },
     "execution_count": 221,
     "metadata": {},
     "output_type": "execute_result"
    },
    {
     "data": {
      "image/png": "[encoded data removed]",
      "text/plain": [
       "<Figure size 432x288 with 1 Axes>"
      ]
     },
     "metadata": {
      "needs_background": "light"
     },
     "output_type": "display_data"
    }
   ],
   "source": []
  },
  {
   "cell_type": "markdown",
   "metadata": {},
   "source": [
    "### R"
   ]
  },
  {
   "cell_type": "code",
   "execution_count": 223,
   "metadata": {},
   "outputs": [
    {
     "data": {
      "text/html": [
       "<div>\n",
       "<style scoped>\n",
       "    .dataframe tbody tr th:only-of-type {\n",
       "        vertical-align: middle;\n",
       "    }\n",
       "\n",
       "    .dataframe tbody tr th {\n",
       "        vertical-align: top;\n",
       "    }\n",
       "\n",
       "    .dataframe thead th {\n",
       "        text-align: right;\n",
       "    }\n",
       "</style>\n",
       "<table border=\"1\" class=\"dataframe\">\n",
       "  <thead>\n",
       "    <tr style=\"text-align: right;\">\n",
       "      <th></th>\n",
       "      <th></th>\n",
       "      <th>count</th>\n",
       "      <th>mean</th>\n",
       "      <th>std</th>\n",
       "      <th>min</th>\n",
       "      <th>25%</th>\n",
       "      <th>50%</th>\n",
       "      <th>75%</th>\n",
       "      <th>max</th>\n",
       "    </tr>\n",
       "    <tr>\n",
       "      <th>R</th>\n",
       "      <th>Analytical Level</th>\n",
       "      <th></th>\n",
       "      <th></th>\n",
       "      <th></th>\n",
       "      <th></th>\n",
       "      <th></th>\n",
       "      <th></th>\n",
       "      <th></th>\n",
       "      <th></th>\n",
       "    </tr>\n",
       "  </thead>\n",
       "  <tbody>\n",
       "    <tr>\n",
       "      <th rowspan=\"2\" valign=\"top\">No</th>\n",
       "      <th>DSAA</th>\n",
       "      <td>258.0</td>\n",
       "      <td>61551.139535</td>\n",
       "      <td>19409.010541</td>\n",
       "      <td>22000.0</td>\n",
       "      <td>48500.0</td>\n",
       "      <td>60000.0</td>\n",
       "      <td>75000.0</td>\n",
       "      <td>150000.0</td>\n",
       "    </tr>\n",
       "    <tr>\n",
       "      <th>Non_DSAA</th>\n",
       "      <td>216.0</td>\n",
       "      <td>54224.148148</td>\n",
       "      <td>23570.541399</td>\n",
       "      <td>18000.0</td>\n",
       "      <td>40000.0</td>\n",
       "      <td>50000.0</td>\n",
       "      <td>65000.0</td>\n",
       "      <td>150000.0</td>\n",
       "    </tr>\n",
       "    <tr>\n",
       "      <th rowspan=\"2\" valign=\"top\">R</th>\n",
       "      <th>DSAA</th>\n",
       "      <td>67.0</td>\n",
       "      <td>52738.805970</td>\n",
       "      <td>15727.643635</td>\n",
       "      <td>25000.0</td>\n",
       "      <td>40000.0</td>\n",
       "      <td>50000.0</td>\n",
       "      <td>60000.0</td>\n",
       "      <td>90000.0</td>\n",
       "    </tr>\n",
       "    <tr>\n",
       "      <th>Non_DSAA</th>\n",
       "      <td>54.0</td>\n",
       "      <td>53728.981481</td>\n",
       "      <td>27036.096371</td>\n",
       "      <td>10000.0</td>\n",
       "      <td>40000.0</td>\n",
       "      <td>45000.0</td>\n",
       "      <td>60000.0</td>\n",
       "      <td>150000.0</td>\n",
       "    </tr>\n",
       "  </tbody>\n",
       "</table>\n",
       "</div>"
      ],
      "text/plain": [
       "                     count          mean           std      min      25%  \\\n",
       "R  Analytical Level                                                        \n",
       "No DSAA              258.0  61551.139535  19409.010541  22000.0  48500.0   \n",
       "   Non_DSAA          216.0  54224.148148  23570.541399  18000.0  40000.0   \n",
       "R  DSAA               67.0  52738.805970  15727.643635  25000.0  40000.0   \n",
       "   Non_DSAA           54.0  53728.981481  27036.096371  10000.0  40000.0   \n",
       "\n",
       "                         50%      75%       max  \n",
       "R  Analytical Level                              \n",
       "No DSAA              60000.0  75000.0  150000.0  \n",
       "   Non_DSAA          50000.0  65000.0  150000.0  \n",
       "R  DSAA              50000.0  60000.0   90000.0  \n",
       "   Non_DSAA          45000.0  60000.0  150000.0  "
      ]
     },
     "execution_count": 223,
     "metadata": {},
     "output_type": "execute_result"
    }
   ],
   "source": [
    "R=' R | R+. |R+, |R-language|R-programming| R\\/ |\\/R|R+-|\\-R'\n",
    "UKjobs['R'] = UKjobs['description'].str.contains(R)\n",
    "\n",
    "mask = UKjobs.applymap(type) != bool\n",
    "d = {True: 'R', False: 'No'}\n",
    "\n",
    "UKjobs = UKjobs.where(mask, UKjobs.replace(d))\n",
    "\n",
    "UKjobs.groupby(['R','Analytical Level'])['salary'].describe()"
   ]
  },
  {
   "cell_type": "code",
   "execution_count": 258,
   "metadata": {},
   "outputs": [
    {
     "data": {
      "text/plain": [
       "<matplotlib.axes._subplots.AxesSubplot at 0x7ff1877194c0>"
      ]
     },
     "execution_count": 258,
     "metadata": {},
     "output_type": "execute_result"
    },
    {
     "data": {
      "image/png": "[encoded data removed]",
      "text/plain": [
       "<Figure size 432x288 with 1 Axes>"
      ]
     },
     "metadata": {
      "needs_background": "light"
     },
     "output_type": "display_data"
    }
   ],
   "source": [
    "UKjobs.groupby('Analytical Level')['R'].value_counts().unstack(0).plot.bar()"
   ]
  },
  {
   "cell_type": "code",
   "execution_count": 255,
   "metadata": {},
   "outputs": [
    {
     "data": {
      "text/plain": [
       "<matplotlib.axes._subplots.AxesSubplot at 0x7ff18745d5e0>"
      ]
     },
     "execution_count": 255,
     "metadata": {},
     "output_type": "execute_result"
    },
    {
     "data": {
      "image/png": "[encoded data removed]",
      "text/plain": [
       "<Figure size 432x288 with 1 Axes>"
      ]
     },
     "metadata": {
      "needs_background": "light"
     },
     "output_type": "display_data"
    }
   ],
   "source": [
    "sns.countplot(x=\"R\",hue='Analytical Level', data=UKjobs)\n"
   ]
  },
  {
   "cell_type": "markdown",
   "metadata": {},
   "source": [
    "### SQL"
   ]
  },
  {
   "cell_type": "code",
   "execution_count": 225,
   "metadata": {},
   "outputs": [
    {
     "data": {
      "text/html": [
       "<div>\n",
       "<style scoped>\n",
       "    .dataframe tbody tr th:only-of-type {\n",
       "        vertical-align: middle;\n",
       "    }\n",
       "\n",
       "    .dataframe tbody tr th {\n",
       "        vertical-align: top;\n",
       "    }\n",
       "\n",
       "    .dataframe thead th {\n",
       "        text-align: right;\n",
       "    }\n",
       "</style>\n",
       "<table border=\"1\" class=\"dataframe\">\n",
       "  <thead>\n",
       "    <tr style=\"text-align: right;\">\n",
       "      <th></th>\n",
       "      <th></th>\n",
       "      <th>count</th>\n",
       "      <th>mean</th>\n",
       "      <th>std</th>\n",
       "      <th>min</th>\n",
       "      <th>25%</th>\n",
       "      <th>50%</th>\n",
       "      <th>75%</th>\n",
       "      <th>max</th>\n",
       "    </tr>\n",
       "    <tr>\n",
       "      <th>SQL</th>\n",
       "      <th>Analytical Level</th>\n",
       "      <th></th>\n",
       "      <th></th>\n",
       "      <th></th>\n",
       "      <th></th>\n",
       "      <th></th>\n",
       "      <th></th>\n",
       "      <th></th>\n",
       "      <th></th>\n",
       "    </tr>\n",
       "  </thead>\n",
       "  <tbody>\n",
       "    <tr>\n",
       "      <th rowspan=\"2\" valign=\"top\">No</th>\n",
       "      <th>DSAA</th>\n",
       "      <td>138.0</td>\n",
       "      <td>63425.318841</td>\n",
       "      <td>19627.790043</td>\n",
       "      <td>25000.0</td>\n",
       "      <td>50000.0</td>\n",
       "      <td>60000.0</td>\n",
       "      <td>75000.0</td>\n",
       "      <td>150000.0</td>\n",
       "    </tr>\n",
       "    <tr>\n",
       "      <th>Non_DSAA</th>\n",
       "      <td>147.0</td>\n",
       "      <td>56601.469388</td>\n",
       "      <td>25665.878625</td>\n",
       "      <td>18000.0</td>\n",
       "      <td>40000.0</td>\n",
       "      <td>50000.0</td>\n",
       "      <td>70000.0</td>\n",
       "      <td>150000.0</td>\n",
       "    </tr>\n",
       "    <tr>\n",
       "      <th rowspan=\"2\" valign=\"top\">SQL</th>\n",
       "      <th>DSAA</th>\n",
       "      <td>187.0</td>\n",
       "      <td>57010.695187</td>\n",
       "      <td>18142.799545</td>\n",
       "      <td>22000.0</td>\n",
       "      <td>45000.0</td>\n",
       "      <td>55000.0</td>\n",
       "      <td>70000.0</td>\n",
       "      <td>125000.0</td>\n",
       "    </tr>\n",
       "    <tr>\n",
       "      <th>Non_DSAA</th>\n",
       "      <td>123.0</td>\n",
       "      <td>51165.569106</td>\n",
       "      <td>22184.797891</td>\n",
       "      <td>10000.0</td>\n",
       "      <td>40000.0</td>\n",
       "      <td>45000.0</td>\n",
       "      <td>60000.0</td>\n",
       "      <td>150000.0</td>\n",
       "    </tr>\n",
       "  </tbody>\n",
       "</table>\n",
       "</div>"
      ],
      "text/plain": [
       "                      count          mean           std      min      25%  \\\n",
       "SQL Analytical Level                                                        \n",
       "No  DSAA              138.0  63425.318841  19627.790043  25000.0  50000.0   \n",
       "    Non_DSAA          147.0  56601.469388  25665.878625  18000.0  40000.0   \n",
       "SQL DSAA              187.0  57010.695187  18142.799545  22000.0  45000.0   \n",
       "    Non_DSAA          123.0  51165.569106  22184.797891  10000.0  40000.0   \n",
       "\n",
       "                          50%      75%       max  \n",
       "SQL Analytical Level                              \n",
       "No  DSAA              60000.0  75000.0  150000.0  \n",
       "    Non_DSAA          50000.0  70000.0  150000.0  \n",
       "SQL DSAA              55000.0  70000.0  125000.0  \n",
       "    Non_DSAA          45000.0  60000.0  150000.0  "
      ]
     },
     "execution_count": 225,
     "metadata": {},
     "output_type": "execute_result"
    }
   ],
   "source": [
    "SQL='SQL|sql|PostgreSQL|postgreSQL|MySQL|MSSQL|SQLite'\n",
    "UKjobs['SQL'] = UKjobs['description'].str.contains(SQL)\n",
    "\n",
    "mask = UKjobs.applymap(type) != bool\n",
    "d = {True: 'SQL', False: 'No'}\n",
    "\n",
    "UKjobs = UKjobs.where(mask, UKjobs.replace(d))\n",
    "\n",
    "UKjobs.groupby(['SQL','Analytical Level'])['salary'].describe()\n"
   ]
  },
  {
   "cell_type": "code",
   "execution_count": 226,
   "metadata": {},
   "outputs": [
    {
     "data": {
      "text/plain": [
       "<matplotlib.axes._subplots.AxesSubplot at 0x7ff185d6af40>"
      ]
     },
     "execution_count": 226,
     "metadata": {},
     "output_type": "execute_result"
    },
    {
     "data": {
      "image/png": "[encoded data removed]",
      "text/plain": [
       "<Figure size 432x288 with 1 Axes>"
      ]
     },
     "metadata": {
      "needs_background": "light"
     },
     "output_type": "display_data"
    }
   ],
   "source": [
    "UKjobs.groupby('Analytical Level')['SQL'].value_counts().unstack(0).plot.bar()"
   ]
  },
  {
   "cell_type": "markdown",
   "metadata": {},
   "source": [
    "### Data Science"
   ]
  },
  {
   "cell_type": "code",
   "execution_count": 227,
   "metadata": {},
   "outputs": [
    {
     "data": {
      "text/html": [
       "<div>\n",
       "<style scoped>\n",
       "    .dataframe tbody tr th:only-of-type {\n",
       "        vertical-align: middle;\n",
       "    }\n",
       "\n",
       "    .dataframe tbody tr th {\n",
       "        vertical-align: top;\n",
       "    }\n",
       "\n",
       "    .dataframe thead th {\n",
       "        text-align: right;\n",
       "    }\n",
       "</style>\n",
       "<table border=\"1\" class=\"dataframe\">\n",
       "  <thead>\n",
       "    <tr style=\"text-align: right;\">\n",
       "      <th></th>\n",
       "      <th></th>\n",
       "      <th>count</th>\n",
       "      <th>mean</th>\n",
       "      <th>std</th>\n",
       "      <th>min</th>\n",
       "      <th>25%</th>\n",
       "      <th>50%</th>\n",
       "      <th>75%</th>\n",
       "      <th>max</th>\n",
       "    </tr>\n",
       "    <tr>\n",
       "      <th>Data_Science</th>\n",
       "      <th>Analytical Level</th>\n",
       "      <th></th>\n",
       "      <th></th>\n",
       "      <th></th>\n",
       "      <th></th>\n",
       "      <th></th>\n",
       "      <th></th>\n",
       "      <th></th>\n",
       "      <th></th>\n",
       "    </tr>\n",
       "  </thead>\n",
       "  <tbody>\n",
       "    <tr>\n",
       "      <th rowspan=\"2\" valign=\"top\">Data_Science</th>\n",
       "      <th>DSAA</th>\n",
       "      <td>224.0</td>\n",
       "      <td>59367.812500</td>\n",
       "      <td>20177.503571</td>\n",
       "      <td>22000.0</td>\n",
       "      <td>45000.0</td>\n",
       "      <td>60000.0</td>\n",
       "      <td>70000.0</td>\n",
       "      <td>150000.0</td>\n",
       "    </tr>\n",
       "    <tr>\n",
       "      <th>Non_DSAA</th>\n",
       "      <td>224.0</td>\n",
       "      <td>54266.879464</td>\n",
       "      <td>25589.978591</td>\n",
       "      <td>10000.0</td>\n",
       "      <td>40000.0</td>\n",
       "      <td>49000.0</td>\n",
       "      <td>65000.0</td>\n",
       "      <td>150000.0</td>\n",
       "    </tr>\n",
       "    <tr>\n",
       "      <th rowspan=\"2\" valign=\"top\">No</th>\n",
       "      <th>DSAA</th>\n",
       "      <td>101.0</td>\n",
       "      <td>60547.564356</td>\n",
       "      <td>16242.916153</td>\n",
       "      <td>30000.0</td>\n",
       "      <td>50000.0</td>\n",
       "      <td>60000.0</td>\n",
       "      <td>70000.0</td>\n",
       "      <td>110000.0</td>\n",
       "    </tr>\n",
       "    <tr>\n",
       "      <th>Non_DSAA</th>\n",
       "      <td>46.0</td>\n",
       "      <td>53434.782609</td>\n",
       "      <td>16425.795667</td>\n",
       "      <td>25000.0</td>\n",
       "      <td>45000.0</td>\n",
       "      <td>50000.0</td>\n",
       "      <td>60000.0</td>\n",
       "      <td>100000.0</td>\n",
       "    </tr>\n",
       "  </tbody>\n",
       "</table>\n",
       "</div>"
      ],
      "text/plain": [
       "                               count          mean           std      min  \\\n",
       "Data_Science Analytical Level                                               \n",
       "Data_Science DSAA              224.0  59367.812500  20177.503571  22000.0   \n",
       "             Non_DSAA          224.0  54266.879464  25589.978591  10000.0   \n",
       "No           DSAA              101.0  60547.564356  16242.916153  30000.0   \n",
       "             Non_DSAA           46.0  53434.782609  16425.795667  25000.0   \n",
       "\n",
       "                                   25%      50%      75%       max  \n",
       "Data_Science Analytical Level                                       \n",
       "Data_Science DSAA              45000.0  60000.0  70000.0  150000.0  \n",
       "             Non_DSAA          40000.0  49000.0  65000.0  150000.0  \n",
       "No           DSAA              50000.0  60000.0  70000.0  110000.0  \n",
       "             Non_DSAA          45000.0  50000.0  60000.0  100000.0  "
      ]
     },
     "execution_count": 227,
     "metadata": {},
     "output_type": "execute_result"
    }
   ],
   "source": [
    "Data_Science='Data Science|data science|Data science|data science'\n",
    "UKjobs['Data_Science'] = UKjobs['description'].str.contains(Data_Science)\n",
    "\n",
    "mask = UKjobs.applymap(type) != bool\n",
    "d = {True: 'Data_Science', False: 'No'}\n",
    "\n",
    "UKjobs = UKjobs.where(mask, UKjobs.replace(d))\n",
    "\n",
    "UKjobs.groupby(['Data_Science','Analytical Level'])['salary'].describe()"
   ]
  },
  {
   "cell_type": "code",
   "execution_count": 229,
   "metadata": {},
   "outputs": [
    {
     "data": {
      "text/plain": [
       "<matplotlib.axes._subplots.AxesSubplot at 0x7ff18609b250>"
      ]
     },
     "execution_count": 229,
     "metadata": {},
     "output_type": "execute_result"
    },
    {
     "data": {
      "image/png": "[encoded data removed]",
      "text/plain": [
       "<Figure size 432x288 with 1 Axes>"
      ]
     },
     "metadata": {
      "needs_background": "light"
     },
     "output_type": "display_data"
    }
   ],
   "source": [
    "UKjobs.groupby('Analytical Level')['Data_Science'].value_counts().unstack(0).plot.bar()"
   ]
  },
  {
   "cell_type": "markdown",
   "metadata": {},
   "source": [
    "### Machine Learning"
   ]
  },
  {
   "cell_type": "code",
   "execution_count": 230,
   "metadata": {},
   "outputs": [
    {
     "data": {
      "text/html": [
       "<div>\n",
       "<style scoped>\n",
       "    .dataframe tbody tr th:only-of-type {\n",
       "        vertical-align: middle;\n",
       "    }\n",
       "\n",
       "    .dataframe tbody tr th {\n",
       "        vertical-align: top;\n",
       "    }\n",
       "\n",
       "    .dataframe thead th {\n",
       "        text-align: right;\n",
       "    }\n",
       "</style>\n",
       "<table border=\"1\" class=\"dataframe\">\n",
       "  <thead>\n",
       "    <tr style=\"text-align: right;\">\n",
       "      <th></th>\n",
       "      <th></th>\n",
       "      <th>count</th>\n",
       "      <th>mean</th>\n",
       "      <th>std</th>\n",
       "      <th>min</th>\n",
       "      <th>25%</th>\n",
       "      <th>50%</th>\n",
       "      <th>75%</th>\n",
       "      <th>max</th>\n",
       "    </tr>\n",
       "    <tr>\n",
       "      <th>Machine_Learning</th>\n",
       "      <th>Analytical Level</th>\n",
       "      <th></th>\n",
       "      <th></th>\n",
       "      <th></th>\n",
       "      <th></th>\n",
       "      <th></th>\n",
       "      <th></th>\n",
       "      <th></th>\n",
       "      <th></th>\n",
       "    </tr>\n",
       "  </thead>\n",
       "  <tbody>\n",
       "    <tr>\n",
       "      <th rowspan=\"2\" valign=\"top\">Machine_Learning</th>\n",
       "      <th>DSAA</th>\n",
       "      <td>147.0</td>\n",
       "      <td>59702.408163</td>\n",
       "      <td>18212.077143</td>\n",
       "      <td>25000.0</td>\n",
       "      <td>50000.0</td>\n",
       "      <td>60000.0</td>\n",
       "      <td>70000.0</td>\n",
       "      <td>125000.0</td>\n",
       "    </tr>\n",
       "    <tr>\n",
       "      <th>Non_DSAA</th>\n",
       "      <td>77.0</td>\n",
       "      <td>61844.155844</td>\n",
       "      <td>29508.725264</td>\n",
       "      <td>25000.0</td>\n",
       "      <td>40000.0</td>\n",
       "      <td>56000.0</td>\n",
       "      <td>75000.0</td>\n",
       "      <td>150000.0</td>\n",
       "    </tr>\n",
       "    <tr>\n",
       "      <th rowspan=\"2\" valign=\"top\">No</th>\n",
       "      <th>DSAA</th>\n",
       "      <td>178.0</td>\n",
       "      <td>59760.898876</td>\n",
       "      <td>19721.931131</td>\n",
       "      <td>22000.0</td>\n",
       "      <td>45000.0</td>\n",
       "      <td>60000.0</td>\n",
       "      <td>74387.5</td>\n",
       "      <td>150000.0</td>\n",
       "    </tr>\n",
       "    <tr>\n",
       "      <th>Non_DSAA</th>\n",
       "      <td>193.0</td>\n",
       "      <td>51045.497409</td>\n",
       "      <td>21115.027573</td>\n",
       "      <td>10000.0</td>\n",
       "      <td>40000.0</td>\n",
       "      <td>50000.0</td>\n",
       "      <td>60000.0</td>\n",
       "      <td>150000.0</td>\n",
       "    </tr>\n",
       "  </tbody>\n",
       "</table>\n",
       "</div>"
      ],
      "text/plain": [
       "                                   count          mean           std      min  \\\n",
       "Machine_Learning Analytical Level                                               \n",
       "Machine_Learning DSAA              147.0  59702.408163  18212.077143  25000.0   \n",
       "                 Non_DSAA           77.0  61844.155844  29508.725264  25000.0   \n",
       "No               DSAA              178.0  59760.898876  19721.931131  22000.0   \n",
       "                 Non_DSAA          193.0  51045.497409  21115.027573  10000.0   \n",
       "\n",
       "                                       25%      50%      75%       max  \n",
       "Machine_Learning Analytical Level                                       \n",
       "Machine_Learning DSAA              50000.0  60000.0  70000.0  125000.0  \n",
       "                 Non_DSAA          40000.0  56000.0  75000.0  150000.0  \n",
       "No               DSAA              45000.0  60000.0  74387.5  150000.0  \n",
       "                 Non_DSAA          40000.0  50000.0  60000.0  150000.0  "
      ]
     },
     "execution_count": 230,
     "metadata": {},
     "output_type": "execute_result"
    }
   ],
   "source": [
    "Machine_Learning='Machine learning|machine learning|Machine Learning'\n",
    "UKjobs['Machine_Learning'] = UKjobs['description'].str.contains(Machine_Learning)\n",
    "\n",
    "mask = UKjobs.applymap(type) != bool\n",
    "d = {True: 'Machine_Learning', False: 'No'}\n",
    "\n",
    "UKjobs = UKjobs.where(mask, UKjobs.replace(d))\n",
    "\n",
    "UKjobs.groupby(['Machine_Learning','Analytical Level'])['salary'].describe()"
   ]
  },
  {
   "cell_type": "code",
   "execution_count": 181,
   "metadata": {},
   "outputs": [
    {
     "data": {
      "text/plain": [
       "<matplotlib.axes._subplots.AxesSubplot at 0x7ff1a3c302e0>"
      ]
     },
     "execution_count": 181,
     "metadata": {},
     "output_type": "execute_result"
    },
    {
     "data": {
      "image/png": "[encoded data removed]",
      "text/plain": [
       "<Figure size 432x288 with 1 Axes>"
      ]
     },
     "metadata": {
      "needs_background": "light"
     },
     "output_type": "display_data"
    }
   ],
   "source": [
    "UKjobs.groupby('Analytical Level')['Machine_Learning'].value_counts().unstack(0).plot.bar()"
   ]
  },
  {
   "cell_type": "markdown",
   "metadata": {},
   "source": [
    "### Visualization"
   ]
  },
  {
   "cell_type": "code",
   "execution_count": 231,
   "metadata": {},
   "outputs": [
    {
     "data": {
      "text/html": [
       "<div>\n",
       "<style scoped>\n",
       "    .dataframe tbody tr th:only-of-type {\n",
       "        vertical-align: middle;\n",
       "    }\n",
       "\n",
       "    .dataframe tbody tr th {\n",
       "        vertical-align: top;\n",
       "    }\n",
       "\n",
       "    .dataframe thead th {\n",
       "        text-align: right;\n",
       "    }\n",
       "</style>\n",
       "<table border=\"1\" class=\"dataframe\">\n",
       "  <thead>\n",
       "    <tr style=\"text-align: right;\">\n",
       "      <th></th>\n",
       "      <th></th>\n",
       "      <th>count</th>\n",
       "      <th>mean</th>\n",
       "      <th>std</th>\n",
       "      <th>min</th>\n",
       "      <th>25%</th>\n",
       "      <th>50%</th>\n",
       "      <th>75%</th>\n",
       "      <th>max</th>\n",
       "    </tr>\n",
       "    <tr>\n",
       "      <th>Visualization</th>\n",
       "      <th>Analytical Level</th>\n",
       "      <th></th>\n",
       "      <th></th>\n",
       "      <th></th>\n",
       "      <th></th>\n",
       "      <th></th>\n",
       "      <th></th>\n",
       "      <th></th>\n",
       "      <th></th>\n",
       "    </tr>\n",
       "  </thead>\n",
       "  <tbody>\n",
       "    <tr>\n",
       "      <th rowspan=\"2\" valign=\"top\">No</th>\n",
       "      <th>DSAA</th>\n",
       "      <td>277.0</td>\n",
       "      <td>61005.198556</td>\n",
       "      <td>18941.198782</td>\n",
       "      <td>22000.0</td>\n",
       "      <td>45000.0</td>\n",
       "      <td>60000.0</td>\n",
       "      <td>70000.0</td>\n",
       "      <td>150000.0</td>\n",
       "    </tr>\n",
       "    <tr>\n",
       "      <th>Non_DSAA</th>\n",
       "      <td>211.0</td>\n",
       "      <td>56660.739336</td>\n",
       "      <td>26049.560038</td>\n",
       "      <td>10000.0</td>\n",
       "      <td>40000.0</td>\n",
       "      <td>50000.0</td>\n",
       "      <td>70000.0</td>\n",
       "      <td>150000.0</td>\n",
       "    </tr>\n",
       "    <tr>\n",
       "      <th rowspan=\"2\" valign=\"top\">Visualization</th>\n",
       "      <th>DSAA</th>\n",
       "      <td>48.0</td>\n",
       "      <td>52401.125000</td>\n",
       "      <td>17996.219021</td>\n",
       "      <td>25000.0</td>\n",
       "      <td>41500.0</td>\n",
       "      <td>50000.0</td>\n",
       "      <td>66250.0</td>\n",
       "      <td>100000.0</td>\n",
       "    </tr>\n",
       "    <tr>\n",
       "      <th>Non_DSAA</th>\n",
       "      <td>59.0</td>\n",
       "      <td>45057.033898</td>\n",
       "      <td>12790.568526</td>\n",
       "      <td>22000.0</td>\n",
       "      <td>35000.0</td>\n",
       "      <td>45000.0</td>\n",
       "      <td>55000.0</td>\n",
       "      <td>80000.0</td>\n",
       "    </tr>\n",
       "  </tbody>\n",
       "</table>\n",
       "</div>"
      ],
      "text/plain": [
       "                                count          mean           std      min  \\\n",
       "Visualization Analytical Level                                               \n",
       "No            DSAA              277.0  61005.198556  18941.198782  22000.0   \n",
       "              Non_DSAA          211.0  56660.739336  26049.560038  10000.0   \n",
       "Visualization DSAA               48.0  52401.125000  17996.219021  25000.0   \n",
       "              Non_DSAA           59.0  45057.033898  12790.568526  22000.0   \n",
       "\n",
       "                                    25%      50%      75%       max  \n",
       "Visualization Analytical Level                                       \n",
       "No            DSAA              45000.0  60000.0  70000.0  150000.0  \n",
       "              Non_DSAA          40000.0  50000.0  70000.0  150000.0  \n",
       "Visualization DSAA              41500.0  50000.0  66250.0  100000.0  \n",
       "              Non_DSAA          35000.0  45000.0  55000.0   80000.0  "
      ]
     },
     "execution_count": 231,
     "metadata": {},
     "output_type": "execute_result"
    }
   ],
   "source": [
    "Visualization='Power BI|power bi|Tableau|Visualisation|data viz|visualisation|visualization|Visualization|visuals|plotly|seaborn|matplotlib|Seaborn|Matplotlib|Visuals'\n",
    "UKjobs['Visualization'] = UKjobs['description'].str.contains(Visualization)\n",
    "\n",
    "mask = UKjobs.applymap(type) != bool\n",
    "d = {True: 'Visualization', False: 'No'}\n",
    "\n",
    "UKjobs = UKjobs.where(mask, UKjobs.replace(d))\n",
    "\n",
    "UKjobs.groupby(['Visualization','Analytical Level'])['salary'].describe()"
   ]
  },
  {
   "cell_type": "code",
   "execution_count": 232,
   "metadata": {},
   "outputs": [
    {
     "data": {
      "text/plain": [
       "<matplotlib.axes._subplots.AxesSubplot at 0x7ff1a2dfb970>"
      ]
     },
     "execution_count": 232,
     "metadata": {},
     "output_type": "execute_result"
    },
    {
     "data": {
      "image/png": "[encoded data removed]",
      "text/plain": [
       "<Figure size 432x288 with 1 Axes>"
      ]
     },
     "metadata": {
      "needs_background": "light"
     },
     "output_type": "display_data"
    }
   ],
   "source": [
    "UKjobs.groupby('Analytical Level')['Visualization'].value_counts().unstack(0).plot.bar()"
   ]
  },
  {
   "cell_type": "markdown",
   "metadata": {},
   "source": [
    "### Research"
   ]
  },
  {
   "cell_type": "code",
   "execution_count": 233,
   "metadata": {},
   "outputs": [
    {
     "data": {
      "text/html": [
       "<div>\n",
       "<style scoped>\n",
       "    .dataframe tbody tr th:only-of-type {\n",
       "        vertical-align: middle;\n",
       "    }\n",
       "\n",
       "    .dataframe tbody tr th {\n",
       "        vertical-align: top;\n",
       "    }\n",
       "\n",
       "    .dataframe thead th {\n",
       "        text-align: right;\n",
       "    }\n",
       "</style>\n",
       "<table border=\"1\" class=\"dataframe\">\n",
       "  <thead>\n",
       "    <tr style=\"text-align: right;\">\n",
       "      <th></th>\n",
       "      <th></th>\n",
       "      <th>count</th>\n",
       "      <th>mean</th>\n",
       "      <th>std</th>\n",
       "      <th>min</th>\n",
       "      <th>25%</th>\n",
       "      <th>50%</th>\n",
       "      <th>75%</th>\n",
       "      <th>max</th>\n",
       "    </tr>\n",
       "    <tr>\n",
       "      <th>Research</th>\n",
       "      <th>Analytical Level</th>\n",
       "      <th></th>\n",
       "      <th></th>\n",
       "      <th></th>\n",
       "      <th></th>\n",
       "      <th></th>\n",
       "      <th></th>\n",
       "      <th></th>\n",
       "      <th></th>\n",
       "    </tr>\n",
       "  </thead>\n",
       "  <tbody>\n",
       "    <tr>\n",
       "      <th rowspan=\"2\" valign=\"top\">No</th>\n",
       "      <th>DSAA</th>\n",
       "      <td>276.0</td>\n",
       "      <td>60671.884058</td>\n",
       "      <td>18966.625273</td>\n",
       "      <td>22000.0</td>\n",
       "      <td>45000.0</td>\n",
       "      <td>60000.0</td>\n",
       "      <td>70000.0</td>\n",
       "      <td>150000.0</td>\n",
       "    </tr>\n",
       "    <tr>\n",
       "      <th>Non_DSAA</th>\n",
       "      <td>239.0</td>\n",
       "      <td>53788.138075</td>\n",
       "      <td>24521.780372</td>\n",
       "      <td>10000.0</td>\n",
       "      <td>40000.0</td>\n",
       "      <td>50000.0</td>\n",
       "      <td>60000.0</td>\n",
       "      <td>150000.0</td>\n",
       "    </tr>\n",
       "    <tr>\n",
       "      <th rowspan=\"2\" valign=\"top\">Research</th>\n",
       "      <th>DSAA</th>\n",
       "      <td>49.0</td>\n",
       "      <td>54454.163265</td>\n",
       "      <td>18672.173797</td>\n",
       "      <td>25000.0</td>\n",
       "      <td>40000.0</td>\n",
       "      <td>50000.0</td>\n",
       "      <td>70000.0</td>\n",
       "      <td>110000.0</td>\n",
       "    </tr>\n",
       "    <tr>\n",
       "      <th>Non_DSAA</th>\n",
       "      <td>31.0</td>\n",
       "      <td>56723.096774</td>\n",
       "      <td>22247.561753</td>\n",
       "      <td>18000.0</td>\n",
       "      <td>40000.0</td>\n",
       "      <td>60000.0</td>\n",
       "      <td>75000.0</td>\n",
       "      <td>100000.0</td>\n",
       "    </tr>\n",
       "  </tbody>\n",
       "</table>\n",
       "</div>"
      ],
      "text/plain": [
       "                           count          mean           std      min  \\\n",
       "Research Analytical Level                                               \n",
       "No       DSAA              276.0  60671.884058  18966.625273  22000.0   \n",
       "         Non_DSAA          239.0  53788.138075  24521.780372  10000.0   \n",
       "Research DSAA               49.0  54454.163265  18672.173797  25000.0   \n",
       "         Non_DSAA           31.0  56723.096774  22247.561753  18000.0   \n",
       "\n",
       "                               25%      50%      75%       max  \n",
       "Research Analytical Level                                       \n",
       "No       DSAA              45000.0  60000.0  70000.0  150000.0  \n",
       "         Non_DSAA          40000.0  50000.0  60000.0  150000.0  \n",
       "Research DSAA              40000.0  50000.0  70000.0  110000.0  \n",
       "         Non_DSAA          40000.0  60000.0  75000.0  100000.0  "
      ]
     },
     "execution_count": 233,
     "metadata": {},
     "output_type": "execute_result"
    }
   ],
   "source": [
    "Research='Research|research'\n",
    "UKjobs['Research'] = UKjobs['description'].str.contains(Research)\n",
    "\n",
    "mask = UKjobs.applymap(type) != bool\n",
    "d = {True: 'Research', False: 'No'}\n",
    "\n",
    "UKjobs = UKjobs.where(mask, UKjobs.replace(d))\n",
    "\n",
    "UKjobs.groupby(['Research','Analytical Level'])['salary'].describe()"
   ]
  },
  {
   "cell_type": "code",
   "execution_count": 234,
   "metadata": {},
   "outputs": [
    {
     "data": {
      "text/plain": [
       "<matplotlib.axes._subplots.AxesSubplot at 0x7ff1a4471f40>"
      ]
     },
     "execution_count": 234,
     "metadata": {},
     "output_type": "execute_result"
    },
    {
     "data": {
      "image/png": "[encoded data removed]",
      "text/plain": [
       "<Figure size 432x288 with 1 Axes>"
      ]
     },
     "metadata": {
      "needs_background": "light"
     },
     "output_type": "display_data"
    }
   ],
   "source": [
    "UKjobs.groupby('Analytical Level')['Research'].value_counts().unstack(0).plot.bar()"
   ]
  },
  {
   "cell_type": "markdown",
   "metadata": {},
   "source": [
    "### Hadoop"
   ]
  },
  {
   "cell_type": "code",
   "execution_count": 235,
   "metadata": {},
   "outputs": [
    {
     "data": {
      "text/html": [
       "<div>\n",
       "<style scoped>\n",
       "    .dataframe tbody tr th:only-of-type {\n",
       "        vertical-align: middle;\n",
       "    }\n",
       "\n",
       "    .dataframe tbody tr th {\n",
       "        vertical-align: top;\n",
       "    }\n",
       "\n",
       "    .dataframe thead th {\n",
       "        text-align: right;\n",
       "    }\n",
       "</style>\n",
       "<table border=\"1\" class=\"dataframe\">\n",
       "  <thead>\n",
       "    <tr style=\"text-align: right;\">\n",
       "      <th></th>\n",
       "      <th></th>\n",
       "      <th>count</th>\n",
       "      <th>mean</th>\n",
       "      <th>std</th>\n",
       "      <th>min</th>\n",
       "      <th>25%</th>\n",
       "      <th>50%</th>\n",
       "      <th>75%</th>\n",
       "      <th>max</th>\n",
       "    </tr>\n",
       "    <tr>\n",
       "      <th>Hadoop</th>\n",
       "      <th>Analytical Level</th>\n",
       "      <th></th>\n",
       "      <th></th>\n",
       "      <th></th>\n",
       "      <th></th>\n",
       "      <th></th>\n",
       "      <th></th>\n",
       "      <th></th>\n",
       "      <th></th>\n",
       "    </tr>\n",
       "  </thead>\n",
       "  <tbody>\n",
       "    <tr>\n",
       "      <th rowspan=\"2\" valign=\"top\">Hadoop</th>\n",
       "      <th>DSAA</th>\n",
       "      <td>29.0</td>\n",
       "      <td>64137.931034</td>\n",
       "      <td>16260.653953</td>\n",
       "      <td>30000.0</td>\n",
       "      <td>55000.0</td>\n",
       "      <td>60000.0</td>\n",
       "      <td>70000.0</td>\n",
       "      <td>95000.0</td>\n",
       "    </tr>\n",
       "    <tr>\n",
       "      <th>Non_DSAA</th>\n",
       "      <td>2.0</td>\n",
       "      <td>80000.000000</td>\n",
       "      <td>21213.203436</td>\n",
       "      <td>65000.0</td>\n",
       "      <td>72500.0</td>\n",
       "      <td>80000.0</td>\n",
       "      <td>87500.0</td>\n",
       "      <td>95000.0</td>\n",
       "    </tr>\n",
       "    <tr>\n",
       "      <th rowspan=\"2\" valign=\"top\">No</th>\n",
       "      <th>DSAA</th>\n",
       "      <td>296.0</td>\n",
       "      <td>59303.020270</td>\n",
       "      <td>19244.158789</td>\n",
       "      <td>22000.0</td>\n",
       "      <td>45000.0</td>\n",
       "      <td>60000.0</td>\n",
       "      <td>70000.0</td>\n",
       "      <td>150000.0</td>\n",
       "    </tr>\n",
       "    <tr>\n",
       "      <th>Non_DSAA</th>\n",
       "      <td>268.0</td>\n",
       "      <td>53932.018657</td>\n",
       "      <td>24202.609025</td>\n",
       "      <td>10000.0</td>\n",
       "      <td>40000.0</td>\n",
       "      <td>50000.0</td>\n",
       "      <td>64562.0</td>\n",
       "      <td>150000.0</td>\n",
       "    </tr>\n",
       "  </tbody>\n",
       "</table>\n",
       "</div>"
      ],
      "text/plain": [
       "                         count          mean           std      min      25%  \\\n",
       "Hadoop Analytical Level                                                        \n",
       "Hadoop DSAA               29.0  64137.931034  16260.653953  30000.0  55000.0   \n",
       "       Non_DSAA            2.0  80000.000000  21213.203436  65000.0  72500.0   \n",
       "No     DSAA              296.0  59303.020270  19244.158789  22000.0  45000.0   \n",
       "       Non_DSAA          268.0  53932.018657  24202.609025  10000.0  40000.0   \n",
       "\n",
       "                             50%      75%       max  \n",
       "Hadoop Analytical Level                              \n",
       "Hadoop DSAA              60000.0  70000.0   95000.0  \n",
       "       Non_DSAA          80000.0  87500.0   95000.0  \n",
       "No     DSAA              60000.0  70000.0  150000.0  \n",
       "       Non_DSAA          50000.0  64562.0  150000.0  "
      ]
     },
     "execution_count": 235,
     "metadata": {},
     "output_type": "execute_result"
    }
   ],
   "source": [
    "Hadoop='Hadoop|Apache Hadoop|hadoop'\n",
    "UKjobs['Hadoop'] = UKjobs['description'].str.contains(Hadoop)\n",
    "\n",
    "mask = UKjobs.applymap(type) != bool\n",
    "d = {True: 'Hadoop', False: 'No'}\n",
    "\n",
    "UKjobs = UKjobs.where(mask, UKjobs.replace(d))\n",
    "\n",
    "UKjobs.groupby(['Hadoop','Analytical Level'])['salary'].describe()"
   ]
  },
  {
   "cell_type": "code",
   "execution_count": 236,
   "metadata": {},
   "outputs": [
    {
     "data": {
      "text/plain": [
       "<matplotlib.axes._subplots.AxesSubplot at 0x7ff1863d4880>"
      ]
     },
     "execution_count": 236,
     "metadata": {},
     "output_type": "execute_result"
    },
    {
     "data": {
      "image/png": "[encoded data removed]",
      "text/plain": [
       "<Figure size 432x288 with 1 Axes>"
      ]
     },
     "metadata": {
      "needs_background": "light"
     },
     "output_type": "display_data"
    }
   ],
   "source": [
    "UKjobs.groupby('Analytical Level')['Hadoop'].value_counts().unstack(0).plot.bar()"
   ]
  },
  {
   "cell_type": "markdown",
   "metadata": {},
   "source": [
    "### Communication"
   ]
  },
  {
   "cell_type": "code",
   "execution_count": 237,
   "metadata": {},
   "outputs": [
    {
     "data": {
      "text/html": [
       "<div>\n",
       "<style scoped>\n",
       "    .dataframe tbody tr th:only-of-type {\n",
       "        vertical-align: middle;\n",
       "    }\n",
       "\n",
       "    .dataframe tbody tr th {\n",
       "        vertical-align: top;\n",
       "    }\n",
       "\n",
       "    .dataframe thead th {\n",
       "        text-align: right;\n",
       "    }\n",
       "</style>\n",
       "<table border=\"1\" class=\"dataframe\">\n",
       "  <thead>\n",
       "    <tr style=\"text-align: right;\">\n",
       "      <th></th>\n",
       "      <th></th>\n",
       "      <th>count</th>\n",
       "      <th>mean</th>\n",
       "      <th>std</th>\n",
       "      <th>min</th>\n",
       "      <th>25%</th>\n",
       "      <th>50%</th>\n",
       "      <th>75%</th>\n",
       "      <th>max</th>\n",
       "    </tr>\n",
       "    <tr>\n",
       "      <th>Communication</th>\n",
       "      <th>Analytical Level</th>\n",
       "      <th></th>\n",
       "      <th></th>\n",
       "      <th></th>\n",
       "      <th></th>\n",
       "      <th></th>\n",
       "      <th></th>\n",
       "      <th></th>\n",
       "      <th></th>\n",
       "    </tr>\n",
       "  </thead>\n",
       "  <tbody>\n",
       "    <tr>\n",
       "      <th rowspan=\"2\" valign=\"top\">Communication</th>\n",
       "      <th>DSAA</th>\n",
       "      <td>41.0</td>\n",
       "      <td>54024.390244</td>\n",
       "      <td>15460.413650</td>\n",
       "      <td>25000.0</td>\n",
       "      <td>40000.0</td>\n",
       "      <td>50000.0</td>\n",
       "      <td>60000.0</td>\n",
       "      <td>90000.0</td>\n",
       "    </tr>\n",
       "    <tr>\n",
       "      <th>Non_DSAA</th>\n",
       "      <td>50.0</td>\n",
       "      <td>44927.300000</td>\n",
       "      <td>18507.389016</td>\n",
       "      <td>18000.0</td>\n",
       "      <td>35000.0</td>\n",
       "      <td>40000.0</td>\n",
       "      <td>50000.0</td>\n",
       "      <td>100000.0</td>\n",
       "    </tr>\n",
       "    <tr>\n",
       "      <th rowspan=\"2\" valign=\"top\">No</th>\n",
       "      <th>DSAA</th>\n",
       "      <td>284.0</td>\n",
       "      <td>60558.781690</td>\n",
       "      <td>19369.908707</td>\n",
       "      <td>22000.0</td>\n",
       "      <td>45000.0</td>\n",
       "      <td>60000.0</td>\n",
       "      <td>70000.0</td>\n",
       "      <td>150000.0</td>\n",
       "    </tr>\n",
       "    <tr>\n",
       "      <th>Non_DSAA</th>\n",
       "      <td>220.0</td>\n",
       "      <td>56215.527273</td>\n",
       "      <td>24940.441349</td>\n",
       "      <td>10000.0</td>\n",
       "      <td>40000.0</td>\n",
       "      <td>50000.0</td>\n",
       "      <td>70000.0</td>\n",
       "      <td>150000.0</td>\n",
       "    </tr>\n",
       "  </tbody>\n",
       "</table>\n",
       "</div>"
      ],
      "text/plain": [
       "                                count          mean           std      min  \\\n",
       "Communication Analytical Level                                               \n",
       "Communication DSAA               41.0  54024.390244  15460.413650  25000.0   \n",
       "              Non_DSAA           50.0  44927.300000  18507.389016  18000.0   \n",
       "No            DSAA              284.0  60558.781690  19369.908707  22000.0   \n",
       "              Non_DSAA          220.0  56215.527273  24940.441349  10000.0   \n",
       "\n",
       "                                    25%      50%      75%       max  \n",
       "Communication Analytical Level                                       \n",
       "Communication DSAA              40000.0  50000.0  60000.0   90000.0  \n",
       "              Non_DSAA          35000.0  40000.0  50000.0  100000.0  \n",
       "No            DSAA              45000.0  60000.0  70000.0  150000.0  \n",
       "              Non_DSAA          40000.0  50000.0  70000.0  150000.0  "
      ]
     },
     "execution_count": 237,
     "metadata": {},
     "output_type": "execute_result"
    }
   ],
   "source": [
    "Communication='Communication Skills|Communication|Communication skills| communication skills'\n",
    "UKjobs['Communication'] = UKjobs['description'].str.contains(Communication)\n",
    "\n",
    "mask = UKjobs.applymap(type) != bool\n",
    "d = {True: 'Communication', False: 'No'}\n",
    "\n",
    "UKjobs = UKjobs.where(mask, UKjobs.replace(d))\n",
    "\n",
    "UKjobs.groupby(['Communication','Analytical Level'])['salary'].describe()"
   ]
  },
  {
   "cell_type": "code",
   "execution_count": 238,
   "metadata": {},
   "outputs": [
    {
     "data": {
      "text/plain": [
       "<matplotlib.axes._subplots.AxesSubplot at 0x7ff1864a9730>"
      ]
     },
     "execution_count": 238,
     "metadata": {},
     "output_type": "execute_result"
    },
    {
     "data": {
      "image/png": "[encoded data removed]",
      "text/plain": [
       "<Figure size 432x288 with 1 Axes>"
      ]
     },
     "metadata": {
      "needs_background": "light"
     },
     "output_type": "display_data"
    }
   ],
   "source": [
    "UKjobs.groupby('Analytical Level')['Communication'].value_counts().unstack(0).plot.bar()"
   ]
  },
  {
   "cell_type": "markdown",
   "metadata": {},
   "source": [
    "### JavaScript"
   ]
  },
  {
   "cell_type": "code",
   "execution_count": 239,
   "metadata": {},
   "outputs": [
    {
     "data": {
      "text/html": [
       "<div>\n",
       "<style scoped>\n",
       "    .dataframe tbody tr th:only-of-type {\n",
       "        vertical-align: middle;\n",
       "    }\n",
       "\n",
       "    .dataframe tbody tr th {\n",
       "        vertical-align: top;\n",
       "    }\n",
       "\n",
       "    .dataframe thead th {\n",
       "        text-align: right;\n",
       "    }\n",
       "</style>\n",
       "<table border=\"1\" class=\"dataframe\">\n",
       "  <thead>\n",
       "    <tr style=\"text-align: right;\">\n",
       "      <th></th>\n",
       "      <th></th>\n",
       "      <th>count</th>\n",
       "      <th>mean</th>\n",
       "      <th>std</th>\n",
       "      <th>min</th>\n",
       "      <th>25%</th>\n",
       "      <th>50%</th>\n",
       "      <th>75%</th>\n",
       "      <th>max</th>\n",
       "    </tr>\n",
       "    <tr>\n",
       "      <th>Java</th>\n",
       "      <th>Analytical Level</th>\n",
       "      <th></th>\n",
       "      <th></th>\n",
       "      <th></th>\n",
       "      <th></th>\n",
       "      <th></th>\n",
       "      <th></th>\n",
       "      <th></th>\n",
       "      <th></th>\n",
       "    </tr>\n",
       "  </thead>\n",
       "  <tbody>\n",
       "    <tr>\n",
       "      <th rowspan=\"2\" valign=\"top\">Java</th>\n",
       "      <th>DSAA</th>\n",
       "      <td>49.0</td>\n",
       "      <td>60020.408163</td>\n",
       "      <td>18246.563370</td>\n",
       "      <td>23000.0</td>\n",
       "      <td>50000.0</td>\n",
       "      <td>60000.0</td>\n",
       "      <td>75000.0</td>\n",
       "      <td>110000.0</td>\n",
       "    </tr>\n",
       "    <tr>\n",
       "      <th>Non_DSAA</th>\n",
       "      <td>40.0</td>\n",
       "      <td>51925.000000</td>\n",
       "      <td>22112.054376</td>\n",
       "      <td>18000.0</td>\n",
       "      <td>35000.0</td>\n",
       "      <td>47500.0</td>\n",
       "      <td>66250.0</td>\n",
       "      <td>100000.0</td>\n",
       "    </tr>\n",
       "    <tr>\n",
       "      <th rowspan=\"2\" valign=\"top\">No</th>\n",
       "      <th>DSAA</th>\n",
       "      <td>276.0</td>\n",
       "      <td>59683.673913</td>\n",
       "      <td>19191.359794</td>\n",
       "      <td>22000.0</td>\n",
       "      <td>45000.0</td>\n",
       "      <td>60000.0</td>\n",
       "      <td>70000.0</td>\n",
       "      <td>150000.0</td>\n",
       "    </tr>\n",
       "    <tr>\n",
       "      <th>Non_DSAA</th>\n",
       "      <td>230.0</td>\n",
       "      <td>54507.743478</td>\n",
       "      <td>24628.465574</td>\n",
       "      <td>10000.0</td>\n",
       "      <td>40000.0</td>\n",
       "      <td>50000.0</td>\n",
       "      <td>60000.0</td>\n",
       "      <td>150000.0</td>\n",
       "    </tr>\n",
       "  </tbody>\n",
       "</table>\n",
       "</div>"
      ],
      "text/plain": [
       "                       count          mean           std      min      25%  \\\n",
       "Java Analytical Level                                                        \n",
       "Java DSAA               49.0  60020.408163  18246.563370  23000.0  50000.0   \n",
       "     Non_DSAA           40.0  51925.000000  22112.054376  18000.0  35000.0   \n",
       "No   DSAA              276.0  59683.673913  19191.359794  22000.0  45000.0   \n",
       "     Non_DSAA          230.0  54507.743478  24628.465574  10000.0  40000.0   \n",
       "\n",
       "                           50%      75%       max  \n",
       "Java Analytical Level                              \n",
       "Java DSAA              60000.0  75000.0  110000.0  \n",
       "     Non_DSAA          47500.0  66250.0  100000.0  \n",
       "No   DSAA              60000.0  70000.0  150000.0  \n",
       "     Non_DSAA          50000.0  60000.0  150000.0  "
      ]
     },
     "execution_count": 239,
     "metadata": {},
     "output_type": "execute_result"
    }
   ],
   "source": [
    "\n",
    "Java='Java|java|JavaScript|javascript'\n",
    "UKjobs['Java'] = UKjobs['description'].str.contains(Java)\n",
    "\n",
    "mask = UKjobs.applymap(type) != bool\n",
    "d = {True: 'Java', False: 'No'}\n",
    "\n",
    "UKjobs = UKjobs.where(mask, UKjobs.replace(d))\n",
    "\n",
    "UKjobs.groupby(['Java','Analytical Level'])['salary'].describe()"
   ]
  },
  {
   "cell_type": "code",
   "execution_count": 240,
   "metadata": {},
   "outputs": [
    {
     "data": {
      "text/plain": [
       "<matplotlib.axes._subplots.AxesSubplot at 0x7ff18687de20>"
      ]
     },
     "execution_count": 240,
     "metadata": {},
     "output_type": "execute_result"
    },
    {
     "data": {
      "image/png": "[encoded data removed]",
      "text/plain": [
       "<Figure size 432x288 with 1 Axes>"
      ]
     },
     "metadata": {
      "needs_background": "light"
     },
     "output_type": "display_data"
    }
   ],
   "source": [
    "UKjobs.groupby('Analytical Level')['Java'].value_counts().unstack(0).plot.bar()"
   ]
  },
  {
   "cell_type": "code",
   "execution_count": null,
   "metadata": {},
   "outputs": [],
   "source": []
  },
  {
   "cell_type": "markdown",
   "metadata": {},
   "source": [
    "### Scala"
   ]
  },
  {
   "cell_type": "code",
   "execution_count": 241,
   "metadata": {},
   "outputs": [
    {
     "data": {
      "text/html": [
       "<div>\n",
       "<style scoped>\n",
       "    .dataframe tbody tr th:only-of-type {\n",
       "        vertical-align: middle;\n",
       "    }\n",
       "\n",
       "    .dataframe tbody tr th {\n",
       "        vertical-align: top;\n",
       "    }\n",
       "\n",
       "    .dataframe thead th {\n",
       "        text-align: right;\n",
       "    }\n",
       "</style>\n",
       "<table border=\"1\" class=\"dataframe\">\n",
       "  <thead>\n",
       "    <tr style=\"text-align: right;\">\n",
       "      <th></th>\n",
       "      <th></th>\n",
       "      <th>count</th>\n",
       "      <th>mean</th>\n",
       "      <th>std</th>\n",
       "      <th>min</th>\n",
       "      <th>25%</th>\n",
       "      <th>50%</th>\n",
       "      <th>75%</th>\n",
       "      <th>max</th>\n",
       "    </tr>\n",
       "    <tr>\n",
       "      <th>Scala</th>\n",
       "      <th>Analytical Level</th>\n",
       "      <th></th>\n",
       "      <th></th>\n",
       "      <th></th>\n",
       "      <th></th>\n",
       "      <th></th>\n",
       "      <th></th>\n",
       "      <th></th>\n",
       "      <th></th>\n",
       "    </tr>\n",
       "  </thead>\n",
       "  <tbody>\n",
       "    <tr>\n",
       "      <th rowspan=\"2\" valign=\"top\">No</th>\n",
       "      <th>DSAA</th>\n",
       "      <td>254.0</td>\n",
       "      <td>57694.448819</td>\n",
       "      <td>17701.714737</td>\n",
       "      <td>22000.0</td>\n",
       "      <td>45000.0</td>\n",
       "      <td>60000.0</td>\n",
       "      <td>70000.0</td>\n",
       "      <td>120000.0</td>\n",
       "    </tr>\n",
       "    <tr>\n",
       "      <th>Non_DSAA</th>\n",
       "      <td>248.0</td>\n",
       "      <td>53083.794355</td>\n",
       "      <td>24243.172331</td>\n",
       "      <td>10000.0</td>\n",
       "      <td>40000.0</td>\n",
       "      <td>45000.0</td>\n",
       "      <td>60000.0</td>\n",
       "      <td>150000.0</td>\n",
       "    </tr>\n",
       "    <tr>\n",
       "      <th rowspan=\"2\" valign=\"top\">Scala</th>\n",
       "      <th>DSAA</th>\n",
       "      <td>71.0</td>\n",
       "      <td>67032.450704</td>\n",
       "      <td>21763.069718</td>\n",
       "      <td>30000.0</td>\n",
       "      <td>50000.0</td>\n",
       "      <td>65000.0</td>\n",
       "      <td>75000.0</td>\n",
       "      <td>150000.0</td>\n",
       "    </tr>\n",
       "    <tr>\n",
       "      <th>Non_DSAA</th>\n",
       "      <td>22.0</td>\n",
       "      <td>65863.636364</td>\n",
       "      <td>21523.620368</td>\n",
       "      <td>45000.0</td>\n",
       "      <td>50000.0</td>\n",
       "      <td>60000.0</td>\n",
       "      <td>70000.0</td>\n",
       "      <td>130000.0</td>\n",
       "    </tr>\n",
       "  </tbody>\n",
       "</table>\n",
       "</div>"
      ],
      "text/plain": [
       "                        count          mean           std      min      25%  \\\n",
       "Scala Analytical Level                                                        \n",
       "No    DSAA              254.0  57694.448819  17701.714737  22000.0  45000.0   \n",
       "      Non_DSAA          248.0  53083.794355  24243.172331  10000.0  40000.0   \n",
       "Scala DSAA               71.0  67032.450704  21763.069718  30000.0  50000.0   \n",
       "      Non_DSAA           22.0  65863.636364  21523.620368  45000.0  50000.0   \n",
       "\n",
       "                            50%      75%       max  \n",
       "Scala Analytical Level                              \n",
       "No    DSAA              60000.0  70000.0  120000.0  \n",
       "      Non_DSAA          45000.0  60000.0  150000.0  \n",
       "Scala DSAA              65000.0  75000.0  150000.0  \n",
       "      Non_DSAA          60000.0  70000.0  130000.0  "
      ]
     },
     "execution_count": 241,
     "metadata": {},
     "output_type": "execute_result"
    }
   ],
   "source": [
    "Scala='Scala|scala'\n",
    "UKjobs['Scala'] = UKjobs['description'].str.contains(Scala)\n",
    "\n",
    "mask = UKjobs.applymap(type) != bool\n",
    "d = {True: 'Scala', False: 'No'}\n",
    "\n",
    "UKjobs = UKjobs.where(mask, UKjobs.replace(d))\n",
    "\n",
    "UKjobs.groupby(['Scala','Analytical Level'])['salary'].describe()"
   ]
  },
  {
   "cell_type": "code",
   "execution_count": 242,
   "metadata": {},
   "outputs": [
    {
     "data": {
      "text/plain": [
       "<matplotlib.axes._subplots.AxesSubplot at 0x7ff186819e80>"
      ]
     },
     "execution_count": 242,
     "metadata": {},
     "output_type": "execute_result"
    },
    {
     "data": {
      "image/png": "[encoded data removed]",
      "text/plain": [
       "<Figure size 432x288 with 1 Axes>"
      ]
     },
     "metadata": {
      "needs_background": "light"
     },
     "output_type": "display_data"
    }
   ],
   "source": [
    "UKjobs.groupby('Analytical Level')['Scala'].value_counts().unstack(0).plot.bar()"
   ]
  },
  {
   "cell_type": "markdown",
   "metadata": {},
   "source": [
    "### Big Data"
   ]
  },
  {
   "cell_type": "code",
   "execution_count": 243,
   "metadata": {},
   "outputs": [
    {
     "data": {
      "text/html": [
       "<div>\n",
       "<style scoped>\n",
       "    .dataframe tbody tr th:only-of-type {\n",
       "        vertical-align: middle;\n",
       "    }\n",
       "\n",
       "    .dataframe tbody tr th {\n",
       "        vertical-align: top;\n",
       "    }\n",
       "\n",
       "    .dataframe thead th {\n",
       "        text-align: right;\n",
       "    }\n",
       "</style>\n",
       "<table border=\"1\" class=\"dataframe\">\n",
       "  <thead>\n",
       "    <tr style=\"text-align: right;\">\n",
       "      <th></th>\n",
       "      <th></th>\n",
       "      <th>count</th>\n",
       "      <th>mean</th>\n",
       "      <th>std</th>\n",
       "      <th>min</th>\n",
       "      <th>25%</th>\n",
       "      <th>50%</th>\n",
       "      <th>75%</th>\n",
       "      <th>max</th>\n",
       "    </tr>\n",
       "    <tr>\n",
       "      <th>Big_Data</th>\n",
       "      <th>Analytical Level</th>\n",
       "      <th></th>\n",
       "      <th></th>\n",
       "      <th></th>\n",
       "      <th></th>\n",
       "      <th></th>\n",
       "      <th></th>\n",
       "      <th></th>\n",
       "      <th></th>\n",
       "    </tr>\n",
       "  </thead>\n",
       "  <tbody>\n",
       "    <tr>\n",
       "      <th rowspan=\"2\" valign=\"top\">Big_Data</th>\n",
       "      <th>DSAA</th>\n",
       "      <td>59.0</td>\n",
       "      <td>68589.050847</td>\n",
       "      <td>20784.392620</td>\n",
       "      <td>25000.0</td>\n",
       "      <td>57500.0</td>\n",
       "      <td>65000.0</td>\n",
       "      <td>80000.0</td>\n",
       "      <td>125000.0</td>\n",
       "    </tr>\n",
       "    <tr>\n",
       "      <th>Non_DSAA</th>\n",
       "      <td>19.0</td>\n",
       "      <td>48578.947368</td>\n",
       "      <td>18530.202941</td>\n",
       "      <td>25000.0</td>\n",
       "      <td>39000.0</td>\n",
       "      <td>45000.0</td>\n",
       "      <td>62500.0</td>\n",
       "      <td>95000.0</td>\n",
       "    </tr>\n",
       "    <tr>\n",
       "      <th rowspan=\"2\" valign=\"top\">No</th>\n",
       "      <th>DSAA</th>\n",
       "      <td>266.0</td>\n",
       "      <td>57770.451128</td>\n",
       "      <td>18073.552902</td>\n",
       "      <td>22000.0</td>\n",
       "      <td>45000.0</td>\n",
       "      <td>55000.0</td>\n",
       "      <td>70000.0</td>\n",
       "      <td>150000.0</td>\n",
       "    </tr>\n",
       "    <tr>\n",
       "      <th>Non_DSAA</th>\n",
       "      <td>251.0</td>\n",
       "      <td>54544.944223</td>\n",
       "      <td>24608.071705</td>\n",
       "      <td>10000.0</td>\n",
       "      <td>40000.0</td>\n",
       "      <td>50000.0</td>\n",
       "      <td>65000.0</td>\n",
       "      <td>150000.0</td>\n",
       "    </tr>\n",
       "  </tbody>\n",
       "</table>\n",
       "</div>"
      ],
      "text/plain": [
       "                           count          mean           std      min  \\\n",
       "Big_Data Analytical Level                                               \n",
       "Big_Data DSAA               59.0  68589.050847  20784.392620  25000.0   \n",
       "         Non_DSAA           19.0  48578.947368  18530.202941  25000.0   \n",
       "No       DSAA              266.0  57770.451128  18073.552902  22000.0   \n",
       "         Non_DSAA          251.0  54544.944223  24608.071705  10000.0   \n",
       "\n",
       "                               25%      50%      75%       max  \n",
       "Big_Data Analytical Level                                       \n",
       "Big_Data DSAA              57500.0  65000.0  80000.0  125000.0  \n",
       "         Non_DSAA          39000.0  45000.0  62500.0   95000.0  \n",
       "No       DSAA              45000.0  55000.0  70000.0  150000.0  \n",
       "         Non_DSAA          40000.0  50000.0  65000.0  150000.0  "
      ]
     },
     "execution_count": 243,
     "metadata": {},
     "output_type": "execute_result"
    }
   ],
   "source": [
    "Big_Data='\\S*Big Data|big data |big Data|Big data+\\S*'\n",
    "UKjobs['Big_Data'] = UKjobs['description'].str.contains(Big_Data)\n",
    "\n",
    "mask = UKjobs.applymap(type) != bool\n",
    "d = {True: 'Big_Data', False: 'No'}\n",
    "\n",
    "UKjobs = UKjobs.where(mask, UKjobs.replace(d))\n",
    "\n",
    "UKjobs.groupby(['Big_Data','Analytical Level'])['salary'].describe()"
   ]
  },
  {
   "cell_type": "code",
   "execution_count": 244,
   "metadata": {},
   "outputs": [
    {
     "data": {
      "text/plain": [
       "<matplotlib.axes._subplots.AxesSubplot at 0x7ff186a24280>"
      ]
     },
     "execution_count": 244,
     "metadata": {},
     "output_type": "execute_result"
    },
    {
     "data": {
      "image/png": "[encoded data removed]",
      "text/plain": [
       "<Figure size 432x288 with 1 Axes>"
      ]
     },
     "metadata": {
      "needs_background": "light"
     },
     "output_type": "display_data"
    }
   ],
   "source": [
    "UKjobs.groupby('Analytical Level')['Big_Data'].value_counts().unstack(0).plot.bar()"
   ]
  },
  {
   "cell_type": "markdown",
   "metadata": {},
   "source": [
    "### The popularity of top 10 skills "
   ]
  },
  {
   "cell_type": "code",
   "execution_count": null,
   "metadata": {},
   "outputs": [],
   "source": []
  },
  {
   "cell_type": "code",
   "execution_count": null,
   "metadata": {},
   "outputs": [],
   "source": []
  },
  {
   "cell_type": "code",
   "execution_count": 465,
   "metadata": {},
   "outputs": [
    {
     "data": {
      "image/png": "[encoded data removed]",
      "text/plain": [
       "<Figure size 720x576 with 1 Axes>"
      ]
     },
     "metadata": {
      "needs_background": "light"
     },
     "output_type": "display_data"
    }
   ],
   "source": [
    "df = pd.melt(UKjobs[['Scala','Python','Data_Science','Machine_Learning','SQL','Hadoop','Visualization','Research','Java','R']])\n",
    "df2=df.loc[df['value']!=\"No\"]\n",
    "\n",
    "fig, ax = plt.subplots(1, figsize=(10,8))\n",
    "ax=sns.countplot(data=df2, x='variable',order = df2['variable'].value_counts().index,palette='husl')\n",
    "\n",
    "ax.set_ylim([0, 500])\n",
    "ax.set_ylabel(\"Number of Jobs\", fontsize=20)\n",
    "ax.set_xlabel(\"Skills\", fontsize=20)\n",
    "ax.set_title(\"How often the top 10 skills mentioned \\n in 595 job descriptions\", fontsize=20, color='Blue')\n",
    "\n",
    "sns.despine(offset=10)\n",
    "plt.xticks(rotation=90)\n",
    "plt.savefig('Figure/Skill.jpg')"
   ]
  },
  {
   "cell_type": "code",
   "execution_count": 471,
   "metadata": {},
   "outputs": [
    {
     "data": {
      "text/plain": [
       "Data_Science        448\n",
       "Python              380\n",
       "SQL                 310\n",
       "Machine_Learning    224\n",
       "R                   121\n",
       "Visualization       107\n",
       "Scala                93\n",
       "Java                 89\n",
       "Research             80\n",
       "Hadoop               31\n",
       "Name: variable, dtype: int64"
      ]
     },
     "execution_count": 471,
     "metadata": {},
     "output_type": "execute_result"
    }
   ],
   "source": [
    "skill=df2['variable'].value_counts()\n",
    "skill"
   ]
  },
  {
   "cell_type": "code",
   "execution_count": 472,
   "metadata": {},
   "outputs": [
    {
     "data": {
      "text/plain": [
       "Data_Science        75.294118\n",
       "Python              63.865546\n",
       "SQL                 52.100840\n",
       "Machine_Learning    37.647059\n",
       "R                   20.336134\n",
       "Visualization       17.983193\n",
       "Scala               15.630252\n",
       "Java                14.957983\n",
       "Research            13.445378\n",
       "Big_Data            13.109244\n",
       "Hadoop               5.210084\n",
       "dtype: float64"
      ]
     },
     "execution_count": 472,
     "metadata": {},
     "output_type": "execute_result"
    }
   ],
   "source": [
    "skill_percentage=skill.multiply(other = 100/595)\n",
    "skill_percentage"
   ]
  },
  {
   "cell_type": "markdown",
   "metadata": {},
   "source": [
    "### The popularity of top 10 skills segmented by Analytical Level"
   ]
  },
  {
   "cell_type": "code",
   "execution_count": 466,
   "metadata": {},
   "outputs": [
    {
     "data": {
      "text/html": [
       "<div>\n",
       "<style scoped>\n",
       "    .dataframe tbody tr th:only-of-type {\n",
       "        vertical-align: middle;\n",
       "    }\n",
       "\n",
       "    .dataframe tbody tr th {\n",
       "        vertical-align: top;\n",
       "    }\n",
       "\n",
       "    .dataframe thead th {\n",
       "        text-align: right;\n",
       "    }\n",
       "</style>\n",
       "<table border=\"1\" class=\"dataframe\">\n",
       "  <thead>\n",
       "    <tr style=\"text-align: right;\">\n",
       "      <th></th>\n",
       "      <th>Analytical Level</th>\n",
       "      <th>variable</th>\n",
       "      <th>value</th>\n",
       "    </tr>\n",
       "  </thead>\n",
       "  <tbody>\n",
       "    <tr>\n",
       "      <th>53</th>\n",
       "      <td>DSAA</td>\n",
       "      <td>Scala</td>\n",
       "      <td>Scala</td>\n",
       "    </tr>\n",
       "    <tr>\n",
       "      <th>92</th>\n",
       "      <td>DSAA</td>\n",
       "      <td>Scala</td>\n",
       "      <td>Scala</td>\n",
       "    </tr>\n",
       "    <tr>\n",
       "      <th>106</th>\n",
       "      <td>DSAA</td>\n",
       "      <td>Scala</td>\n",
       "      <td>Scala</td>\n",
       "    </tr>\n",
       "    <tr>\n",
       "      <th>133</th>\n",
       "      <td>DSAA</td>\n",
       "      <td>Scala</td>\n",
       "      <td>Scala</td>\n",
       "    </tr>\n",
       "    <tr>\n",
       "      <th>134</th>\n",
       "      <td>DSAA</td>\n",
       "      <td>Scala</td>\n",
       "      <td>Scala</td>\n",
       "    </tr>\n",
       "  </tbody>\n",
       "</table>\n",
       "</div>"
      ],
      "text/plain": [
       "    Analytical Level variable  value\n",
       "53              DSAA    Scala  Scala\n",
       "92              DSAA    Scala  Scala\n",
       "106             DSAA    Scala  Scala\n",
       "133             DSAA    Scala  Scala\n",
       "134             DSAA    Scala  Scala"
      ]
     },
     "execution_count": 466,
     "metadata": {},
     "output_type": "execute_result"
    }
   ],
   "source": [
    "df = pd.melt(UKjobs[['Scala','Python','Data_Science','Machine_Learning','SQL','Hadoop','Visualization','Research','Java','Analytical Level','R']],id_vars='Analytical Level')\n",
    "df2=df.loc[df['value']!=\"No\"]\n",
    "df2.head()\n"
   ]
  },
  {
   "cell_type": "code",
   "execution_count": 468,
   "metadata": {},
   "outputs": [
    {
     "data": {
      "image/png": "[encoded data removed]",
      "text/plain": [
       "<Figure size 720x576 with 1 Axes>"
      ]
     },
     "metadata": {
      "needs_background": "light"
     },
     "output_type": "display_data"
    }
   ],
   "source": [
    "fig, ax = plt.subplots(1, figsize=(10,8))\n",
    "ax=sns.countplot(data=df2, x='variable',hue='Analytical Level',order = df2['variable'].value_counts().index,palette='Paired')\n",
    "\n",
    "ax.set_ylim([0, 300])\n",
    "ax.set_ylabel(\"Number of Jobs\", fontsize=20)\n",
    "ax.set_xlabel(\"Skills\", fontsize=20)\n",
    "ax.set_title(\"How often are the top 10 skills mentioned \\n segmented by Analytical Levels?\", fontsize=20, color='Blue')\n",
    "\n",
    "sns.despine(offset=10)\n",
    "plt.xticks(rotation=90)\n",
    "plt.savefig('Figure/Skill_Analytical_Level.jpg')\n",
    "plt.show()"
   ]
  },
  {
   "cell_type": "code",
   "execution_count": 365,
   "metadata": {},
   "outputs": [
    {
     "data": {
      "text/plain": [
       "Analytical Level  variable        \n",
       "DSAA              Python              242\n",
       "                  Data_Science        224\n",
       "                  SQL                 187\n",
       "                  Machine_Learning    147\n",
       "                  Scala                71\n",
       "                  Java                 49\n",
       "                  Research             49\n",
       "                  Visualization        48\n",
       "                  Hadoop               29\n",
       "Non_DSAA          Data_Science        224\n",
       "                  Python              138\n",
       "                  SQL                 123\n",
       "                  Machine_Learning     77\n",
       "                  Visualization        59\n",
       "                  Java                 40\n",
       "                  Research             31\n",
       "                  Scala                22\n",
       "                  Hadoop                2\n",
       "Name: variable, dtype: int64"
      ]
     },
     "execution_count": 365,
     "metadata": {},
     "output_type": "execute_result"
    }
   ],
   "source": [
    "df2.groupby('Analytical Level')['variable'].value_counts()"
   ]
  },
  {
   "cell_type": "code",
   "execution_count": null,
   "metadata": {},
   "outputs": [],
   "source": []
  },
  {
   "cell_type": "code",
   "execution_count": null,
   "metadata": {},
   "outputs": [],
   "source": []
  },
  {
   "cell_type": "code",
   "execution_count": null,
   "metadata": {},
   "outputs": [],
   "source": []
  },
  {
   "cell_type": "code",
   "execution_count": null,
   "metadata": {},
   "outputs": [],
   "source": []
  },
  {
   "cell_type": "code",
   "execution_count": null,
   "metadata": {},
   "outputs": [],
   "source": []
  },
  {
   "cell_type": "code",
   "execution_count": null,
   "metadata": {},
   "outputs": [],
   "source": []
  },
  {
   "cell_type": "code",
   "execution_count": null,
   "metadata": {},
   "outputs": [],
   "source": []
  },
  {
   "cell_type": "code",
   "execution_count": null,
   "metadata": {},
   "outputs": [],
   "source": []
  }
 ],
 "metadata": {
  "kernelspec": {
   "display_name": "Python 3",
   "language": "python",
   "name": "python3"
  },
  "language_info": {
   "codemirror_mode": {
    "name": "ipython",
    "version": 3
   },
   "file_extension": ".py",
   "mimetype": "text/x-python",
   "name": "python",
   "nbconvert_exporter": "python",
   "pygments_lexer": "ipython3",
   "version": "3.8.3"
  }
 },
 "nbformat": 4,
 "nbformat_minor": 4
}
